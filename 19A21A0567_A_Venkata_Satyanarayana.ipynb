{
  "nbformat": 4,
  "nbformat_minor": 0,
  "metadata": {
    "colab": {
      "name": "19A21A0567-A.Venkata Satyanarayana.ipynb",
      "provenance": [],
      "collapsed_sections": [],
      "authorship_tag": "ABX9TyPKNbGZJie390Ia4AGetm+9",
      "include_colab_link": true
    },
    "kernelspec": {
      "name": "python3",
      "display_name": "Python 3"
    },
    "language_info": {
      "name": "python"
    }
  },
  "cells": [
    {
      "cell_type": "markdown",
      "metadata": {
        "id": "view-in-github",
        "colab_type": "text"
      },
      "source": [
        "<a href=\"https://colab.research.google.com/github/VenkataSatyanarayanaAddepalli567/VenkataSatyanarayanaAddepalli567/blob/main/19A21A0567_A_Venkata_Satyanarayana.ipynb\" target=\"_parent\"><img src=\"https://colab.research.google.com/assets/colab-badge.svg\" alt=\"Open In Colab\"/></a>"
      ]
    },
    {
      "cell_type": "markdown",
      "metadata": {
        "id": "qgJFwlpsGJg6"
      },
      "source": [
        "# **Exercise 1 - Basics**"
      ]
    },
    {
      "cell_type": "markdown",
      "metadata": {
        "id": "n0hWIwg5WU-5"
      },
      "source": [
        "**AIM:**"
      ]
    },
    {
      "cell_type": "markdown",
      "metadata": {
        "id": "lsE8FWe8GSJv"
      },
      "source": [
        "a) Running instructions in interactive,interpreter and a python script."
      ]
    },
    {
      "cell_type": "markdown",
      "metadata": {
        "id": "XBeNyfi6WfTs"
      },
      "source": [
        " **DESCRIPTION:**"
      ]
    },
    {
      "cell_type": "markdown",
      "metadata": {
        "id": "KXnawIShWoG1"
      },
      "source": [
        " Python is a high-level, interpreted, interactive and object-oriented \n",
        "scripting language. \n",
        "Python is designed to be highly readable.  It uses English keywords frequently where as other languages use \n",
        "punctuation, and it has fewer syntactical constructions than other languages. \n",
        " \n",
        "* Python is Interpreted \n",
        " \n",
        "* Python is Interactive \n",
        " \n",
        "* Python is Object-Oriented\n",
        " \n",
        "* Python is a Beginner's Language\n",
        " \n",
        "**Python Programming Running Python Scripts**\n",
        " \n",
        "Running Python in THREE ways: \n",
        " \n",
        "a) Running Python Interpreter \n",
        " \n",
        "b) Running Python Scripts in IDLE \n",
        " \n",
        "c) Running python scripts in Command Prompt \n",
        " \n",
        "**a) Running Python Interpreter:**\n",
        "Python comes with an interactive interpreter. When you type python in your shell or command prompt, the python interpreter becomes active with a >>> prompt and waits for your commands\n",
        " \n",
        "b) **Running Python Scripts in IDLE:**\n",
        ". Go to File menu click on New File (CTRL+N) and write the \n",
        "code and save first.py\n",
        " \n",
        "c) **Running python scripts in Command Prompt: ** **bold text**\n",
        "· Before going to run we have to check the PATH in environment \n",
        "variables."
      ]
    },
    {
      "cell_type": "markdown",
      "metadata": {
        "id": "cHIhvaDLXA6q"
      },
      "source": [
        "**PROGRAM:-**"
      ]
    },
    {
      "cell_type": "code",
      "metadata": {
        "colab": {
          "base_uri": "https://localhost:8080/"
        },
        "id": "1B6j9cbKhUXK",
        "outputId": "871ad287-e09c-4dad-d135-d7f97abc6bcb"
      },
      "source": [
        " print(\"Welcome to python lab\")"
      ],
      "execution_count": null,
      "outputs": [
        {
          "output_type": "stream",
          "text": [
            "Welcome to python lab\n"
          ],
          "name": "stdout"
        }
      ]
    },
    {
      "cell_type": "markdown",
      "metadata": {
        "id": "G5ZJluFYXPaA"
      },
      "source": [
        "**AIM:**"
      ]
    },
    {
      "cell_type": "markdown",
      "metadata": {
        "id": "4SpbO7Y9h7tT"
      },
      "source": [
        "b)Write a program to purposefully raise Indentation Error and Correct it"
      ]
    },
    {
      "cell_type": "markdown",
      "metadata": {
        "id": "djLrNHqIXlyS"
      },
      "source": [
        " **DESCRIPTION:**"
      ]
    },
    {
      "cell_type": "markdown",
      "metadata": {
        "id": "3Aqw-p-9Xvgh"
      },
      "source": [
        " **Indentation** \n",
        "* Python does not support braces to indicate blocks of code for class and \n",
        "function definitions or flow control. \n",
        " \n",
        "* Blocks of code are denoted by line indentation.\n",
        " \n",
        "* All the continuous lines indented with same number of spaces would form a block. \n",
        " \n",
        "* Python strictly follow indentation rules to indicate the blocks."
      ]
    },
    {
      "cell_type": "markdown",
      "metadata": {
        "id": "iFTUIYeFYwvd"
      },
      "source": [
        " **PROGRAM:**"
      ]
    },
    {
      "cell_type": "code",
      "metadata": {
        "colab": {
          "base_uri": "https://localhost:8080/",
          "height": 183
        },
        "id": "NKNsygbyildL",
        "outputId": "5637780b-1cd3-404a-af29-40b6124217b5"
      },
      "source": [
        " if True:\n",
        "    print(\"True\");\n",
        "   else:\n",
        "    print(\"false\");"
      ],
      "execution_count": null,
      "outputs": [
        {
          "output_type": "error",
          "ename": "IndentationError",
          "evalue": "ignored",
          "traceback": [
            "\u001b[0;36m  File \u001b[0;32m\"<ipython-input-1-2c87d8a5da42>\"\u001b[0;36m, line \u001b[0;32m3\u001b[0m\n\u001b[0;31m    else:\u001b[0m\n\u001b[0m         ^\u001b[0m\n\u001b[0;31mIndentationError\u001b[0m\u001b[0;31m:\u001b[0m unindent does not match any outer indentation level\n"
          ]
        }
      ]
    },
    {
      "cell_type": "markdown",
      "metadata": {
        "id": "2kq2BuN3ZMs_"
      },
      "source": [
        " Correct Program:"
      ]
    },
    {
      "cell_type": "code",
      "metadata": {
        "id": "xTdG1_jLjZzT",
        "colab": {
          "base_uri": "https://localhost:8080/"
        },
        "outputId": "26cc707e-b44f-409f-aa6d-fe403ee2d486"
      },
      "source": [
        "if True:\n",
        "    print(\"True\");\n",
        "else:\n",
        "    print(\"false\");"
      ],
      "execution_count": null,
      "outputs": [
        {
          "output_type": "stream",
          "name": "stdout",
          "text": [
            "True\n"
          ]
        }
      ]
    },
    {
      "cell_type": "markdown",
      "metadata": {
        "id": "1M3xLU7ej_HH"
      },
      "source": [
        "# **Exercise 2 - Operations**\n",
        "**AIM:**"
      ]
    },
    {
      "cell_type": "markdown",
      "metadata": {
        "id": "cT3zM0rNkG0S"
      },
      "source": [
        "a)Write a program to compute distance between two points taking input from the user."
      ]
    },
    {
      "cell_type": "markdown",
      "metadata": {
        "id": "OFvNa1D5ZhWq"
      },
      "source": [
        " **DESCRIPTION:**"
      ]
    },
    {
      "cell_type": "markdown",
      "metadata": {
        "id": "KGWBNsjrZnfg"
      },
      "source": [
        " **Taking Input From the User:**\n",
        "A function is defined as a block of organized, reusable code used to perform a single, related action. Python has many built-in functions; you can also create your own. \n",
        " \n",
        "Python has an input function which lets you ask a user for some text input. You call this function to tell the program to stop and wait for the user to key in the data.\n",
        " \n",
        " In Python 2, you have a built-in function raw_input(), whereas in Python 3, you have input(). The program will resume once the user presses the ENTER or RETURN key.\n",
        " \n",
        " **Input Function**\n",
        " \n",
        "input(prompt=None,/). \n",
        " \n",
        "Read a string from standard input. The trailing newline is stripped. \n",
        " \n",
        "The prompt string, if given, is printed to standard output without a trailing newline before reading input. \n",
        " \n",
        "If the user hits EOF (*nix: Ctrl-D, Windows: Ctrl Z+Return), raise EOFError."
      ]
    },
    {
      "cell_type": "markdown",
      "metadata": {
        "id": "B49q0NALZvI2"
      },
      "source": [
        " **PROGRAM**"
      ]
    },
    {
      "cell_type": "code",
      "metadata": {
        "colab": {
          "base_uri": "https://localhost:8080/"
        },
        "id": "Pu15vxNhkemP",
        "outputId": "79bc900c-74de-43ee-f056-38005d404ecf"
      },
      "source": [
        "import math\n",
        "x1=int(input(\"Enter x1 value:\"))\n",
        "x2=int(input(\"Enter x2 value:\"))\n",
        "y1=int(input(\"Enter y1 value:\"))\n",
        "y2=int(input(\"Enter y2 value:\"))\n",
        " \n",
        "d=math.sqrt(((x2-x1)**2)+((y2-y1)**2))\n",
        "print(\"Distance of two points:2\",d)"
      ],
      "execution_count": null,
      "outputs": [
        {
          "output_type": "stream",
          "text": [
            "Enter x1 value:10\n",
            "Enter x2 value:20\n",
            "Enter y1 value:50\n",
            "Enter y2 value:60\n",
            "Distance of two points:2 14.142135623730951\n"
          ],
          "name": "stdout"
        }
      ]
    },
    {
      "cell_type": "markdown",
      "metadata": {
        "id": "6bZdgzUBZ9B9"
      },
      "source": [
        "**AIM:**"
      ]
    },
    {
      "cell_type": "markdown",
      "metadata": {
        "id": "CMpcNXZgmBwA"
      },
      "source": [
        "b)write a program add.py that takes 2 numbers as command line arguments and print its sum."
      ]
    },
    {
      "cell_type": "markdown",
      "metadata": {
        "id": "AdWpE-DzZ-my"
      },
      "source": [
        " **DESCRIPTION:**"
      ]
    },
    {
      "cell_type": "markdown",
      "metadata": {
        "id": "jUZIzYjKaJIH"
      },
      "source": [
        " The arguments that are given after the name of the program in the command line shell of the operating system are known as Command Line Arguments. Python provides various ways of dealing with these types of arguments. The three most common are: \n",
        " \n",
        "Using sys.argv\n",
        " \n",
        "Using getopt module\n",
        " \n",
        "Using argparse module\n",
        " \n",
        "Using sys.argv\n",
        " \n",
        "The sys module provides functions and variables used to manipulate different parts of the Python runtime environment. This module provides access to some variables used or maintained by the interpreter and to functions that interact strongly with the interpreter.\n",
        " \n",
        "One such variable is sys.argv which is a simple list structure. It’s main purpose are:\n",
        " \n",
        "* It is a list of command line arguments.\n",
        " \n",
        "* len(sys.argv) provides the number of command line arguments.\n",
        " \n",
        "* sys.argv[0] is the name of the current Python script."
      ]
    },
    {
      "cell_type": "markdown",
      "metadata": {
        "id": "wokjeSgbaXXW"
      },
      "source": [
        "  **PROGRAM**"
      ]
    },
    {
      "cell_type": "code",
      "metadata": {
        "colab": {
          "base_uri": "https://localhost:8080/",
          "height": 339
        },
        "id": "Sphmp7D6mYyy",
        "outputId": "90a25d3e-e158-47e8-dec9-170346a09c6b"
      },
      "source": [
        "import sys\n",
        "a=sys.argv[1]\n",
        "b=sys.argv[2]\n",
        "sum=int(a)+int(b)\n",
        "print(\"sum of two number is:\",sum)"
      ],
      "execution_count": null,
      "outputs": [
        {
          "output_type": "error",
          "ename": "ValueError",
          "evalue": "ignored",
          "traceback": [
            "\u001b[0;31m---------------------------------------------------------------------------\u001b[0m",
            "\u001b[0;31mValueError\u001b[0m                                Traceback (most recent call last)",
            "\u001b[0;32m<ipython-input-3-d4399f56e3d5>\u001b[0m in \u001b[0;36m<module>\u001b[0;34m()\u001b[0m\n\u001b[1;32m      2\u001b[0m \u001b[0ma\u001b[0m\u001b[0;34m=\u001b[0m\u001b[0msys\u001b[0m\u001b[0;34m.\u001b[0m\u001b[0margv\u001b[0m\u001b[0;34m[\u001b[0m\u001b[0;36m1\u001b[0m\u001b[0;34m]\u001b[0m\u001b[0;34m\u001b[0m\u001b[0;34m\u001b[0m\u001b[0m\n\u001b[1;32m      3\u001b[0m \u001b[0mb\u001b[0m\u001b[0;34m=\u001b[0m\u001b[0msys\u001b[0m\u001b[0;34m.\u001b[0m\u001b[0margv\u001b[0m\u001b[0;34m[\u001b[0m\u001b[0;36m2\u001b[0m\u001b[0;34m]\u001b[0m\u001b[0;34m\u001b[0m\u001b[0;34m\u001b[0m\u001b[0m\n\u001b[0;32m----> 4\u001b[0;31m \u001b[0msum\u001b[0m\u001b[0;34m=\u001b[0m\u001b[0mint\u001b[0m\u001b[0;34m(\u001b[0m\u001b[0ma\u001b[0m\u001b[0;34m)\u001b[0m\u001b[0;34m+\u001b[0m\u001b[0mint\u001b[0m\u001b[0;34m(\u001b[0m\u001b[0mb\u001b[0m\u001b[0;34m)\u001b[0m\u001b[0;34m\u001b[0m\u001b[0;34m\u001b[0m\u001b[0m\n\u001b[0m\u001b[1;32m      5\u001b[0m \u001b[0mprint\u001b[0m\u001b[0;34m(\u001b[0m\u001b[0;34m\"sum of two number is:\"\u001b[0m\u001b[0;34m,\u001b[0m\u001b[0msum\u001b[0m\u001b[0;34m)\u001b[0m\u001b[0;34m\u001b[0m\u001b[0;34m\u001b[0m\u001b[0m\n",
            "\u001b[0;31mValueError\u001b[0m: invalid literal for int() with base 10: '-f'"
          ]
        }
      ]
    },
    {
      "cell_type": "markdown",
      "metadata": {
        "id": "Zjw9srpqohzG"
      },
      "source": [
        "# **Exercise - 3 Control Flow**\n",
        " \n",
        "**AIM:**"
      ]
    },
    {
      "cell_type": "markdown",
      "metadata": {
        "id": "fO152zkXozIX"
      },
      "source": [
        "a)Write a Program for checking whether the given number is an even number or not."
      ]
    },
    {
      "cell_type": "markdown",
      "metadata": {
        "id": "of4_msEhasyI"
      },
      "source": [
        " **DESCRIPTION:**"
      ]
    },
    {
      "cell_type": "markdown",
      "metadata": {
        "id": "cyHMd716at6C"
      },
      "source": [
        " **if..else Statement**\n",
        "When there is an alternate operation in control flow, use an else statement alongside with if statement. The general format is\n",
        " \n",
        "if condition:\n",
        " \n",
        "        true statement\n",
        " \n",
        "else:\n",
        " \n",
        "         false statement"
      ]
    },
    {
      "cell_type": "markdown",
      "metadata": {
        "id": "VUG2MGV4aoEd"
      },
      "source": [
        " **PROGRAM**"
      ]
    },
    {
      "cell_type": "code",
      "metadata": {
        "colab": {
          "base_uri": "https://localhost:8080/"
        },
        "id": "c1YA6UbNpGxu",
        "outputId": "a8f68b60-ec10-474c-89e6-73988d6e0d89"
      },
      "source": [
        "#To Check given Number is Even or Odd\n",
        "n=int (input(\"Enter a Number:\"))\n",
        "if n%2==0:\n",
        "  print(\"Given Number is Even\")\n",
        "else:\n",
        "  print(\"Given Number is Odd\")"
      ],
      "execution_count": null,
      "outputs": [
        {
          "output_type": "stream",
          "text": [
            "Enter a Number:10\n",
            "Given Number is Even\n"
          ],
          "name": "stdout"
        }
      ]
    },
    {
      "cell_type": "markdown",
      "metadata": {
        "id": "CXT287Dga-g5"
      },
      "source": [
        "**AIM:**"
      ]
    },
    {
      "cell_type": "markdown",
      "metadata": {
        "id": "moTyQin1qCUk"
      },
      "source": [
        "b)Using a for loop,write a program that prints out the decimal epuivalents of 1/2,1/3,1/4....1/10."
      ]
    },
    {
      "cell_type": "markdown",
      "metadata": {
        "id": "YI2qEpwebEtf"
      },
      "source": [
        " **DESCRIPTION**"
      ]
    },
    {
      "cell_type": "markdown",
      "metadata": {
        "id": "uNhx1usibNAq"
      },
      "source": [
        " **For Loop:**\n",
        "For loops can iterate over a sequence of numbers using the \"range\" and \"xrange\" functions. The difference between range and xrange is that the range function returns a new list with numbers of that specified range, whereas xrange returns an iterator, which is more efficient. \n",
        " \n",
        "The general format is\n",
        " \n",
        "for x in range(start,stop,step):\n",
        " \n",
        "statements"
      ]
    },
    {
      "cell_type": "markdown",
      "metadata": {
        "id": "mP7Jwp4vbSv-"
      },
      "source": [
        " **PROGRAM**"
      ]
    },
    {
      "cell_type": "code",
      "metadata": {
        "colab": {
          "base_uri": "https://localhost:8080/"
        },
        "id": "Y6JOmnpOqiuG",
        "outputId": "26c17a22-d62a-4182-e06b-f0459918d87b"
      },
      "source": [
        "n=int (input(\"Enter a Number:\"))\n",
        "for i  in range(2,n):\n",
        "  de=1/i\n",
        "  print(\"1/\"+str(i)+\"=\",de)"
      ],
      "execution_count": null,
      "outputs": [
        {
          "output_type": "stream",
          "text": [
            "Enter a Number:10\n",
            "1/2= 0.5\n",
            "1/3= 0.3333333333333333\n",
            "1/4= 0.25\n",
            "1/5= 0.2\n",
            "1/6= 0.16666666666666666\n",
            "1/7= 0.14285714285714285\n",
            "1/8= 0.125\n",
            "1/9= 0.1111111111111111\n"
          ],
          "name": "stdout"
        }
      ]
    },
    {
      "cell_type": "markdown",
      "metadata": {
        "id": "d-F4rc5CbZwQ"
      },
      "source": [
        "**AIM:**"
      ]
    },
    {
      "cell_type": "markdown",
      "metadata": {
        "id": "Ft-D97h1sbqR"
      },
      "source": [
        "c)Write a program using a for loop over a sequence.what is sequence?"
      ]
    },
    {
      "cell_type": "markdown",
      "metadata": {
        "id": "V-QFB1W6bfxt"
      },
      "source": [
        " **DESCRIPTION**"
      ]
    },
    {
      "cell_type": "markdown",
      "metadata": {
        "id": "n0UPzkJRbj85"
      },
      "source": [
        " **For Loop:**\n",
        "For loops can iterate over a sequence of numbers using the \"range\" and \"xrange\" functions. The difference between range and xrange is that the range function returns a new list with numbers of that specified range, whereas xrange returns an iterator, which is more efficient. \n",
        " \n",
        "The general format is\n",
        " \n",
        "for x in range(start,stop,step):\n",
        " \n",
        "statements"
      ]
    },
    {
      "cell_type": "markdown",
      "metadata": {
        "id": "MmI4EqWbbwO5"
      },
      "source": [
        " **PROGRAM**"
      ]
    },
    {
      "cell_type": "code",
      "metadata": {
        "colab": {
          "base_uri": "https://localhost:8080/"
        },
        "id": "wAQn0wHxs5fA",
        "outputId": "3adec3b5-0400-42ad-83f2-f4dc7c84719d"
      },
      "source": [
        "arr=[4,\"abc\",-45,\"C\",10.5,\"True\",10.6,\"xyz\"]\n",
        "print(\"Given array:arr\")\n",
        "for x in arr:\n",
        "  print(x)"
      ],
      "execution_count": null,
      "outputs": [
        {
          "output_type": "stream",
          "text": [
            "Given array:arr\n",
            "4\n",
            "abc\n",
            "-45\n",
            "C\n",
            "10.5\n",
            "True\n",
            "10.6\n",
            "xyz\n"
          ],
          "name": "stdout"
        }
      ]
    },
    {
      "cell_type": "markdown",
      "metadata": {
        "id": "vfifLCCsb390"
      },
      "source": [
        " **AIM:**"
      ]
    },
    {
      "cell_type": "markdown",
      "metadata": {
        "id": "JKbwP5SUthLN"
      },
      "source": [
        "d)Write a program using a while loop that asks the user for a number,and prints a countdown from that number to zero."
      ]
    },
    {
      "cell_type": "markdown",
      "metadata": {
        "id": "zhTfXrr3cALF"
      },
      "source": [
        " **DESCRIPTION:**\n",
        " \n",
        " While Loop is used to execute a block of statements repeatedly until a given condition is satisfied. And when the condition becomes false, the line immediately after the loop in the program is executed. While loop falls under the category of indefinite iteration\n",
        " \n",
        " The syntax for a while loop is: \n",
        " \n",
        " while [ condition]"
      ]
    },
    {
      "cell_type": "markdown",
      "metadata": {
        "id": "6P4hkj_9cFpf"
      },
      "source": [
        " **PROGRAM**"
      ]
    },
    {
      "cell_type": "code",
      "metadata": {
        "colab": {
          "base_uri": "https://localhost:8080/"
        },
        "id": "ibj1e24ZuDm-",
        "outputId": "5aef984a-9990-40ed-9811-0de7cc641017"
      },
      "source": [
        "n=int (input(\"Enter value of n:\"))\n",
        "while n>=0:\n",
        "  print(n)\n",
        "  n-=1"
      ],
      "execution_count": null,
      "outputs": [
        {
          "output_type": "stream",
          "text": [
            "Enter value of n:10\n",
            "10\n",
            "9\n",
            "8\n",
            "7\n",
            "6\n",
            "5\n",
            "4\n",
            "3\n",
            "2\n",
            "1\n",
            "0\n"
          ],
          "name": "stdout"
        }
      ]
    },
    {
      "cell_type": "markdown",
      "metadata": {
        "id": "HLu8f1E8PPjg"
      },
      "source": [
        "# **Exercise 4 - Control Flow - Continued**"
      ]
    },
    {
      "cell_type": "markdown",
      "metadata": {
        "id": "xdrhBBO1cRIU"
      },
      "source": [
        " **AIM:**"
      ]
    },
    {
      "cell_type": "markdown",
      "metadata": {
        "id": "VK1J9hZJPjjF"
      },
      "source": [
        "a) Find the sum of all the primes below two million."
      ]
    },
    {
      "cell_type": "markdown",
      "metadata": {
        "id": "lJJwBiGacdH4"
      },
      "source": [
        "**DESCRIPTION:**\n",
        " \n",
        "A Fibonacci sequence is the integer sequence of 0, 1, 1, 2, 3, 5, 8....\n",
        " \n",
        "The first two terms are 0 and 1. All other terms are obtained by adding the preceding two terms. This means to say the nth term is the sum of (n-1)th and (n-2)th term\n",
        " \n",
        "Here, we store the number of terms in nterms. We initialize the first term to 0 and the second term to 1.\n",
        " \n",
        "If the number of terms is more than 2, we use a while loop to find the next term in the sequence by adding the preceding two terms. We then interchange the variables (update it) and continue on with the process."
      ]
    },
    {
      "cell_type": "markdown",
      "metadata": {
        "id": "YSh2gGV8cmx6"
      },
      "source": [
        " **PROGRAM**"
      ]
    },
    {
      "cell_type": "code",
      "metadata": {
        "colab": {
          "base_uri": "https://localhost:8080/"
        },
        "id": "YCUz8T0VPpeX",
        "outputId": "d25489b9-c2b1-419c-b117-cbb4e9442000"
      },
      "source": [
        "n=int (input(\"Enter an ending number: \"))\n",
        " \n",
        "st=\"\"\n",
        "sum=0\n",
        "for i in range(2,n):\n",
        "  state=True\n",
        "  for j in range(2,i):\n",
        "   if(i%j)==0:\n",
        "      state=False\n",
        "      break;\n",
        "  if state==True:\n",
        "     st+=\"\"+str(i)\n",
        "     sum+=i\n",
        "print(\"prime numbers:\")\n",
        "print(st)\n",
        "print(\"Sum of prime numbers\", sum)"
      ],
      "execution_count": null,
      "outputs": [
        {
          "output_type": "stream",
          "text": [
            "Enter an ending number: 100\n",
            "prime numbers:\n",
            "2357111317192329313741434753596167717379838997\n",
            "Sum of prime numbers 1060\n"
          ],
          "name": "stdout"
        }
      ]
    },
    {
      "cell_type": "markdown",
      "metadata": {
        "id": "Wn_L_igncWhL"
      },
      "source": [
        "  **AIM:**"
      ]
    },
    {
      "cell_type": "markdown",
      "metadata": {
        "id": "6LoGjF3KS5Ha"
      },
      "source": [
        "b) Each new term in the Fibonacci sequence is generated by adding the previous two terms. By starting with 1 and 2, the first 10 terms will be: 1, 2, 3, 5, 8, 13, 21, 34, 55,89...."
      ]
    },
    {
      "cell_type": "markdown",
      "metadata": {
        "id": "pYccq1MqcueL"
      },
      "source": [
        " **DESCRIPTION:**\n",
        " \n",
        "A Fibonacci sequence is the integer sequence of 0, 1, 1, 2, 3, 5, 8....\n",
        " \n",
        "The first two terms are 0 and 1. All other terms are obtained by adding the preceding two terms. This means to say the nth term is the sum of (n-1)th and (n-2)th term\n",
        " \n",
        "Here, we store the number of terms in nterms. We initialize the first term to 0 and the second term to 1.\n",
        " \n",
        "If the number of terms is more than 2, we use a while loop to find the next term in the sequence by adding the preceding two terms. We then interchange the variables (update it) and continue on with the process."
      ]
    },
    {
      "cell_type": "markdown",
      "metadata": {
        "id": "PQLah3H2dH6N"
      },
      "source": [
        " **PROGRAM**"
      ]
    },
    {
      "cell_type": "code",
      "metadata": {
        "colab": {
          "base_uri": "https://localhost:8080/"
        },
        "id": "V6leVdwxTP7f",
        "outputId": "61f3619a-5cf9-40d1-aa1e-e15bd41756ba"
      },
      "source": [
        "n=int (input (\"Enter a value:\"))\n",
        "a=1\n",
        "b=2\n",
        "c=a+b\n",
        "while c<n:\n",
        "  print (c,end='')\n",
        "  a=b\n",
        "  b=c\n",
        "  c=a+b"
      ],
      "execution_count": null,
      "outputs": [
        {
          "output_type": "stream",
          "text": [
            "Enter a value:5\n",
            "3"
          ],
          "name": "stdout"
        }
      ]
    },
    {
      "cell_type": "markdown",
      "metadata": {
        "id": "Yuw4_hXCcZsw"
      },
      "source": [
        "  **AIM:**"
      ]
    },
    {
      "cell_type": "markdown",
      "metadata": {
        "id": "ueJTvaxaVjGk"
      },
      "source": [
        "c)By considering the term in the Fabonacci sequence values do not exceed four million,find the sum of even-valued terms."
      ]
    },
    {
      "cell_type": "markdown",
      "metadata": {
        "id": "3JJaubGzdyPm"
      },
      "source": [
        " **PROGRAM**"
      ]
    },
    {
      "cell_type": "code",
      "metadata": {
        "colab": {
          "base_uri": "https://localhost:8080/"
        },
        "id": "GgNgVUcfWRF6",
        "outputId": "30cc658b-f4ba-4df5-d8d2-ec4a7310b1a4"
      },
      "source": [
        "n=int(input(\"Enter the number of terms:\")) \n",
        "a=0\n",
        "b=1 \n",
        "c=a+b\n",
        "sum=0\n",
        "count=0\n",
        "st= \" \" \n",
        "while count<n: \n",
        "   st+=\" \"+str(c)\n",
        "   if (c%2==0):\n",
        "       sum+=c\n",
        "   a=b\n",
        "   b=c\n",
        "   c=a+b\n",
        "   count+=1\n",
        "print(\"fibonacci series ...\")\n",
        "print(st)\n",
        "print(\"Sum of the even valued terms  fibnoicc series is \",sum)"
      ],
      "execution_count": null,
      "outputs": [
        {
          "output_type": "stream",
          "text": [
            "Enter the number of terms:2\n",
            "fibonacci series ...\n",
            "  1 2\n",
            "Sum of the even valued terms  fibnoicc series is  2\n"
          ],
          "name": "stdout"
        }
      ]
    },
    {
      "cell_type": "markdown",
      "metadata": {
        "id": "I-4VGUhDo35c"
      },
      "source": [
        "## **Exercise - 5 - DS**"
      ]
    },
    {
      "cell_type": "markdown",
      "metadata": {
        "id": "83khmi2Ld8Qq"
      },
      "source": [
        "  **AIM:**"
      ]
    },
    {
      "cell_type": "markdown",
      "metadata": {
        "id": "RWW8OU03uHUj"
      },
      "source": [
        "a) Write a program to count the numbers of characters in the string and store them in a dictionary data structure"
      ]
    },
    {
      "cell_type": "markdown",
      "metadata": {
        "id": "z_E-CtV3eGmR"
      },
      "source": [
        " **DESCRIPTION:**\n",
        " \n",
        "Given a string, the task is to find the frequencies of all the characters in that string and return a dictionary with key as the character and its value as its frequency in the given string.\n",
        " \n",
        "Method #1 : Naive method\n",
        " \n",
        "Simply iterate through the string and form a key in dictionary of newly occurred element or if element is already occurred, increase its value by 1.\n",
        " \n",
        "Method #2 : Using collections.Counter()\n",
        " \n",
        "The most suggested method that could be used to find all occurrences is this method, this actually gets all element frequency and could also be used to print single element frequency if required."
      ]
    },
    {
      "cell_type": "markdown",
      "metadata": {
        "id": "Dh3RtciHeMeJ"
      },
      "source": [
        " **PROGRAM**"
      ]
    },
    {
      "cell_type": "code",
      "metadata": {
        "colab": {
          "base_uri": "https://localhost:8080/"
        },
        "id": "ZNEMHtbeuVcs",
        "outputId": "738b0000-07e7-4f48-f406-8fd7123f91e8"
      },
      "source": [
        "name=input (\"Enter a Name:\")\n",
        "dic={}\n",
        " \n",
        "for ch in name:\n",
        "   keys=dic.keys()\n",
        "   if(ch in keys):\n",
        "       dic[ch]=dic [ch]+1\n",
        "   else:\n",
        "       dic[ch]=1\n",
        "print (\"Dictionary is:\",dic)"
      ],
      "execution_count": null,
      "outputs": [
        {
          "output_type": "stream",
          "text": [
            "Enter a Name:Satyanarayana\n",
            "Dictionary is: {'S': 1, 'a': 6, 't': 1, 'y': 2, 'n': 2, 'r': 1}\n"
          ],
          "name": "stdout"
        }
      ]
    },
    {
      "cell_type": "markdown",
      "metadata": {
        "id": "yji9-mfAeC4U"
      },
      "source": [
        "   **AIM:**"
      ]
    },
    {
      "cell_type": "markdown",
      "metadata": {
        "id": "mlPaYMGdv-HO"
      },
      "source": [
        "b) Write a program to use split and join methods in the string and trace a birthday with a dictionary data structure."
      ]
    },
    {
      "cell_type": "markdown",
      "metadata": {
        "id": "ZWDc1AiUeRyx"
      },
      "source": [
        " **DESCRIPTION:**\n",
        " \n",
        "Python program to Split a string based on a delimiter and join the string using another delimiter.\n",
        " \n",
        "Split a string can be quite useful sometimes, especially when you need only certain parts of strings. A simple yet effective example is splitting the First-name and Last-name of a person. Another application is CSV(Comma Separated Files). We use split to get data from CSV and join to write data to CSV.\n",
        " \n",
        "In Python, we can use the function split() to split a string and \n",
        " \n",
        "join() to join a string."
      ]
    },
    {
      "cell_type": "markdown",
      "metadata": {
        "id": "e1SP5xvIeSEL"
      },
      "source": [
        "  **PROGRAM**"
      ]
    },
    {
      "cell_type": "code",
      "metadata": {
        "colab": {
          "base_uri": "https://localhost:8080/"
        },
        "id": "2iuCKf3SwF7c",
        "outputId": "908d84ae-168d-4443-a733-ad218fb5d58e"
      },
      "source": [
        "dob={\"Satyanarayana\":\"24-Sept-2000\",\"AVSN\":\"10-Nov-2000\"}\n",
        " \n",
        "name=input(\"\\nWhich person DOB you want: \")\n",
        " \n",
        "l=name.split()\n",
        " \n",
        "birth=\"\"\n",
        " \n",
        "for i in l:\n",
        " \n",
        "   if i in dob.keys():\n",
        "      pers=i\n",
        " \n",
        "print(\"\".join([pers, \"Birthday is\",dob[pers]]))"
      ],
      "execution_count": null,
      "outputs": [
        {
          "output_type": "stream",
          "text": [
            "\n",
            "Which person DOB you want: Satyanarayana\n",
            "SatyanarayanaBirthday is24-Sept-2000\n"
          ],
          "name": "stdout"
        }
      ]
    },
    {
      "cell_type": "markdown",
      "metadata": {
        "id": "VKmLEH5-7NvW"
      },
      "source": [
        "## **Exercise - 6 DS - Continued**\n",
        " \n",
        "**AIM:**"
      ]
    },
    {
      "cell_type": "markdown",
      "metadata": {
        "id": "jWfrW1s28bSW"
      },
      "source": [
        "a) Write a program combine lists that combines these lists into a dictionary."
      ]
    },
    {
      "cell_type": "markdown",
      "metadata": {
        "id": "K0mfFynPeicP"
      },
      "source": [
        " **DESCRIPTION:**\n",
        " \n",
        "For this, simply declare a dictionary, and then run nested loop for both the lists and assign key and value pairs to from list values to dictionary.\n",
        " \n",
        "Most pythonic and generic method to perform this very task is by using zip(). This function pairs the list element with other list element at corresponding index in form of key-value pairs."
      ]
    },
    {
      "cell_type": "markdown",
      "metadata": {
        "id": "8RPqUZpCeowU"
      },
      "source": [
        " **PROGRAM**"
      ]
    },
    {
      "cell_type": "code",
      "metadata": {
        "colab": {
          "base_uri": "https://localhost:8080/"
        },
        "id": "xQfI-D-481g7",
        "outputId": "0596a9e3-3a31-45d2-d0e3-ad74c929c9b0"
      },
      "source": [
        "subj=[\"PPL\",\"OS\",\"DBMS\",\"DAA\",\"SE\",\"P&S\"]\n",
        "marks=[89,86,76,90,79,80]\n",
        "print(\"Given list are:\")\n",
        "print(\"Subjects names\",subj)\n",
        "print(\"Marks values:\",marks)\n",
        "dic=dict(zip(subj,marks))\n",
        "print (\"\\n Dictionary :\",dic)"
      ],
      "execution_count": null,
      "outputs": [
        {
          "output_type": "stream",
          "text": [
            "Given list are:\n",
            "Subjects names ['PPL', 'OS', 'DBMS', 'DAA', 'SE', 'P&S']\n",
            "Marks values: [89, 86, 76, 90, 79, 80]\n",
            "\n",
            " Dictionary : {'PPL': 89, 'OS': 86, 'DBMS': 76, 'DAA': 90, 'SE': 79, 'P&S': 80}\n"
          ],
          "name": "stdout"
        }
      ]
    },
    {
      "cell_type": "markdown",
      "metadata": {
        "id": "WG8bFcRYe3uj"
      },
      "source": [
        "   **AIM:**"
      ]
    },
    {
      "cell_type": "markdown",
      "metadata": {
        "id": "x1KF9N-gDwNH"
      },
      "source": [
        "b) Write a program to count frequency of characters in a given file. Can you use character frequency to tell whether the given file is a Python program file, C program file or a text file?"
      ]
    },
    {
      "cell_type": "markdown",
      "metadata": {
        "id": "a3cqhu3Weu1z"
      },
      "source": [
        " **DESCRIPTION:**\n",
        " \n",
        "approaches to count the number of times a letter appears in a text file in Python.\n",
        " \n",
        "Method 1: Using the in-built count() method.\n",
        " \n",
        "**Approach:**\n",
        " \n",
        "1. Read the file.\n",
        "2. Store the content of the file in a variable.\n",
        "3. Use the count() method with the argument as a letter whose frequency is required.\n",
        "4. Display the count of the letter."
      ]
    },
    {
      "cell_type": "markdown",
      "metadata": {
        "id": "PppqGEYaevcC"
      },
      "source": [
        " **PROGRAM**"
      ]
    },
    {
      "cell_type": "code",
      "metadata": {
        "colab": {
          "base_uri": "https://localhost:8080/",
          "height": 408
        },
        "id": "6O59Q99SD1sm",
        "outputId": "beca1764-bbd2-437d-b9ba-0967179edd55"
      },
      "source": [
        "filetypes=['.py','.c','.txt']\n",
        "fn=input(\"Enter the file name:\")\n",
        "f=open(fn,\"r\")\n",
        "count=dict()\n",
        "print(\"Given file is\",end=\"\")\n",
        "for ft in filetypes:\n",
        "  if(ft in fn):\n",
        "    if(ft=='.py'):\n",
        "      print(\"Python file\")\n",
        "    elif(ft=='.c'):\n",
        "      print(\"C File\")\n",
        "    elif(ft=='.txt'):\n",
        "       print(\"Text File\")\n",
        "for line in f:\n",
        "  for ch in line:\n",
        "    if ch in count:\n",
        "      count[ch]=count[ch]+1\n",
        "    else:\n",
        "      count[ch]=1\n",
        "print(count)\n",
        "f.close()"
      ],
      "execution_count": null,
      "outputs": [
        {
          "name": "stdout",
          "output_type": "stream",
          "text": [
            "Enter the file name:abc\n"
          ]
        },
        {
          "output_type": "error",
          "ename": "FileNotFoundError",
          "evalue": "ignored",
          "traceback": [
            "\u001b[0;31m---------------------------------------------------------------------------\u001b[0m",
            "\u001b[0;31mFileNotFoundError\u001b[0m                         Traceback (most recent call last)",
            "\u001b[0;32m<ipython-input-4-40147542e393>\u001b[0m in \u001b[0;36m<module>\u001b[0;34m()\u001b[0m\n\u001b[1;32m      1\u001b[0m \u001b[0mfiletypes\u001b[0m\u001b[0;34m=\u001b[0m\u001b[0;34m[\u001b[0m\u001b[0;34m'.py'\u001b[0m\u001b[0;34m,\u001b[0m\u001b[0;34m'.c'\u001b[0m\u001b[0;34m,\u001b[0m\u001b[0;34m'.txt'\u001b[0m\u001b[0;34m]\u001b[0m\u001b[0;34m\u001b[0m\u001b[0;34m\u001b[0m\u001b[0m\n\u001b[1;32m      2\u001b[0m \u001b[0mfn\u001b[0m\u001b[0;34m=\u001b[0m\u001b[0minput\u001b[0m\u001b[0;34m(\u001b[0m\u001b[0;34m\"Enter the file name:\"\u001b[0m\u001b[0;34m)\u001b[0m\u001b[0;34m\u001b[0m\u001b[0;34m\u001b[0m\u001b[0m\n\u001b[0;32m----> 3\u001b[0;31m \u001b[0mf\u001b[0m\u001b[0;34m=\u001b[0m\u001b[0mopen\u001b[0m\u001b[0;34m(\u001b[0m\u001b[0mfn\u001b[0m\u001b[0;34m,\u001b[0m\u001b[0;34m\"r\"\u001b[0m\u001b[0;34m)\u001b[0m\u001b[0;34m\u001b[0m\u001b[0;34m\u001b[0m\u001b[0m\n\u001b[0m\u001b[1;32m      4\u001b[0m \u001b[0mcount\u001b[0m\u001b[0;34m=\u001b[0m\u001b[0mdict\u001b[0m\u001b[0;34m(\u001b[0m\u001b[0;34m)\u001b[0m\u001b[0;34m\u001b[0m\u001b[0;34m\u001b[0m\u001b[0m\n\u001b[1;32m      5\u001b[0m \u001b[0mprint\u001b[0m\u001b[0;34m(\u001b[0m\u001b[0;34m\"Given file is\"\u001b[0m\u001b[0;34m,\u001b[0m\u001b[0mend\u001b[0m\u001b[0;34m=\u001b[0m\u001b[0;34m\"\"\u001b[0m\u001b[0;34m)\u001b[0m\u001b[0;34m\u001b[0m\u001b[0;34m\u001b[0m\u001b[0m\n",
            "\u001b[0;31mFileNotFoundError\u001b[0m: [Errno 2] No such file or directory: 'abc'"
          ]
        }
      ]
    },
    {
      "cell_type": "markdown",
      "metadata": {
        "id": "bXEm1mziHx9L"
      },
      "source": [
        "## **Exercise - 7 Files**\n",
        " \n",
        "**AIM**"
      ]
    },
    {
      "cell_type": "markdown",
      "metadata": {
        "id": "L5RfIbVrcpFv"
      },
      "source": [
        "a) Write a program to print each line of a file in reverse order."
      ]
    },
    {
      "cell_type": "markdown",
      "metadata": {
        "id": "mREs-AEifniX"
      },
      "source": [
        " **DESCRIPTION:** \n",
        "The file handling plays an important role when the data needs to be stored permanently into the\n",
        "file. A file is a named location on disk to store related information. We can access the stored\n",
        "information (non-volatile) after the program termination.\n",
        "In Python, files are treated in two modes as text or binary. The file may be in the text or binary\n",
        "format, and each line of a file is ended with the special character.\n",
        "Hence, a file operation can be done in the following order.\n",
        " \n",
        " Open a file\n",
        " \n",
        " Read or write - Performing operation\n",
        " \n",
        " Close the file"
      ]
    },
    {
      "cell_type": "markdown",
      "metadata": {
        "id": "Q73LmT83fs8A"
      },
      "source": [
        " **PROGRAM:**"
      ]
    },
    {
      "cell_type": "code",
      "metadata": {
        "colab": {
          "base_uri": "https://localhost:8080/",
          "height": 374
        },
        "id": "T0Uxscovc_zx",
        "outputId": "db271e01-2ffb-4de9-d965-445e73245a2b"
      },
      "source": [
        "obj=open(\"abc.txt\",\"r\")\n",
        "if obj:\n",
        "  st=obj.read()\n",
        "  print(\"File content is:\\n\",st)\n",
        "obj.close()\n",
        "print()\n",
        "lines=st.split('\\n')\n",
        "for ln in lines:\n",
        "  i=len(ln)-1\n",
        "  while(i>=0):\n",
        "    print(ln[i],end=\"\")\n",
        "    i=i-1\n",
        "  print()"
      ],
      "execution_count": null,
      "outputs": [
        {
          "output_type": "error",
          "ename": "FileNotFoundError",
          "evalue": "ignored",
          "traceback": [
            "\u001b[0;31m---------------------------------------------------------------------------\u001b[0m",
            "\u001b[0;31mFileNotFoundError\u001b[0m                         Traceback (most recent call last)",
            "\u001b[0;32m<ipython-input-5-1f871c3fe064>\u001b[0m in \u001b[0;36m<module>\u001b[0;34m()\u001b[0m\n\u001b[0;32m----> 1\u001b[0;31m \u001b[0mobj\u001b[0m\u001b[0;34m=\u001b[0m\u001b[0mopen\u001b[0m\u001b[0;34m(\u001b[0m\u001b[0;34m\"abc.txt\"\u001b[0m\u001b[0;34m,\u001b[0m\u001b[0;34m\"r\"\u001b[0m\u001b[0;34m)\u001b[0m\u001b[0;34m\u001b[0m\u001b[0;34m\u001b[0m\u001b[0m\n\u001b[0m\u001b[1;32m      2\u001b[0m \u001b[0;32mif\u001b[0m \u001b[0mobj\u001b[0m\u001b[0;34m:\u001b[0m\u001b[0;34m\u001b[0m\u001b[0;34m\u001b[0m\u001b[0m\n\u001b[1;32m      3\u001b[0m   \u001b[0mst\u001b[0m\u001b[0;34m=\u001b[0m\u001b[0mobj\u001b[0m\u001b[0;34m.\u001b[0m\u001b[0mread\u001b[0m\u001b[0;34m(\u001b[0m\u001b[0;34m)\u001b[0m\u001b[0;34m\u001b[0m\u001b[0;34m\u001b[0m\u001b[0m\n\u001b[1;32m      4\u001b[0m   \u001b[0mprint\u001b[0m\u001b[0;34m(\u001b[0m\u001b[0;34m\"File content is:\\n\"\u001b[0m\u001b[0;34m,\u001b[0m\u001b[0mst\u001b[0m\u001b[0;34m)\u001b[0m\u001b[0;34m\u001b[0m\u001b[0;34m\u001b[0m\u001b[0m\n\u001b[1;32m      5\u001b[0m \u001b[0mobj\u001b[0m\u001b[0;34m.\u001b[0m\u001b[0mclose\u001b[0m\u001b[0;34m(\u001b[0m\u001b[0;34m)\u001b[0m\u001b[0;34m\u001b[0m\u001b[0;34m\u001b[0m\u001b[0m\n",
            "\u001b[0;31mFileNotFoundError\u001b[0m: [Errno 2] No such file or directory: 'abc.txt'"
          ]
        }
      ]
    },
    {
      "cell_type": "markdown",
      "metadata": {
        "id": "sHQrG4HWgD5E"
      },
      "source": [
        " **AIM:**"
      ]
    },
    {
      "cell_type": "markdown",
      "metadata": {
        "id": "Kl42f0GzgfQ4"
      },
      "source": [
        "b) Write a program to compute the number of characters, words and lines in a file."
      ]
    },
    {
      "cell_type": "markdown",
      "metadata": {
        "id": "x0LpOZTvgkxg"
      },
      "source": [
        "**DESCRIPTION:**"
      ]
    },
    {
      "cell_type": "markdown",
      "metadata": {
        "id": "im8Zxh8sglAz"
      },
      "source": [
        " Given a text file fname, the task is to count the total number of characters, words, spaces and lines in the file.\n",
        " \n",
        "As we know, Python provides multiple in-built features and modules for handling files. Let’s discuss different ways to calculate total number of characters, words, spaces and lines in a file using Python.\n",
        " \n",
        "Method #1: Naive approach\n",
        " \n",
        "In this approach, the idea is to solve the task by developing our own logic. Without using any built-in function of Python, the total number of characters, words, spaces and lines of the file will be calculated.\n",
        " \n",
        "Method #2: Using some built-in functions and OS module functions\n",
        " \n",
        "In this approach, the idea is to use the os.linesep() method of OS module to separate the lines on the current platform. When the interpreter’s scanner encounter os.linesep it replaces it with \\n character. After that strip() and split() functions will be used to carry out the task."
      ]
    },
    {
      "cell_type": "markdown",
      "metadata": {
        "id": "WM3Wzg0Qgxqh"
      },
      "source": [
        " **PROGRAM:**"
      ]
    },
    {
      "cell_type": "code",
      "metadata": {
        "colab": {
          "base_uri": "https://localhost:8080/",
          "height": 391
        },
        "id": "f54nYn-jg6_g",
        "outputId": "8cb9d539-0818-4208-e57a-9af40727f3dd"
      },
      "source": [
        " \n",
        "#Write a program to count the number of characters, words and lines in a file.\n",
        "nc=nw=nl=0\n",
        "file=open(\"abc.txt\",\"r\")\n",
        " \n",
        "nl=nw=nc=0\n",
        "print (\"file content:\\n\")\n",
        "for line in file:\n",
        "   ln=line.strip(\"\\n\")\n",
        "   print (ln)\n",
        "   words=ln.split()\n",
        "   nl+=l\n",
        "   nw+=len(words)\n",
        "   nc+=len(line)\n",
        "file.close()\n",
        " \n",
        "print (\"\\n No.of lines:\",nl,\"Words:\",nw,\"characters\",nc)"
      ],
      "execution_count": null,
      "outputs": [
        {
          "output_type": "error",
          "ename": "FileNotFoundError",
          "evalue": "ignored",
          "traceback": [
            "\u001b[0;31m---------------------------------------------------------------------------\u001b[0m",
            "\u001b[0;31mFileNotFoundError\u001b[0m                         Traceback (most recent call last)",
            "\u001b[0;32m<ipython-input-4-52be85577a76>\u001b[0m in \u001b[0;36m<module>\u001b[0;34m()\u001b[0m\n\u001b[1;32m      2\u001b[0m \u001b[0;31m#Write a program to count the number of characters, words and lines in a file.\u001b[0m\u001b[0;34m\u001b[0m\u001b[0;34m\u001b[0m\u001b[0;34m\u001b[0m\u001b[0m\n\u001b[1;32m      3\u001b[0m \u001b[0mnc\u001b[0m\u001b[0;34m=\u001b[0m\u001b[0mnw\u001b[0m\u001b[0;34m=\u001b[0m\u001b[0mnl\u001b[0m\u001b[0;34m=\u001b[0m\u001b[0;36m0\u001b[0m\u001b[0;34m\u001b[0m\u001b[0;34m\u001b[0m\u001b[0m\n\u001b[0;32m----> 4\u001b[0;31m \u001b[0mfile\u001b[0m\u001b[0;34m=\u001b[0m\u001b[0mopen\u001b[0m\u001b[0;34m(\u001b[0m\u001b[0;34m\"abc.txt\"\u001b[0m\u001b[0;34m,\u001b[0m\u001b[0;34m\"r\"\u001b[0m\u001b[0;34m)\u001b[0m\u001b[0;34m\u001b[0m\u001b[0;34m\u001b[0m\u001b[0m\n\u001b[0m\u001b[1;32m      5\u001b[0m \u001b[0;34m\u001b[0m\u001b[0m\n\u001b[1;32m      6\u001b[0m \u001b[0mnl\u001b[0m\u001b[0;34m=\u001b[0m\u001b[0mnw\u001b[0m\u001b[0;34m=\u001b[0m\u001b[0mnc\u001b[0m\u001b[0;34m=\u001b[0m\u001b[0;36m0\u001b[0m\u001b[0;34m\u001b[0m\u001b[0;34m\u001b[0m\u001b[0m\n",
            "\u001b[0;31mFileNotFoundError\u001b[0m: [Errno 2] No such file or directory: 'abc.txt'"
          ]
        }
      ]
    },
    {
      "cell_type": "markdown",
      "metadata": {
        "id": "WTTmzfPWlhoV"
      },
      "source": [
        "## **Exercise - 8 Functions**\n",
        " \n",
        "**AIM:**"
      ]
    },
    {
      "cell_type": "markdown",
      "metadata": {
        "id": "3impqQ3glohL"
      },
      "source": [
        "a) Write a function ball collide that takes two balls as parameters and computes if they are colliding. Your function should return a Boolean representing whether or not the balls are colliding."
      ]
    },
    {
      "cell_type": "markdown",
      "metadata": {
        "id": "ayXTH8fPhFzv"
      },
      "source": [
        " **DESCRIPTION**\n",
        " \n",
        "**Functions**\n",
        "A function in python is a block of code that is defined for doing frequent operations in a\n",
        "particular task. The general format is\n",
        " \n",
        "def  Functionname(arguments):\n",
        " \n",
        "      Statements\n",
        " \n",
        "**Calling a Function:**\n",
        " \n",
        "A function can be called by its name followed by arguments within parenthesis.\n",
        " \n",
        "function()"
      ]
    },
    {
      "cell_type": "markdown",
      "metadata": {
        "id": "ech7RZrhhNev"
      },
      "source": [
        " **PROGRAM:**"
      ]
    },
    {
      "cell_type": "code",
      "metadata": {
        "id": "Dt9s5OM5l24f",
        "colab": {
          "base_uri": "https://localhost:8080/"
        },
        "outputId": "e60a6782-66de-49cb-d443-865faa3e8f87"
      },
      "source": [
        "import math\n",
        "def collide(ball_tup1,ball_tup2):\n",
        "    x1,y1,r1=ball_tup1\n",
        "    x2,y2,r2=ball_tup2\n",
        " \n",
        "    print (\"Ball-01:\",ball_tup1)\n",
        "    print (\"Ball-02:\",ball_tup2)\n",
        "    d=math.sqrt((x2-x1)**2+(y2-y1)**2)\n",
        "    print (\"Centroid distance of two balls:\",d)\n",
        "    print(\"Sum of Radius of Ball-01&Ball-02 is:{}+{}={}\".format(r1,r2,r1+r2))\n",
        "  \n",
        "    if d<=r1+r2:\n",
        "       return True\n",
        "    else:\n",
        "       return False\n",
        " \n",
        "b1=(-2,-4,3)\n",
        "b2=(4,6,3)\n",
        " \n",
        "if collide (b1,b2):\n",
        "     print (\"Balls are Collide....!\")\n",
        "else:\n",
        "    print (\"Balls are  Not Collide....!\")"
      ],
      "execution_count": null,
      "outputs": [
        {
          "output_type": "stream",
          "text": [
            "Ball-01: (-2, -4, 3)\n",
            "Ball-02: (4, 6, 3)\n",
            "Centroid distance of two balls: 11.661903789690601\n",
            "Sum of Radius of Ball-01&Ball-02 is:3+3=6\n",
            "Balls are  Not Collide....!\n"
          ],
          "name": "stdout"
        }
      ]
    },
    {
      "cell_type": "markdown",
      "metadata": {
        "id": "fZnefZ8Rhffw"
      },
      "source": [
        "**AIM:**"
      ]
    },
    {
      "cell_type": "markdown",
      "metadata": {
        "id": "yrb5niV0upvk"
      },
      "source": [
        "b) Find mean, median, mode for the given set of numbers in a list."
      ]
    },
    {
      "cell_type": "markdown",
      "metadata": {
        "id": "pZat64QehYzi"
      },
      "source": [
        " **DESCRIPTION** \n",
        "Mean : The mean is the average of all numbers and is sometimes called the arithmetic mean. This code calculates Mean or Average of a list containing numbers:\n",
        " \n",
        "Median : The median is the middle number in a group of numbers. This code calculates Median of a list containing numbers:\n",
        " \n",
        "Mode : The mode is the number that occurs most often within a set of numbers. This code calculates Mode of a list containing numbers:\n",
        " \n",
        "We will import Counter from collections library which is a built-in module in Python 2 and 3. This module will help us count duplicate elements in a list.\n",
        "We define a list of numbers and calculate the length of the list. We then call Counter (a dict subclass) which helps to count hashable objects, and we then convert it to dict object. We then initialize a list with a For Loop to compare all the dict values (Number of elements) to the max of all dict values (count of most occurring element) and it returns all the elements equal to max count. If the elements returned are equal to the number of total elements in a list then we print out ‘No mode’, else we print out the modes returned."
      ]
    },
    {
      "cell_type": "markdown",
      "metadata": {
        "id": "wDhjMarUhZj3"
      },
      "source": [
        " **PROGRAM:**"
      ]
    },
    {
      "cell_type": "code",
      "metadata": {
        "colab": {
          "base_uri": "https://localhost:8080/"
        },
        "id": "VA0cyK_nuxJB",
        "outputId": "467e97e5-69ab-4d14-f061-7859a2825785"
      },
      "source": [
        "def mean(numlist):\n",
        "    return sum(numlist)/len(numlist)\n",
        "def median(numlist):\n",
        "    numlist.sort()\n",
        "    print(numlist)\n",
        "    n=len(numlist)\n",
        "    print(\"total\",n)\n",
        "    mid=n//2\n",
        "    print(\"mid:\",mid)\n",
        "    if(n%2==0):\n",
        "        return numlist[mid]\n",
        "    else:\n",
        "        return (numlist[mid-1]+numlist[mid])/2\n",
        "def mode(numlist):\n",
        "    numlist.sort()\n",
        "    temp=[]\n",
        "    i=0\n",
        "    while i<len(numlist):\n",
        "        temp.append(numlist.count(numlist[i]))\n",
        "        i+=1\n",
        "    dic=dict(zip(numlist,temp))\n",
        "    modes={k for k, v in dic.items() if(v==max(temp))}\n",
        "    return modes\n",
        "list=[1,1,2,2,3,4,5,3,3]\n",
        "print(\"mean of give list:\",mean(list))\n",
        "print(\"median of give list:\",median(list))\n",
        " \n",
        "print(\"mode of give list:\",mode(list))"
      ],
      "execution_count": null,
      "outputs": [
        {
          "output_type": "stream",
          "text": [
            "mean of give list: 2.6666666666666665\n",
            "[1, 1, 2, 2, 3, 3, 3, 4, 5]\n",
            "total 9\n",
            "mid: 4\n",
            "median of give list: 2.5\n",
            "mode of give list: {3}\n"
          ],
          "name": "stdout"
        }
      ]
    },
    {
      "cell_type": "markdown",
      "metadata": {
        "id": "dLL3bYjQgBmR"
      },
      "source": [
        "# **Exercise - 9 Functions - Continued**\n",
        " \n",
        "**AIM:**"
      ]
    },
    {
      "cell_type": "markdown",
      "metadata": {
        "id": "O51lpfzY7sNX"
      },
      "source": [
        "a) Write a function nearly equal to test whether two strings are nearly equal. Two strings a and b are nearly equal when a can be generated by a single mutation on b."
      ]
    },
    {
      "cell_type": "markdown",
      "metadata": {
        "id": "jIWHa0-ZhwS3"
      },
      "source": [
        " **DESCRIPTION:** \n",
        "strlen() function is used to check wether the two string are nearly equal or not by basis of the Length of those Strings\n",
        " \n",
        "len() function is an inbuilt function in Python programming language that returns the length of the string.\n",
        " \n",
        "len() is a built-in function in python.You can use the len() to get the length of the given string, array, list, tuple, dictionary, etc.\n",
        " \n",
        "Value: the given value you want the length of.\n",
        " \n",
        "Return value a return an integer value i.e. the length of the given string, or array, or list, or collections.\n",
        " \n",
        "Syntax:\n",
        " \n",
        "len(string)"
      ]
    },
    {
      "cell_type": "markdown",
      "metadata": {
        "id": "bFoLZ-T9h20x"
      },
      "source": [
        " **PROGRAM:**"
      ]
    },
    {
      "cell_type": "code",
      "metadata": {
        "colab": {
          "base_uri": "https://localhost:8080/"
        },
        "id": "8lraYo_Z7zCd",
        "outputId": "1349368d-db7d-4b0f-e46f-5f3ad8beb4ea"
      },
      "source": [
        "def nearly_eq(str1,str2):\n",
        "  count=0\n",
        "  i=j=0 \n",
        "  while (i<len(str1) and j<len(str2)):\n",
        "    if(str1[i]!=str2[j]):\n",
        "      count+=1\n",
        "      if(len(str2)>len(str2)):\n",
        "         i+=1\n",
        "      elif(len(str2)==len(str2)):\n",
        "          pass\n",
        "      else:\n",
        "          i-=1\n",
        "    if(count>1):\n",
        "       return False\n",
        "    i+=1\n",
        "    j+=1\n",
        "  if(count<2):\n",
        "     return True\n",
        "s1=input (\"Enter string 1:\")\n",
        "s2=input (\"Enter string 2:\")\n",
        "bln=nearly_eq(s1,s2)\n",
        "if(bln):\n",
        "   print (\"String are nearly equal\")\n",
        "else:\n",
        "   print (\"String are not equal\")"
      ],
      "execution_count": null,
      "outputs": [
        {
          "output_type": "stream",
          "text": [
            "Enter string 1:Satyanarayana Addepalli\n",
            "Enter string 2:Satyanarayana\n",
            "String are nearly equal\n"
          ],
          "name": "stdout"
        }
      ]
    },
    {
      "cell_type": "markdown",
      "metadata": {
        "id": "BZg77MPfjOAr"
      },
      "source": [
        "**AIM:**"
      ]
    },
    {
      "cell_type": "markdown",
      "metadata": {
        "id": "6mAG5Hz2BjLQ"
      },
      "source": [
        "b) Write a function dup to find all duplicates in the list."
      ]
    },
    {
      "cell_type": "markdown",
      "metadata": {
        "id": "gSu1891fh95E"
      },
      "source": [
        "**DESCRIPTION:**\n",
        " \n",
        "To check if a list contains any duplicate element follow the following steps,\n",
        " \n",
        "1. Add the contents of list in a set.\n",
        " \n",
        "        As set contains only unique elements, so no duplicates will be added   the the set.\n",
        " \n",
        "2. Compare the size of set and list.\n",
        " \n",
        "            If size of list & set is equal then it means no duplicates in list.\n",
        " \n",
        "3. If size of list & set are different then it means yes, there are duplicates in list."
      ]
    },
    {
      "cell_type": "markdown",
      "metadata": {
        "id": "9nVefh1Nh-jB"
      },
      "source": [
        "  **PROGRAM:**"
      ]
    },
    {
      "cell_type": "code",
      "metadata": {
        "colab": {
          "base_uri": "https://localhost:8080/"
        },
        "id": "3Jbv9-bOB4bO",
        "outputId": "3e479baf-e659-42ce-bd27-290b34a1d822"
      },
      "source": [
        "def dup(list):\n",
        "  list1=[]\n",
        "  for i in list:\n",
        "    count=list.count(i)\n",
        "    if(count>1 and (i not in list1)):\n",
        "        list1.append(i)\n",
        "        \n",
        "  print(\"the dups int he list are:\",list1)        \n",
        "list2=[1,2,1,2]\n",
        " \n",
        "dup(list2)"
      ],
      "execution_count": null,
      "outputs": [
        {
          "output_type": "stream",
          "text": [
            "the dups int he list are: [1, 2]\n"
          ],
          "name": "stdout"
        }
      ]
    },
    {
      "cell_type": "markdown",
      "metadata": {
        "id": "WLpa8Yd_jQT-"
      },
      "source": [
        " **AIM:**"
      ]
    },
    {
      "cell_type": "markdown",
      "metadata": {
        "id": "YAnZW_IUayfs"
      },
      "source": [
        "c)Write a function Unique to find all in the  Unique elements of alist."
      ]
    },
    {
      "cell_type": "markdown",
      "metadata": {
        "id": "-dVz_MNdiAi5"
      },
      "source": [
        " **DESCRIPTION:** \n",
        "To find the unique in the list .There is a Specific Method i.e.,\n",
        " \n",
        "Method  : Traversal of list\n",
        " \n",
        "Using traversal, we can traverse for every element in the list and check if the element is in the unique_list already if it is not over there, then we can append it in the unique_list. \n",
        " \n",
        "This is done using one for loop and other if statement which check if the value is in the unique list or not which is equivalent to another for loop."
      ]
    },
    {
      "cell_type": "markdown",
      "metadata": {
        "id": "EUd_dWPtiAvd"
      },
      "source": [
        "  **PROGRAM:**"
      ]
    },
    {
      "cell_type": "code",
      "metadata": {
        "colab": {
          "base_uri": "https://localhost:8080/"
        },
        "id": "oszG6jAobLhF",
        "outputId": "0c96ab3d-eb5f-4d77-eb9b-90ff1737162c"
      },
      "source": [
        "def unique(list1):\n",
        "  list2={}\n",
        " \n",
        "  for i in list1:\n",
        "    c=list1.count(i)\n",
        "    if c==1:\n",
        "      list2[i]=c\n",
        "  print(\"the unique elements in the list are:\",list2)\n",
        " \n",
        "list=[1,2,3,45,45,6,88,88,9]\n",
        "unique(list)"
      ],
      "execution_count": null,
      "outputs": [
        {
          "output_type": "stream",
          "text": [
            "the unique elements in the list are: {1: 1, 2: 1, 3: 1, 6: 1, 9: 1}\n"
          ],
          "name": "stdout"
        }
      ]
    },
    {
      "cell_type": "markdown",
      "metadata": {
        "id": "GSrcz_6QxKx7"
      },
      "source": [
        "## **Exercise - 10 - Functions - Problem Solving**\n",
        " \n",
        "**AIM**:"
      ]
    },
    {
      "cell_type": "markdown",
      "metadata": {
        "id": "pSen--P8xjb5"
      },
      "source": [
        "a) Write a function cumulative product to compute cumulative product of a list of numbers."
      ]
    },
    {
      "cell_type": "markdown",
      "metadata": {
        "id": "t-DhlMpgia9X"
      },
      "source": [
        " **DESCRIPTION:** \n",
        "A cumulative product is a sequence of partial products of a given sequence. For example, the cumulative products of the sequence. , are , , .. Cumulative products can be implemented in the Wolfram Language as Rest[FoldList[Times, 1, list]]\n",
        " \n",
        "cumprod(A,1) works on successive elements in the columns of A and returns the cumulative products of each column. cumprod(A,2) works on successive elements in the rows of A and returns the cumulative products of each row.\n",
        " \n",
        "umprod() function is used when we want to compute the cumulative product of array elements over a given axis. Syntax : numpy.cumprod(arr, axis=None, dtype=None, out=None) Parameters : arr : [array_like] Array containing numbers whose cumulative product is desired."
      ]
    },
    {
      "cell_type": "markdown",
      "metadata": {
        "id": "_9qwAgjnibMh"
      },
      "source": [
        "  **PROGRAM:**"
      ]
    },
    {
      "cell_type": "code",
      "metadata": {
        "colab": {
          "base_uri": "https://localhost:8080/"
        },
        "id": "1vF-gjRsxrwx",
        "outputId": "cf5609c3-a8f2-49c3-8716-52ef78a27ace"
      },
      "source": [
        "def cum_prod(numlist):\n",
        "  prod=1\n",
        "  temp=[]\n",
        "  for i in numlist:\n",
        "    prod*=i\n",
        "    temp.append(prod)\n",
        "  return temp\n",
        " \n",
        "lst=[10,20,40,50,60]\n",
        " \n",
        "print(\"Given list is: \",lst)\n",
        " \n",
        "print(\"Cumulative Product list is: \",cum_prod(lst))"
      ],
      "execution_count": null,
      "outputs": [
        {
          "output_type": "stream",
          "text": [
            "Given list is:  [10, 20, 40, 50, 60]\n",
            "Cumulative Product list is:  [10, 200, 8000, 400000, 24000000]\n"
          ],
          "name": "stdout"
        }
      ]
    },
    {
      "cell_type": "markdown",
      "metadata": {
        "id": "2GO-67dxjUFJ"
      },
      "source": [
        " **AIM:**"
      ]
    },
    {
      "cell_type": "markdown",
      "metadata": {
        "id": "1sH2_pb3yevt"
      },
      "source": [
        "b) Write a function reverse to reverse a list. Without using the reverse function."
      ]
    },
    {
      "cell_type": "markdown",
      "metadata": {
        "id": "AkB07gTljV13"
      },
      "source": [
        " **DESCRIPTION:**\n",
        " \n",
        "In this Python code snippet post, we are going to implement a list reverse function from the scratch without using any builtin functions.\n",
        " \n",
        "Let us see how…\n",
        " \n",
        "Iterative solution\n",
        " \n",
        "We can use a for loop to swap the first and last items, the second and the one before the last item and so on until the list is reversed in place. The number of iterations needed is half the list size. If the list has an odd number of items then the middle item will stay in its place."
      ]
    },
    {
      "cell_type": "markdown",
      "metadata": {
        "id": "CjTI_8aEjhTm"
      },
      "source": [
        "  **PROGRAM:**"
      ]
    },
    {
      "cell_type": "code",
      "metadata": {
        "colab": {
          "base_uri": "https://localhost:8080/"
        },
        "id": "2fqasUUWyokw",
        "outputId": "09c45100-2132-4cfb-c0c1-e287a11a278e"
      },
      "source": [
        "def reverse_list(numlist):\n",
        "  i=0\n",
        "  j=len(numlist)-1\n",
        "  while(i<=j):\n",
        "   temp=numlist[i] \n",
        "   numlist[i]=numlist[j]\n",
        "   numlist[j]=temp\n",
        "   j-=1\n",
        "   i+=1\n",
        " \n",
        "  return numlist\n",
        " \n",
        "lst=[10,20,30,40]\n",
        " \n",
        "print(\"Given list is: \",lst) \n",
        "reverse_list(lst)\n",
        "print(\"Reverse of the given list is: \",lst)"
      ],
      "execution_count": null,
      "outputs": [
        {
          "output_type": "stream",
          "text": [
            "Given list is:  [10, 20, 30, 40]\n",
            "Reverse of the given list is:  [40, 30, 20, 10]\n"
          ],
          "name": "stdout"
        }
      ]
    },
    {
      "cell_type": "markdown",
      "metadata": {
        "id": "riymuTFljZq3"
      },
      "source": [
        " **AIM:**"
      ]
    },
    {
      "cell_type": "markdown",
      "metadata": {
        "id": "L8p_yBxM0L6D"
      },
      "source": [
        "c) Write function to compute gcd, lcm of two numbers. Each function shouldn't exceed one line."
      ]
    },
    {
      "cell_type": "markdown",
      "metadata": {
        "id": "vlp82MaEjmIL"
      },
      "source": [
        " **DESCRIPTION:** \n",
        "Python provides you an anonymous function called lambda. It can take any number of\n",
        "arguments, but can only have one expression. It can be used to find LCM and GCD values without exceeding each from from one line.\n",
        " \n",
        "The general format is\n",
        " \n",
        "**lambda arguments: expression**\n",
        " \n",
        "The expression is executed during the function call and the result is returned. \n",
        " \n",
        "**Lambda as a Function**\n",
        " \n",
        "The power of using a lambda expression is implementing it using a function"
      ]
    },
    {
      "cell_type": "markdown",
      "metadata": {
        "id": "JsnvWclkjmUv"
      },
      "source": [
        "   **PROGRAM:**"
      ]
    },
    {
      "cell_type": "code",
      "metadata": {
        "colab": {
          "base_uri": "https://localhost:8080/"
        },
        "id": "af1O8qp_0ybi",
        "outputId": "642658a7-7491-4f32-a9d0-257a0765ce8f"
      },
      "source": [
        "gcd=lambda a,b: a if b==0 else gcd(a,a%b) \n",
        "lcm=lambda a,b: (a*b)/gcd(a,b)\n",
        " \n",
        "x=8\n",
        "y=20\n",
        " \n",
        "print(\"Enter a Numbers: \",x,y)\n",
        "print(\"GCD is: \", gcd(x,y)) \n",
        "print(\"LCM is: \", lcm(x,y))"
      ],
      "execution_count": null,
      "outputs": [
        {
          "output_type": "stream",
          "text": [
            "Enter a Numbers:  8 20\n",
            "GCD is:  8\n",
            "LCM is:  20.0\n"
          ],
          "name": "stdout"
        }
      ]
    },
    {
      "cell_type": "markdown",
      "metadata": {
        "id": "s40cmkDzVfKu"
      },
      "source": [
        "# **Exercise 11 - Multi-D Lists**\n",
        "**AIM**:"
      ]
    },
    {
      "cell_type": "markdown",
      "metadata": {
        "id": "AXNK0tNdVp0q"
      },
      "source": [
        "a) Write a program that defines a matrix and prints."
      ]
    },
    {
      "cell_type": "markdown",
      "metadata": {
        "id": "7jsL25iEj2Lz"
      },
      "source": [
        " **DESCRIPTION:**\n",
        " \n",
        "Lists are a very widely use data structure in python. They contain a list of elements separated by comma. But sometimes lists can also contain lists within them. These are called nested lists or multidimensional lists. In this article we will see how to create and access elements in a multidimensional list.\n",
        " \n",
        "**Methods on Multidimensional lists**\n",
        " \n",
        "1. append(): Adds an element at the end of the list.\n",
        " \n",
        "2. extend(): Add the elements of a list (or any iterable), to the end of the current list.\n",
        " \n",
        "3. reverse(): Reverses the order of the list."
      ]
    },
    {
      "cell_type": "markdown",
      "metadata": {
        "id": "d5ufKI0Cj2ZI"
      },
      "source": [
        "   **PROGRAM:**"
      ]
    },
    {
      "cell_type": "code",
      "metadata": {
        "colab": {
          "base_uri": "https://localhost:8080/"
        },
        "id": "6xt8Dwt2V95g",
        "outputId": "df7988ee-5c01-41f0-b829-0afca0009a3a"
      },
      "source": [
        " \n",
        "matA=[[]]\n",
        "rows=int(input(\"Enter row size of matrix: \"))\n",
        "cols=int(input(\"Enter column size of matrix: \"))\n",
        "matA=[[int(input(\"Enter[%d,%d] value: \"%(i,j)))for j in range(cols)]for i in range(rows)]\n",
        "print(\"matrix is: \")\n",
        "for i in range(rows):\n",
        "  for j in range(cols):\n",
        "    print(matA[i][j],end='\\t')\n",
        "  print()"
      ],
      "execution_count": null,
      "outputs": [
        {
          "output_type": "stream",
          "text": [
            "Enter row size of matrix: 2\n",
            "Enter column size of matrix: 3\n",
            "Enter[0,0] value: 2\n",
            "Enter[0,1] value: 4\n",
            "Enter[0,2] value: 0\n",
            "Enter[1,0] value: 9\n",
            "Enter[1,1] value: 2\n",
            "Enter[1,2] value: 0\n",
            "matrix is: \n",
            "2\t4\t0\t\n",
            "9\t2\t0\t\n"
          ],
          "name": "stdout"
        }
      ]
    },
    {
      "cell_type": "markdown",
      "metadata": {
        "id": "MoEtigR2kK5e"
      },
      "source": [
        "**AIM**:"
      ]
    },
    {
      "cell_type": "markdown",
      "metadata": {
        "id": "HOvXLZfIfI9Y"
      },
      "source": [
        "b)Write a program to perform addition of two square matrices."
      ]
    },
    {
      "cell_type": "markdown",
      "metadata": {
        "id": "fRwUkiRtj72Y"
      },
      "source": [
        " **DESCRIPTION:**\n",
        " \n",
        "We can perform matrix addition in following ways in Python.  \n",
        " \n",
        "1. Using for loop: \n",
        " \n",
        "**Explanation** :- \n",
        "In this program we have used nested for loops to iterate through each row and each column. At each point we add the corresponding elements in the two matrices and store it in the result.\n",
        " \n",
        "2. Using nested list comprehension :\n",
        " \n",
        " In Python, we can implement a matrix as nested list (list inside a list). We can treat each element as a row of the matrix. \n",
        " \n",
        "**Explanation :-**\n",
        " \n",
        "The output of this program is the same as above. We have used nested list comprehension to iterate through each element in the matrix. List comprehension allows us to write concise codes and we must try to use them frequently in Python. They are very helpful.\n",
        " \n",
        "3. uising zip function\n",
        " \n",
        "**Explanation :**\n",
        " \n",
        "The zip function accepts iterator i of each element(list) of matrix, mapping them, adding them using sum() and storing them in the map form."
      ]
    },
    {
      "cell_type": "markdown",
      "metadata": {
        "id": "eVrEATr9j8DB"
      },
      "source": [
        "   **PROGRAM:**"
      ]
    },
    {
      "cell_type": "code",
      "metadata": {
        "colab": {
          "base_uri": "https://localhost:8080/"
        },
        "id": "YtWKQm1ZgEu3",
        "outputId": "50e303f3-c650-4b56-aec0-122d0dec8b35"
      },
      "source": [
        "def mat_read(rows,cols):\n",
        "    mat=[[int(input(\"Enter the mat[%d,%d] value \"%(i,j)))for j in range(cols)]for i in range (rows)]\n",
        "    return mat\n",
        "def print_mat(rows,cols,mat):\n",
        "    for i in range(rows):\n",
        "        for j in range (cols):\n",
        "            print(mat[i][j],end='\\t')\n",
        "        print()\n",
        "    \n",
        "matA=[[]]\n",
        "matB=[[]]\n",
        "mat_sum=[[]]\n",
        " \n",
        " \n",
        "rows=int(input(\"Enter the row size \"))\n",
        "cols=int(input(\"Enter the column size \"))\n",
        " \n",
        "if(rows==cols):\n",
        "    print(\"For matrix A\")\n",
        "    matA=mat_read(rows,cols)\n",
        "    \n",
        "    print(\"For matrix B\")\n",
        "    matB=mat_read(rows,cols)\n",
        "    \n",
        "    mat_sum=[[matA[i][j]+matB[i][j] for j in range(cols)]for i in range (rows)]\n",
        " \n",
        "    print(\"Matrix A \")\n",
        "    print_mat(rows,cols,matA)\n",
        "    \n",
        "    print(\"Matrix B \")\n",
        "    print_mat(rows,cols,matB)\n",
        "    \n",
        "    print(\"Matrix A+B = \")\n",
        "    print_mat(rows,cols,mat_sum)\n",
        "else:\n",
        "    print(\"Matrix Addition is not possible\")"
      ],
      "execution_count": null,
      "outputs": [
        {
          "output_type": "stream",
          "text": [
            "Enter the row size 2\n",
            "Enter the column size 2\n",
            "For matrix A\n",
            "Enter the mat[0,0] value 2\n",
            "Enter the mat[0,1] value 4\n",
            "Enter the mat[1,0] value 9\n",
            "Enter the mat[1,1] value 2\n",
            "For matrix B\n",
            "Enter the mat[0,0] value 2\n",
            "Enter the mat[0,1] value 4\n",
            "Enter the mat[1,0] value 9\n",
            "Enter the mat[1,1] value 2\n",
            "Matrix A \n",
            "2\t4\t\n",
            "9\t2\t\n",
            "Matrix B \n",
            "2\t4\t\n",
            "9\t2\t\n",
            "Matrix A+B = \n",
            "4\t8\t\n",
            "18\t4\t\n"
          ],
          "name": "stdout"
        }
      ]
    },
    {
      "cell_type": "markdown",
      "metadata": {
        "id": "8Qo_xOHVkUCP"
      },
      "source": [
        " **AIM**:"
      ]
    },
    {
      "cell_type": "markdown",
      "metadata": {
        "id": "DWy6GUzHhIe7"
      },
      "source": [
        "c)Write a program to perform multiplication of two square matrices."
      ]
    },
    {
      "cell_type": "markdown",
      "metadata": {
        "id": "JZusLJ3CkAlU"
      },
      "source": [
        " **DESCRIPTION:**\n",
        " \n",
        "In Python, we can implement a matrix as nested list (list inside a list).\n",
        " \n",
        "We can treat each element as a row of the matrix.\n",
        " \n",
        "For example X = [[1, 2], [4, 5], [3, 6]] would represent a 3x2 matrix.\n",
        " \n",
        "The first row can be selected as X[0]. And, the element in first row, first column can be selected as X[0][0].\n",
        " \n",
        "Multiplication of two matrices X and Y is defined only if the number of columns in X is equal to the number of rows Y.\n",
        " \n",
        "If X is a n x m matrix and Y is a m x l matrix then, XY is defined and has the dimension n x l (but YX is not defined). Here are a couple of ways to implement matrix multiplication in Python."
      ]
    },
    {
      "cell_type": "markdown",
      "metadata": {
        "id": "91JD_MWjkA-0"
      },
      "source": [
        "   **PROGRAM:**"
      ]
    },
    {
      "cell_type": "code",
      "metadata": {
        "colab": {
          "base_uri": "https://localhost:8080/"
        },
        "id": "u-ukd96UhZTT",
        "outputId": "4cc55a6b-5e5b-408c-9a31-d8d92b6ac2bb"
      },
      "source": [
        "def mat_read(rows,cols):\n",
        "    mat=[[int(input(\"Enter the mat[%d,%d] value \"%(i,j)))for j in range(cols)]for i in range (rows)]\n",
        "    return mat\n",
        "def print_mat(rows,cols,mat):\n",
        "    for i in range(rows):\n",
        "        for j in range (cols):\n",
        "            print(mat[i][j],end='\\t')\n",
        "        print()\n",
        "    \n",
        "matA=[[]]\n",
        "matB=[[]]\n",
        "mat_mul=[[]]\n",
        " \n",
        " \n",
        "rows=int(input(\"Enter the row size \"))\n",
        "cols=int(input(\"Enter the column size \"))\n",
        " \n",
        "if(rows==cols):\n",
        "    print(\"For matrix A\")\n",
        "    matA=mat_read(rows,cols)\n",
        "    \n",
        "    print(\"For matrix B\")\n",
        "    matB=mat_read(rows,cols)\n",
        "    \n",
        "    mat_mul=[[0 for j in range(cols)]for i in range (rows)]\n",
        " \n",
        "    for i in range (rows):\n",
        "        for j in range(cols):\n",
        "            for k in range(cols):\n",
        "                mat_mul[i][j]+=matA[i][k]*matB[k][j]\n",
        " \n",
        "    print(\"Matrix A \")\n",
        "    print_mat(rows,cols,matA)\n",
        "    \n",
        "    print(\"Matrix B \")\n",
        "    print_mat(rows,cols,matB)\n",
        "    \n",
        "    print(\"Matrix A*B = \")\n",
        "    print_mat(rows,cols,mat_mul)\n",
        "else:\n",
        "    print(\"Matrix multiplication is not possible\")"
      ],
      "execution_count": null,
      "outputs": [
        {
          "output_type": "stream",
          "text": [
            "Enter the row size 2\n",
            "Enter the column size 2\n",
            "For matrix A\n",
            "Enter the mat[0,0] value 2\n",
            "Enter the mat[0,1] value 4\n",
            "Enter the mat[1,0] value 9\n",
            "Enter the mat[1,1] value 2\n",
            "For matrix B\n",
            "Enter the mat[0,0] value 2\n",
            "Enter the mat[0,1] value 4\n",
            "Enter the mat[1,0] value 9\n",
            "Enter the mat[1,1] value 2\n",
            "Matrix A \n",
            "2\t4\t\n",
            "9\t2\t\n",
            "Matrix B \n",
            "2\t4\t\n",
            "9\t2\t\n",
            "Matrix A*B = \n",
            "40\t16\t\n",
            "36\t40\t\n"
          ],
          "name": "stdout"
        }
      ]
    },
    {
      "cell_type": "markdown",
      "metadata": {
        "id": "wDt60yxJiXcB"
      },
      "source": [
        "# **Exercise-12-Modules**"
      ]
    },
    {
      "cell_type": "markdown",
      "metadata": {
        "id": "qzcMX4NilNg9"
      },
      "source": [
        " **AIM:**"
      ]
    },
    {
      "cell_type": "markdown",
      "metadata": {
        "id": "WH3QeZCTidfA"
      },
      "source": [
        "a) Install packages requests, flask and explore them. using (pip)"
      ]
    },
    {
      "cell_type": "markdown",
      "metadata": {
        "id": "gDfYfK3_lTgF"
      },
      "source": [
        " **DESCRIPTION:**\n",
        " \n",
        "Installing the pip Python package manager on Windows\n",
        "If you are on Windows, and your installed Python the current version, you already have pip! If your Python installation is not the most recent, the easiest thing to do is to simply reinstall it. Download the Python Windows installer at https://www.python.org/downloads/.\n",
        " \n",
        "In Windows, the variable that controls which programs are accessible from the command line is path. To modify your path to include Python and pip, we have to add C:\\Python27 and C:\\Python27\\Tools. Edit the Windows path by opening the Windows menu, right-clicking on Computer and clicking on Properties. Under Advanced system settings, click Environment Variables.... Scroll down until you find Path, double-click it, and add ;C:\\Python27;C:\\Python27\\Tools to the end.\n",
        " \n",
        "**Installing packages:**\n",
        " \n",
        "Suppose you want to install a package called requests (which is used to make HTTP requests). You need to issue the following command.\n",
        " \n",
        "pip install requests\n",
        " \n",
        "**show installed packages**\n",
        " \n",
        "You can use the following command to get information about a installed package, i.e Package name, version, location, dependencies.\n",
        " \n",
        "pip show package_name\n",
        " \n",
        "**install flask**\n",
        " \n",
        "On Mac and Linux, because you are installing programs outside the user-owned folders, you might have to prepend sudo to the install commands. To install Flask, simply run this:\n",
        " \n",
        "$ pip install flask\n",
        " \n",
        "**show installed flask**\n",
        " \n",
        "You can use the following command to get information about a installed flask, i.e Package name, version, location, dependencies\n",
        " \n",
        "$ pip show flask"
      ]
    },
    {
      "cell_type": "markdown",
      "metadata": {
        "id": "o2kOSDv-larA"
      },
      "source": [
        " **PROGRAM:**"
      ]
    },
    {
      "cell_type": "markdown",
      "metadata": {
        "id": "kGi99jmtmDFA"
      },
      "source": [
        "The requests and flask packages are downloaded from internet using the following commands."
      ]
    },
    {
      "cell_type": "markdown",
      "metadata": {
        "id": "zTDWp2w8mDvS"
      },
      "source": [
        " c:\\phython3.9\\scripts>pip install requests"
      ]
    },
    {
      "cell_type": "markdown",
      "metadata": {
        "id": "GISXPHICmJKQ"
      },
      "source": [
        " c:\\phython3.9\\scripts>pip show requests"
      ]
    },
    {
      "cell_type": "markdown",
      "metadata": {
        "id": "myOefigCmJg5"
      },
      "source": [
        " c:\\phython3.9\\scripts>pip install flask"
      ]
    },
    {
      "cell_type": "markdown",
      "metadata": {
        "id": "Xb9TPuTamV2V"
      },
      "source": [
        " c:\\phython3.9\\scripts>pip show flask"
      ]
    },
    {
      "cell_type": "markdown",
      "metadata": {
        "id": "VpIGPccLmfkK"
      },
      "source": [
        "https://drive.google.com/file/d/1H1xDdPf3STLM8BivVum2IE9DHUaVUov5/view?usp=sharing"
      ]
    },
    {
      "cell_type": "markdown",
      "metadata": {
        "id": "VhfdP0gCmgv4"
      },
      "source": [
        " https://drive.google.com/file/d/1s7OuAcNw0mleuB1PE6DnN93fDFzHaDCd/view?usp=sharing"
      ]
    },
    {
      "cell_type": "markdown",
      "metadata": {
        "id": "PBo3FkAPmmtW"
      },
      "source": [
        " https://drive.google.com/file/d/1Y5tZqVGVbtNItIsEVKmmv_VCtHo_Gieq/view?usp=sharing"
      ]
    },
    {
      "cell_type": "markdown",
      "metadata": {
        "id": "cxAisL9XmnY2"
      },
      "source": [
        " https://drive.google.com/file/d/111lqK5HU4_SpTlOQ_52nEn5g41X-ESkI/view?usp=sharing"
      ]
    },
    {
      "cell_type": "markdown",
      "metadata": {
        "id": "QusG49SEm1lv"
      },
      "source": [
        "**AIM:**"
      ]
    },
    {
      "cell_type": "markdown",
      "metadata": {
        "id": "NIlivN0xinHx"
      },
      "source": [
        "b) Write a script that imports requests and fetches content fromthe page.Eg: (Wiki)"
      ]
    },
    {
      "cell_type": "markdown",
      "metadata": {
        "id": "d14kKxawm2y0"
      },
      "source": [
        " **DESCRIPTION:**\n",
        " \n",
        "The Hypertext Transfer Protocol (HTTP) is an application protocol for distributed, collaborative, hypermedia information systems. HTTP is the foundation of data communication for the World Wide Web.\n",
        " \n",
        "**Python requests**\n",
        " \n",
        "Requests is a simple and elegant Python HTTP library. It provides methods for accessing Web resources via HTTP.\n",
        " \n",
        "**Python requests reading a web page**\n",
        " \n",
        "The **get()** method issues a GET request; it fetches documents identified by the given URL."
      ]
    },
    {
      "cell_type": "markdown",
      "metadata": {
        "id": "p-ZLWV88m9FQ"
      },
      "source": [
        " **PROGRAM:**"
      ]
    },
    {
      "cell_type": "code",
      "metadata": {
        "colab": {
          "base_uri": "https://localhost:8080/"
        },
        "id": "ovdJ6PaWi01L",
        "outputId": "b777a349-8bf2-43ad-a619-01869686e315"
      },
      "source": [
        "import requests\n",
        " \n",
        "r=requests.get('https://www.google.com')\n",
        " \n",
        "print(\"Statuscode: \",r.status_code)\n",
        " \n",
        "print(\"Header Content: \",r.headers['content-type'])\n",
        " \n",
        "print(r.text)"
      ],
      "execution_count": null,
      "outputs": [
        {
          "output_type": "stream",
          "text": [
            "Statuscode:  200\n",
            "Header Content:  text/html; charset=ISO-8859-1\n",
            "<!doctype html><html itemscope=\"\" itemtype=\"http://schema.org/WebPage\" lang=\"en\"><head><meta content=\"Search the world's information, including webpages, images, videos and more. Google has many special features to help you find exactly what you're looking for.\" name=\"description\"><meta content=\"noodp\" name=\"robots\"><meta content=\"text/html; charset=UTF-8\" http-equiv=\"Content-Type\"><meta content=\"/logos/doodles/2021/tommy-konos-91st-birthday-6753651837108974.2-law.gif\" itemprop=\"image\"><meta content='Tamio \"Tommy\" Kono&#39;s 91st Birthday' property=\"twitter:title\"><meta content='Tamio \"Tommy\" Kono&#39;s 91st Birthday! #GoogleDoodle' property=\"twitter:description\"><meta content='Tamio \"Tommy\" Kono&#39;s 91st Birthday! #GoogleDoodle' property=\"og:description\"><meta content=\"summary_large_image\" property=\"twitter:card\"><meta content=\"@GoogleDoodles\" property=\"twitter:site\"><meta content=\"https://www.google.com/logos/doodles/2021/tommy-konos-91st-birthday-6753651837108974-2xa.gif\" property=\"twitter:image\"><meta content=\"https://www.google.com/logos/doodles/2021/tommy-konos-91st-birthday-6753651837108974-2xa.gif\" property=\"og:image\"><meta content=\"1000\" property=\"og:image:width\"><meta content=\"400\" property=\"og:image:height\"><meta content=\"https://www.google.com/logos/doodles/2021/tommy-konos-91st-birthday-6753651837108974-2xa.gif\" property=\"og:url\"><meta content=\"video.other\" property=\"og:type\"><title>Google</title><script nonce=\"WaovlnX31OV4G4YsmJVkKg==\">(function(){window.google={kEI:'OXbYYM-pH6Lj5NoPjpGv4AU',kEXPI:'0,772215,1,530314,98,56781,954,5105,206,4804,925,1391,383,246,5,1354,4936,315,16231,10,1106274,1197765,518,43,328941,51223,16115,28684,17572,4859,1361,9291,3028,17580,4020,978,13228,3847,10622,1142,13386,4517,2777,919,5081,1593,1279,2212,530,149,1103,840,1983,213,4101,3514,606,2023,1777,520,14670,3227,1990,855,7,12354,5096,7876,4929,108,1483,1924,908,2,941,5011,10313,432,3,346,1244,1,5445,148,5990,5333,2652,4,1528,2304,1236,5803,74,1983,2626,2015,3791,276,7434,2110,1714,3050,2658,4243,2293,819,32,1677,11951,2305,638,37,1457,5586,9765,770,665,2522,3299,2536,2047,2047,19,3119,7,907,3,3541,1,5349,6594,2318,449,1,1813,283,38,875,5991,6754,432,552,4788,2,1394,756,769,8,1,1272,845,870,2,3057,483,1532,3699,441,627,4,32,4,675,667,4045,4,683,442,184,158,254,56,4,434,1454,1016,30,2300,1275,4172,406,2095,529,3,1070,3759,1964,3,1040,644,516,1269,17,1227,554,1627,3,1711,291,1442,32,907,1343,1,53,177,1143,3674,36,2,631,204,3,37,86,27,739,715,784,387,1954,687,57,13,689,759,320,2005,62,45,1,12,3,1,383,342,233,353,239,814,1,575,1359,30,1,8,64,1,8,24,76,2,1935,342,341,642,388,967,6,170,86,46,446,301,1483,109,638,233,741,113,363,3,55,2,294,146,417,2,5622860,2031,101,89,4,32,63,155,2,58,5996810,46,2800651,882,444,1,2,80,1,1796,1,9,2,2551,1,748,141,795,563,1,4265,1,1,2,1331,3299,843,2609,155,17,13,72,139,4,2,20,2,169,13,19,46,5,39,96,548,29,2,2,1,2,1,2,2,7,4,1,2,2,2,2,2,2,353,513,199,12,21,4,2,2,2,14,15,2,2,16,5,8,16,1,2,59,7,23954974,4010273,268,1835,24965,1502,2,865,1216,293,3,120,3,6,338,3,2340,74,540,540,5,694',kBL:'agTH'};google.sn='webhp';google.kHL='en';})();(function(){\n",
            "var f=this||self;var h,k=[];function l(a){for(var b;a&&(!a.getAttribute||!(b=a.getAttribute(\"eid\")));)a=a.parentNode;return b||h}function m(a){for(var b=null;a&&(!a.getAttribute||!(b=a.getAttribute(\"leid\")));)a=a.parentNode;return b}\n",
            "function n(a,b,c,d,g){var e=\"\";c||-1!==b.search(\"&ei=\")||(e=\"&ei=\"+l(d),-1===b.search(\"&lei=\")&&(d=m(d))&&(e+=\"&lei=\"+d));d=\"\";!c&&f._cshid&&-1===b.search(\"&cshid=\")&&\"slh\"!==a&&(d=\"&cshid=\"+f._cshid);c=c||\"/\"+(g||\"gen_204\")+\"?atyp=i&ct=\"+a+\"&cad=\"+b+e+\"&zx=\"+Date.now()+d;/^http:/i.test(c)&&\"https:\"===window.location.protocol&&(google.ml&&google.ml(Error(\"a\"),!1,{src:c,glmm:1}),c=\"\");return c};h=google.kEI;google.getEI=l;google.getLEI=m;google.ml=function(){return null};google.log=function(a,b,c,d,g){if(c=n(a,b,c,d,g)){a=new Image;var e=k.length;k[e]=a;a.onerror=a.onload=a.onabort=function(){delete k[e]};a.src=c}};google.logUrl=n;}).call(this);(function(){\n",
            "google.y={};google.sy=[];google.x=function(a,b){if(a)var c=a.id;else{do c=Math.random();while(google.y[c])}google.y[c]=[a,b];return!1};google.sx=function(a){google.sy.push(a)};google.lm=[];google.plm=function(a){google.lm.push.apply(google.lm,a)};google.lq=[];google.load=function(a,b,c){google.lq.push([[a],b,c])};google.loadAll=function(a,b){google.lq.push([a,b])};google.bx=!1;google.lx=function(){};}).call(this);google.f={};(function(){\n",
            "document.documentElement.addEventListener(\"submit\",function(b){var a;if(a=b.target){var c=a.getAttribute(\"data-submitfalse\");a=\"1\"==c||\"q\"==c&&!a.elements.q.value?!0:!1}else a=!1;a&&(b.preventDefault(),b.stopPropagation())},!0);document.documentElement.addEventListener(\"click\",function(b){var a;a:{for(a=b.target;a&&a!=document.documentElement;a=a.parentElement)if(\"A\"==a.tagName){a=\"1\"==a.getAttribute(\"data-nohref\");break a}a=!1}a&&b.preventDefault()},!0);}).call(this);</script><style>#gbar,#guser{font-size:13px;padding-top:1px !important;}#gbar{height:22px}#guser{padding-bottom:7px !important;text-align:right}.gbh,.gbd{border-top:1px solid #c9d7f1;font-size:1px}.gbh{height:0;position:absolute;top:24px;width:100%}@media all{.gb1{height:22px;margin-right:.5em;vertical-align:top}#gbar{float:left}}a.gb1,a.gb4{text-decoration:underline !important}a.gb1,a.gb4{color:#00c !important}.gbi .gb4{color:#dd8e27 !important}.gbf .gb4{color:#900 !important}\n",
            "</style><style>body,td,a,p,.h{font-family:arial,sans-serif}body{margin:0;overflow-y:scroll}#gog{padding:3px 8px 0}td{line-height:.8em}.gac_m td{line-height:17px}form{margin-bottom:20px}.h{color:#1558d6}em{font-weight:bold;font-style:normal}.lst{height:25px;width:496px}.gsfi,.lst{font:18px arial,sans-serif}.gsfs{font:17px arial,sans-serif}.ds{display:inline-box;display:inline-block;margin:3px 0 4px;margin-left:4px}input{font-family:inherit}body{background:#fff;color:#000}a{color:#4b11a8;text-decoration:none}a:hover,a:active{text-decoration:underline}.fl a{color:#1558d6}a:visited{color:#4b11a8}.sblc{padding-top:5px}.sblc a{display:block;margin:2px 0;margin-left:13px;font-size:11px}.lsbb{background:#f8f9fa;border:solid 1px;border-color:#dadce0 #70757a #70757a #dadce0;height:30px}.lsbb{display:block}#WqQANb a{display:inline-block;margin:0 12px}.lsb{background:url(/images/nav_logo229.png) 0 -261px repeat-x;border:none;color:#000;cursor:pointer;height:30px;margin:0;outline:0;font:15px arial,sans-serif;vertical-align:top}.lsb:active{background:#dadce0}.lst:focus{outline:none}</style><script nonce=\"WaovlnX31OV4G4YsmJVkKg==\"></script></head><body bgcolor=\"#fff\"><script nonce=\"WaovlnX31OV4G4YsmJVkKg==\">(function(){var src='/images/nav_logo229.png';var iesg=false;document.body.onload = function(){window.n && window.n();if (document.images){new Image().src=src;}\n",
            "if (!iesg){document.f&&document.f.q.focus();document.gbqf&&document.gbqf.q.focus();}\n",
            "}\n",
            "})();</script><div id=\"mngb\"><div id=gbar><nobr><b class=gb1>Search</b> <a class=gb1 href=\"https://www.google.com/imghp?hl=en&tab=wi\">Images</a> <a class=gb1 href=\"https://maps.google.com/maps?hl=en&tab=wl\">Maps</a> <a class=gb1 href=\"https://play.google.com/?hl=en&tab=w8\">Play</a> <a class=gb1 href=\"https://www.youtube.com/?gl=US&tab=w1\">YouTube</a> <a class=gb1 href=\"https://news.google.com/?tab=wn\">News</a> <a class=gb1 href=\"https://mail.google.com/mail/?tab=wm\">Gmail</a> <a class=gb1 href=\"https://drive.google.com/?tab=wo\">Drive</a> <a class=gb1 style=\"text-decoration:none\" href=\"https://www.google.com/intl/en/about/products?tab=wh\"><u>More</u> &raquo;</a></nobr></div><div id=guser width=100%><nobr><span id=gbn class=gbi></span><span id=gbf class=gbf></span><span id=gbe></span><a href=\"http://www.google.com/history/optout?hl=en\" class=gb4>Web History</a> | <a  href=\"/preferences?hl=en\" class=gb4>Settings</a> | <a target=_top id=gb_70 href=\"https://accounts.google.com/ServiceLogin?hl=en&passive=true&continue=https://www.google.com/&ec=GAZAAQ\" class=gb4>Sign in</a></nobr></div><div class=gbh style=left:0></div><div class=gbh style=right:0></div></div><center><br clear=\"all\" id=\"lgpd\"><div id=\"lga\"><a href=\"/search?ie=UTF-8&amp;q=Tommy+Kono&amp;oi=ddle&amp;ct=174787623&amp;hl=en&amp;sa=X&amp;ved=0ahUKEwiPqtyP77fxAhWiMVkFHY7IC1wQPQgD\"><img alt='Tamio \"Tommy\" Kono&#39;s 91st Birthday' border=\"0\" height=\"200\" src=\"/logos/doodles/2021/tommy-konos-91st-birthday-6753651837108974.2-law.gif\" title='Tamio \"Tommy\" Kono&#39;s 91st Birthday' width=\"500\" id=\"hplogo\"><br></a><br></div><form action=\"/search\" name=\"f\"><table cellpadding=\"0\" cellspacing=\"0\"><tr valign=\"top\"><td width=\"25%\">&nbsp;</td><td align=\"center\" nowrap=\"\"><input name=\"ie\" value=\"ISO-8859-1\" type=\"hidden\"><input value=\"en\" name=\"hl\" type=\"hidden\"><input name=\"source\" type=\"hidden\" value=\"hp\"><input name=\"biw\" type=\"hidden\"><input name=\"bih\" type=\"hidden\"><div class=\"ds\" style=\"height:32px;margin:4px 0\"><input class=\"lst\" style=\"margin:0;padding:5px 8px 0 6px;vertical-align:top;color:#000\" autocomplete=\"off\" value=\"\" title=\"Google Search\" maxlength=\"2048\" name=\"q\" size=\"57\"></div><br style=\"line-height:0\"><span class=\"ds\"><span class=\"lsbb\"><input class=\"lsb\" value=\"Google Search\" name=\"btnG\" type=\"submit\"></span></span><span class=\"ds\"><span class=\"lsbb\"><input class=\"lsb\" id=\"tsuid1\" value=\"I'm Feeling Lucky\" name=\"btnI\" type=\"submit\"><script nonce=\"WaovlnX31OV4G4YsmJVkKg==\">(function(){var id='tsuid1';document.getElementById(id).onclick = function(){if (this.form.q.value){this.checked = 1;if (this.form.iflsig)this.form.iflsig.disabled = false;}\n",
            "else top.location='/doodles/';};})();</script><input value=\"AINFCbYAAAAAYNiEScVunB5h2AG-lSbgE8Mnd0bCc06k\" name=\"iflsig\" type=\"hidden\"></span></span></td><td class=\"fl sblc\" align=\"left\" nowrap=\"\" width=\"25%\"><a href=\"/advanced_search?hl=en&amp;authuser=0\">Advanced search</a></td></tr></table><input id=\"gbv\" name=\"gbv\" type=\"hidden\" value=\"1\"><script nonce=\"WaovlnX31OV4G4YsmJVkKg==\">(function(){\n",
            "var a,b=\"1\";if(document&&document.getElementById)if(\"undefined\"!=typeof XMLHttpRequest)b=\"2\";else if(\"undefined\"!=typeof ActiveXObject){var c,d,e=[\"MSXML2.XMLHTTP.6.0\",\"MSXML2.XMLHTTP.3.0\",\"MSXML2.XMLHTTP\",\"Microsoft.XMLHTTP\"];for(c=0;d=e[c++];)try{new ActiveXObject(d),b=\"2\"}catch(h){}}a=b;if(\"2\"==a&&-1==location.search.indexOf(\"&gbv=2\")){var f=google.gbvu,g=document.getElementById(\"gbv\");g&&(g.value=a);f&&window.setTimeout(function(){location.href=f},0)};}).call(this);</script></form><div id=\"gac_scont\"></div><div style=\"font-size:83%;min-height:3.5em\"><br></div><span id=\"footer\"><div style=\"font-size:10pt\"><div style=\"margin:19px auto;text-align:center\" id=\"WqQANb\"><a href=\"/intl/en/ads/\">Advertising Programs</a><a href=\"/services/\">Business Solutions</a><a href=\"/intl/en/about.html\">About Google</a></div></div><p style=\"font-size:8pt;color:#70757a\">&copy; 2021 - <a href=\"/intl/en/policies/privacy/\">Privacy</a> - <a href=\"/intl/en/policies/terms/\">Terms</a></p></span></center><script nonce=\"WaovlnX31OV4G4YsmJVkKg==\">(function(){window.google.cdo={height:0,width:0};(function(){\n",
            "var a=window.innerWidth,b=window.innerHeight;if(!a||!b){var c=window.document,d=\"CSS1Compat\"==c.compatMode?c.documentElement:c.body;a=d.clientWidth;b=d.clientHeight}a&&b&&(a!=google.cdo.width||b!=google.cdo.height)&&google.log(\"\",\"\",\"/client_204?&atyp=i&biw=\"+a+\"&bih=\"+b+\"&ei=\"+google.kEI);}).call(this);})();</script> <script nonce=\"WaovlnX31OV4G4YsmJVkKg==\">(function(){google.xjs={ck:'',cs:'',excm:[],pml:false};})();</script>  <script nonce=\"WaovlnX31OV4G4YsmJVkKg==\">(function(){var u='/xjs/_/js/k\\x3dxjs.hp.en_US.JRh4tN6N9QQ.O/m\\x3dsb_he,d/am\\x3dAHgCLA/d\\x3d1/ed\\x3d1/rs\\x3dACT90oGq1Ln_99CJXORDJChcIkowqosPIA';\n",
            "var e=this||self,f=function(a){return a};var g;var l=function(a,b){this.g=b===h?a:\"\"};l.prototype.toString=function(){return this.g+\"\"};var h={};function m(){var a=u;google.lx=function(){n(a);google.lx=function(){}};google.bx||google.lx()}\n",
            "function n(a){google.timers&&google.timers.load&&google.tick&&google.tick(\"load\",\"xjsls\");var b=document;var c=\"SCRIPT\";\"application/xhtml+xml\"===b.contentType&&(c=c.toLowerCase());c=b.createElement(c);if(void 0===g){b=null;var k=e.trustedTypes;if(k&&k.createPolicy){try{b=k.createPolicy(\"goog#html\",{createHTML:f,createScript:f,createScriptURL:f})}catch(p){e.console&&e.console.error(p.message)}g=b}else g=b}a=(b=g)?b.createScriptURL(a):a;a=new l(a,h);c.src=a instanceof l&&a.constructor===l?a.g:\"type_error:TrustedResourceUrl\";var d;a=(c.ownerDocument&&c.ownerDocument.defaultView||window).document;(d=(a=null===(d=a.querySelector)||void 0===d?void 0:d.call(a,\"script[nonce]\"))?a.nonce||a.getAttribute(\"nonce\")||\"\":\"\")&&c.setAttribute(\"nonce\",d);document.body.appendChild(c);google.psa=!0};setTimeout(function(){m()},0);})();(function(){window.google.xjsu='/xjs/_/js/k\\x3dxjs.hp.en_US.JRh4tN6N9QQ.O/m\\x3dsb_he,d/am\\x3dAHgCLA/d\\x3d1/ed\\x3d1/rs\\x3dACT90oGq1Ln_99CJXORDJChcIkowqosPIA';})();function _DumpException(e){throw e;}\n",
            "function _F_installCss(c){}\n",
            "(function(){google.jl={attn:false,blt:'none',dw:false,emtn:0,ine:false,lls:'default',pdt:0,snet:true,ubm:false,uwp:true};})();(function(){var pmc='{\\x22d\\x22:{},\\x22sb_he\\x22:{\\x22agen\\x22:true,\\x22cgen\\x22:true,\\x22client\\x22:\\x22heirloom-hp\\x22,\\x22dh\\x22:true,\\x22dhqt\\x22:true,\\x22ds\\x22:\\x22\\x22,\\x22ffql\\x22:\\x22en\\x22,\\x22fl\\x22:true,\\x22host\\x22:\\x22google.com\\x22,\\x22isbh\\x22:28,\\x22jsonp\\x22:true,\\x22msgs\\x22:{\\x22cibl\\x22:\\x22Clear Search\\x22,\\x22dym\\x22:\\x22Did you mean:\\x22,\\x22lcky\\x22:\\x22I\\\\u0026#39;m Feeling Lucky\\x22,\\x22lml\\x22:\\x22Learn more\\x22,\\x22oskt\\x22:\\x22Input tools\\x22,\\x22psrc\\x22:\\x22This search was removed from your \\\\u003Ca href\\x3d\\\\\\x22/history\\\\\\x22\\\\u003EWeb History\\\\u003C/a\\\\u003E\\x22,\\x22psrl\\x22:\\x22Remove\\x22,\\x22sbit\\x22:\\x22Search by image\\x22,\\x22srch\\x22:\\x22Google Search\\x22},\\x22nrft\\x22:false,\\x22ovr\\x22:{},\\x22pq\\x22:\\x22\\x22,\\x22refpd\\x22:true,\\x22rfs\\x22:[],\\x22sbas\\x22:\\x220 3px 8px 0 rgba(0,0,0,0.2),0 0 0 1px rgba(0,0,0,0.08)\\x22,\\x22sbpl\\x22:16,\\x22sbpr\\x22:16,\\x22scd\\x22:10,\\x22stok\\x22:\\x22Kxud91J7K6tBvvc4EPzA_vYVGXk\\x22,\\x22uhde\\x22:false}}';google.pmc=JSON.parse(pmc);})();</script>        </body></html>\n"
          ],
          "name": "stdout"
        }
      ]
    },
    {
      "cell_type": "markdown",
      "metadata": {
        "id": "PrkSuHo5nD6B"
      },
      "source": [
        "**AIM:**"
      ]
    },
    {
      "cell_type": "markdown",
      "metadata": {
        "id": "4cWpkpm-jjKZ"
      },
      "source": [
        "c) Write a simple script that serves a simple HTTPResponse and a simple HTML Page"
      ]
    },
    {
      "cell_type": "markdown",
      "metadata": {
        "id": "vhf67hsWnNlA"
      },
      "source": [
        " **DESCRIPTION:**\n",
        " \n",
        "  **HTTP Protocol**\n",
        " \n",
        "The most important part of a web server is HTTP protocol.So now we will see what exactly this is –\n",
        " \n",
        "It stands for Hyper Text Transfer Protocol.\n",
        " \n",
        "It is an application layer protocol that allows web based applications to \n",
        "communicate and exchange data.\n",
        " \n",
        "The HTTP is the messenger of web.\n",
        " \n",
        "The computer that communicate via the HTTP must speak the HTTP protocol.\n",
        " \n",
        "It is a TCP/IP based protocol.\n",
        " \n",
        "It is used to deliver contents, for eg. images, audios, videos, documents etc.\n",
        " \n",
        "Using HTTP is the most convenient way to quickly and reliably move data on the web.\n",
        " \n",
        "HTML stands for hypertext markup language. It is the standard markup language for web pages that define the structure of the content. These elements are the building blocks of any website"
      ]
    },
    {
      "cell_type": "markdown",
      "metadata": {
        "id": "r59C3dYSnSdk"
      },
      "source": [
        " **PROGRAM:**"
      ]
    },
    {
      "cell_type": "code",
      "metadata": {
        "colab": {
          "base_uri": "https://localhost:8080/"
        },
        "id": "mhgs8SCCjpRH",
        "outputId": "f7837e49-776e-42fb-88e1-413b1f33936f"
      },
      "source": [
        "from flask import Flask,render_template\n",
        "app=Flask(__name__)\n",
        "print(app)\n",
        "@app.route(\"/\")\n",
        "def main():\n",
        "  return render_template('login.html')\n",
        "  if __name__==\"__main__\":\n",
        "    app.run(host=\"127.0.0.1\",port=2500)"
      ],
      "execution_count": null,
      "outputs": [
        {
          "output_type": "stream",
          "text": [
            "<Flask '__main__'>\n"
          ],
          "name": "stdout"
        }
      ]
    },
    {
      "cell_type": "markdown",
      "metadata": {
        "id": "gGlSy25TlAmh"
      },
      "source": [
        "# **Exercise-13 OOP**"
      ]
    },
    {
      "cell_type": "markdown",
      "metadata": {
        "id": "BdD1VTjWnt9c"
      },
      "source": [
        " **AIM:**"
      ]
    },
    {
      "cell_type": "markdown",
      "metadata": {
        "id": "XGPuoitllROO"
      },
      "source": [
        "a) Class variables and instance variable and illustration of the self-variable."
      ]
    },
    {
      "cell_type": "markdown",
      "metadata": {
        "id": "3DbQsHGLn94B"
      },
      "source": [
        "**DESCRIPTION:**\n",
        " \n",
        "Variables are named storage location. In python variables are not defined by its type instead it\n",
        "will be automatically determined by the value assigned to it.\n",
        "To determine the type of a variable a function called type () is used.\n",
        " \n",
        "**class variable**is shared by all object instances of a class. ... They are not defined inside any methods of a class. Because a class variable is shared by instances of a class, the Python class owns the variable. As a result, all instances of the class will be able to access that variable\n",
        " \n",
        "**Instance variables** are owned by instances of the class. This means that for each object or instance of a class, the instance variables are different. ... Instance variables, owned by objects of the class, allow for each object or instance to have different values assigned to those variables\n",
        " \n",
        "**self variable** is used to bind the instance of the class to the instance method. We have to explicitly declare it as the first method argument to access the instance variables and methods. This variable is used only with the instance methods.\n",
        " \n",
        "**PROGRAM:**"
      ]
    },
    {
      "cell_type": "markdown",
      "metadata": {
        "id": "2uNgNg4TFKKa"
      },
      "source": [
        "i)Robot"
      ]
    },
    {
      "cell_type": "code",
      "metadata": {
        "colab": {
          "base_uri": "https://localhost:8080/"
        },
        "id": "cxisxNXXlhyK",
        "outputId": "9c68d703-0165-467d-aa33-970ad40493b6"
      },
      "source": [
        "class Robot:\n",
        "    what=\"Machine\"\n",
        "    name=\"Chitti\"\n",
        "    version=1.0\n",
        "    speed=\"1THz\"\n",
        "    memory=\"1ZB\"\n",
        " \n",
        "    def update(upd):\n",
        "        upd.version=2.0\n",
        "        upd.speed=\"2THz\"\n",
        "        upd.memory=\"2ZB\"\n",
        " \n",
        "    def disp(self):\n",
        "        print(\"Myself is a\",robj.what)\n",
        "        print(\"MyName is a\",robj.name)\n",
        "        print(\"Version :\",robj.version)\n",
        "        print(\"Speed : \",robj.speed)\n",
        "        print(\"Memory: \",robj.memory)\n",
        " \n",
        "robj=Robot()\n",
        "robj.disp()\n",
        " \n",
        "print(\"---------------Update---------\")\n",
        "robj.update()\n",
        "robj.disp()"
      ],
      "execution_count": null,
      "outputs": [
        {
          "output_type": "stream",
          "text": [
            "Myself is a Machine\n",
            "MyName is a Chitti\n",
            "Version : 1.0\n",
            "Speed :  1THz\n",
            "Memory:  1ZB\n",
            "---------------Update---------\n",
            "Myself is a Machine\n",
            "MyName is a Chitti\n",
            "Version : 2.0\n",
            "Speed :  2THz\n",
            "Memory:  2ZB\n"
          ],
          "name": "stdout"
        }
      ]
    },
    {
      "cell_type": "markdown",
      "metadata": {
        "id": "VZju7Blxlulz"
      },
      "source": [
        "ii)ATM Machine"
      ]
    },
    {
      "cell_type": "code",
      "metadata": {
        "colab": {
          "base_uri": "https://localhost:8080/"
        },
        "id": "V_P_7YTjl3bs",
        "outputId": "1509d2df-dab0-42a4-e31e-e46b4d3b5d40"
      },
      "source": [
        "class ATM:\n",
        "    def __init__(self):\n",
        "        self.balance=0\n",
        "        print(\"New Account\")\n",
        "        \n",
        "    def enquire(self):\n",
        "        print(\"Balance: \",self.balance)\n",
        "        \n",
        "    def deposit(self):\n",
        "        amount=int(input(\"Enter the Deposit Amount:\"))\n",
        "        self.balance+=amount\n",
        "        self.enquire()\n",
        " \n",
        "    def withdraw(self):\n",
        "        amount=int(input(\"Enter the Withdraw Amount: \"))\n",
        "        if self.balance<amount:\n",
        "            print(\"Insufficient Balance.....!\")\n",
        "        else:\n",
        "            self.balance-=amount\n",
        "            self.enquire()\n",
        " \n",
        "aobj=ATM()\n",
        "while(True):\n",
        "    print(\"*****Menu****\")\n",
        "    print(\"1.Deposit\")\n",
        "    print(\"2.Withdarw\")\n",
        "    print(\"3.Balance\")\n",
        "    print(\"0.Exit\")\n",
        "    ch=int(input(\"Enter Your Choice: \"))\n",
        "    if ch==0:\n",
        "        break\n",
        "    elif ch==1:\n",
        "        aobj.deposit()\n",
        "    elif ch==2:\n",
        "        aobj.withdraw()\n",
        "    elif ch==3:\n",
        "        aobj.enquire()\n",
        "    else:\n",
        "        print(\"Invalid choice:\")\n",
        "        pass"
      ],
      "execution_count": null,
      "outputs": [
        {
          "output_type": "stream",
          "text": [
            "New Account\n",
            "*****Menu****\n",
            "1.Deposit\n",
            "2.Withdarw\n",
            "3.Balance\n",
            "0.Exit\n",
            "Enter Your Choice: 1\n",
            "Enter the Deposit Amount:1000\n",
            "Balance:  1000\n",
            "*****Menu****\n",
            "1.Deposit\n",
            "2.Withdarw\n",
            "3.Balance\n",
            "0.Exit\n",
            "Enter Your Choice: 2\n",
            "Enter the Withdraw Amount: 500\n",
            "Balance:  500\n",
            "*****Menu****\n",
            "1.Deposit\n",
            "2.Withdarw\n",
            "3.Balance\n",
            "0.Exit\n",
            "Enter Your Choice: 0\n"
          ],
          "name": "stdout"
        }
      ]
    },
    {
      "cell_type": "markdown",
      "metadata": {
        "id": "ItueKJMIkHX7"
      },
      "source": [
        "# **Exercise - 14 GUI, Graphics**\n",
        " \n",
        "**AIM:**"
      ]
    },
    {
      "cell_type": "markdown",
      "metadata": {
        "id": "2K9t2lAGkIz3"
      },
      "source": [
        " 1. Write a GUI for an Expression Calculator using tk"
      ]
    },
    {
      "cell_type": "markdown",
      "metadata": {
        "id": "xJRyQLEvoPrU"
      },
      "source": [
        "**DESCRIPTION:**\n",
        " \n",
        "Tkinter is a Python package which comes with many functions and methods that can be used to create an application. In order to create a tkinter application, we generally create an instance of tkinter frame, i.e., Tk(). It helps to display the root window and manages all the other components of the tkinter application. We can initialize the tkinter instance by assigning the variable to it."
      ]
    },
    {
      "cell_type": "markdown",
      "metadata": {
        "id": "Lr890UNioYQO"
      },
      "source": [
        "**PROGRAM:**"
      ]
    },
    {
      "cell_type": "code",
      "metadata": {
        "id": "Dp6sP2QXoxK3"
      },
      "source": [
        " \n",
        "from tkinter import *\n",
        "from math import *\n",
        "win=Tk()\n",
        "win.geometry(\"312x324\")\n",
        "win.resizable(0,0)\n",
        "win.title(\"My Calculator\")\n",
        " \n",
        "def btn_click(item):\n",
        "    global expression\n",
        "    expression=expression+str(item)\n",
        "    input_text.set(expression)\n",
        " \n",
        "def bt_clear():\n",
        "    global expression\n",
        "    expression=\"\"\n",
        "    input_text.set(\"\")\n",
        " \n",
        "def bt_equal():\n",
        "    global expression\n",
        "    result=str(eval(expression))\n",
        "    input_text.set(result)\n",
        "    expression=\"\"\n",
        "expression=\"\"\n",
        " \n",
        "input_text=StringVar()\n",
        " \n",
        "input_frame = Frame(win,width=312,height=50,bd=0,highlightbackground=\"black\",\n",
        "highlightcolor=\"black\",highlightthickness=2)\n",
        "input_frame.pack(side=TOP)\n",
        " \n",
        "input_field = Entry(input_frame,font=('arial',18,'bold'),textvariable=input_text,width=50,bg=\"#eee\",bd=0,justify=RIGHT)\n",
        "input_field.grid(row=0,column=0)\n",
        "input_field.pack(ipady=10)\n",
        " \n",
        "btns_frame=Frame(win,width=312,height=272.5,bg=\"grey\")\n",
        "btns_frame.pack()\n",
        " \n",
        "clear=Button(btns_frame,text=\"C\",fg=\"black\",width=32,height=3,bd=0,bg=\"#eee\",cursor=\"hand2\",command=lambda:bt_clear()).grid(row=0,column=0,columnspan=3,padx=1,pady=1)\n",
        "divide=Button(btns_frame,text=\"/\",fg=\"black\",width=10,height=3,bd=0,bg=\"#eee\",cursor=\"hand2\",command=lambda:btn_click(\"/\")).grid(row=0,column=3,padx=1,pady=1)\n",
        " \n",
        "seven=Button(btns_frame,text=\"7\",fg=\"black\",width=10,height=3,bd=0,bg=\"#fff\",cursor=\"hand2\",command=lambda:btn_click(7)).grid(row=1,column=0,padx=1,pady=1)\n",
        "eight=Button(btns_frame,text=\"8\",fg=\"black\",width=10,height=3,bd=0,bg=\"#fff\",cursor=\"hand2\",command=lambda:btn_click(8)).grid(row=1,column=1,padx=1,pady=1)\n",
        "nine=Button(btns_frame,text=\"9\",fg=\"black\",width=10,height=3,bd=0,bg=\"#fff\",cursor=\"hand2\",command=lambda:btn_click(9)).grid(row=1,column=2,padx=1,pady=1)\n",
        "multiply=Button(btns_frame,text=\"*\",fg=\"black\",width=10,height=3,bd=0,bg='#eee',cursor=\"hand2\",command=lambda:btn_click(\"*\")).grid(row=1,column=3, padx=1,pady=1)\n",
        " \n",
        "four=Button(btns_frame,text=\"4\",fg=\"black\",width=10,height=3,bd=0,bg=\"#fff\",cursor=\"hand2\",command=lambda:btn_click(4)).grid(row=2,column=0,padx=1,pady=1)\n",
        "five=Button(btns_frame,text=\"5\",fg=\"black\",width=10,height=3,bd=0,bg=\"#fff\",cursor=\"hand2\",command=lambda:btn_click(5)).grid(row=2,column=1,padx=1,pady=1)\n",
        "six=Button(btns_frame,text=\"6\",fg=\"black\",width=10,height=3,bd=0,bg=\"#fff\",cursor=\"hand2\",command=lambda:btn_click(6)).grid(row=2,column=2,padx=1,pady=1)\n",
        "minus=Button(btns_frame,text=\"-\",fg=\"black\",width=10,height=3,bd=0,bg='#eee',cursor=\"hand2\",command=lambda:btn_click(\"-\")).grid(row=2,column=3, padx=1,pady=1)\n",
        " \n",
        "one=Button(btns_frame,text=\"1\",fg=\"black\",width=10,height=3,bd=0,bg=\"#fff\",cursor=\"hand2\",command=lambda:btn_click(1)).grid(row=3,column=0,padx=1,pady=1)\n",
        "two=Button(btns_frame,text=\"2\",fg=\"black\",width=10,height=3,bd=0,bg=\"#fff\",cursor=\"hand2\",command=lambda:btn_click(2)).grid(row=3,column=1,padx=1,pady=1)\n",
        "three=Button(btns_frame,text=\"3\",fg=\"black\",width=10,height=3,bd=0,bg=\"#fff\",cursor=\"hand2\",command=lambda:btn_click(3)).grid(row=3,column=2,padx=1,pady=1)\n",
        "plus=Button(btns_frame,text=\"+\",fg=\"black\",width=10,height=3,bd=0,bg='#eee',cursor=\"hand2\",command=lambda:btn_click(\"+\")).grid(row=3,column=3, padx=1,pady=1)\n",
        " \n",
        "zero=Button(btns_frame,text=\"0\",fg=\"black\",width=21,height=3,bd=0,bg=\"#fff\",cursor=\"hand2\",command=lambda:btn_click(0)).grid(row=4,column=0,columnspan=2,padx=1,pady=1)\n",
        "point=Button(btns_frame,text=\".\",fg=\"black\",width=10,height=3,bd=0,bg=\"#eee\",cursor=\"hand2\",command=lambda:btn_click(\".\")).grid(row=4,column=2,padx=1,pady=1)\n",
        "equals=Button(btns_frame,text=\"=\",fg=\"black\",width=10,height=3,bd=0,bg=\"#eee\",cursor=\"hand2\",command=lambda:bt_equal()).grid(row=4,column=3,padx=1,pady=1)\n",
        " \n",
        "win.mainloop()"
      ],
      "execution_count": null,
      "outputs": []
    },
    {
      "cell_type": "markdown",
      "metadata": {
        "id": "4mnrIb32o2mT"
      },
      "source": [
        " **Output**"
      ]
    },
    {
      "cell_type": "markdown",
      "metadata": {
        "id": "9pKgemKVo_u6"
      },
      "source": [
        " https://drive.google.com/file/d/1wmP7468qu0_sDM-kdMop1_HmJK19Bb2y/view?usp=sharing"
      ]
    },
    {
      "cell_type": "markdown",
      "metadata": {
        "id": "3RyzeXdypD2D"
      },
      "source": [
        " https://drive.google.com/file/d/1EKtrQzzyJPsaex-kjd-ZLUD8TlU72bvm/view?usp=sharing"
      ]
    },
    {
      "cell_type": "markdown",
      "metadata": {
        "id": "6KOtPLL8pHoY"
      },
      "source": [
        " https://drive.google.com/file/d/1T7O2fRBDrRLdzEK7kbj-ui5SNC4igDme/view?usp=sharing"
      ]
    },
    {
      "cell_type": "markdown",
      "metadata": {
        "id": "0Ld20-pQpQpc"
      },
      "source": [
        "**AIM:**"
      ]
    },
    {
      "cell_type": "markdown",
      "metadata": {
        "id": "9SM14zuhlarm"
      },
      "source": [
        " 2. Write a program to implement the following figures using turtle"
      ]
    },
    {
      "cell_type": "markdown",
      "metadata": {
        "id": "W5qvV02NpeFh"
      },
      "source": [
        "**DESCRIPTION:**\n",
        " \n",
        "The turtle module is an extended reimplementation of the same-named module from the Python standard distribution up to version Python 2.5.\n",
        " \n",
        "It tries to keep the merits of the old turtle module and to be (nearly) 100% compatible with it. This means in the first place to enable the learning programmer to use all the commands, classes and methods interactively when using the module from within IDLE run with the -n switch.\n",
        " \n",
        "The turtle module provides turtle graphics primitives, in both object-oriented and procedure-oriented ways. Because it uses tkinter for the underlying graphics, it needs a version of Python installed with Tk support."
      ]
    },
    {
      "cell_type": "markdown",
      "metadata": {
        "id": "pOlASjH2pfSA"
      },
      "source": [
        " **PROGRAM:**"
      ]
    },
    {
      "cell_type": "code",
      "metadata": {
        "id": "xoPVVWoypq6z"
      },
      "source": [
        "import turtle\n",
        "c=[\"red\",\"green\",\"blue\"]\n",
        "i=0\n",
        "turtle.pensize(5)\n",
        " \n",
        "for angle in range(0,360,30):\n",
        "    if i>2:\n",
        "        i=0\n",
        "    turtle.color(c[i])\n",
        "    turtle.seth(angle)\n",
        "    turtle.circle(50)\n",
        "    i+=1"
      ],
      "execution_count": null,
      "outputs": []
    },
    {
      "cell_type": "markdown",
      "metadata": {
        "id": "1K88k3Nypydp"
      },
      "source": [
        " **Output**"
      ]
    },
    {
      "cell_type": "markdown",
      "metadata": {
        "id": "vEzsMwSpp2tQ"
      },
      "source": [
        " https://drive.google.com/file/d/1eO7D9QdEhvpJ361AQ27u-3vayjNk-W1M/view?usp=sharing"
      ]
    },
    {
      "cell_type": "markdown",
      "metadata": {
        "id": "LlgIMISzlnqI"
      },
      "source": [
        " \n",
        " # **Exercise - 15 - Testing**\n",
        " **AIM:**\n",
        " \n",
        "a) Write a test-case to check the function even numbers which return True on passing a list of all even \n",
        "numbers"
      ]
    },
    {
      "cell_type": "markdown",
      "metadata": {
        "id": "eH5P6S8eqLkt"
      },
      "source": [
        " **DESCRIPTION:**\n",
        " \n",
        "TestCase is used to create test cases by subclassing it. The last block of the code at the bottom allows us to run all the tests just by running the file. Basic terms used in the code : assertEqual() – This statement is used to check if the result obtained is equal to the expected result\n",
        " \n",
        "**test case:**\n",
        " \n",
        "A test case is a set of conditions which is used to determine whether a system under test works correctly."
      ]
    },
    {
      "cell_type": "markdown",
      "metadata": {
        "id": "R0y8KI53qSAP"
      },
      "source": [
        " **PROGRAM:**"
      ]
    },
    {
      "cell_type": "code",
      "metadata": {
        "colab": {
          "base_uri": "https://localhost:8080/"
        },
        "id": "LbDdZAa9mP5C",
        "outputId": "909a42d7-6b04-4173-e5b3-f508671f417b"
      },
      "source": [
        " \n",
        "def evnNo(num):\n",
        "    stat=True\n",
        " \n",
        "    for i in num:\n",
        "        if i%2 ==1:\n",
        "            stat=False\n",
        "            break\n",
        "    return stat\n",
        "        \n",
        "numbers=[]\n",
        "for i in range(0,2):\n",
        "    numbers.append(int(input(\"Enter a value:\")))\n",
        "print(evnNo(numbers))"
      ],
      "execution_count": null,
      "outputs": [
        {
          "output_type": "stream",
          "text": [
            "Enter a value:6\n",
            "Enter a value:9\n",
            "False\n"
          ],
          "name": "stdout"
        }
      ]
    },
    {
      "cell_type": "markdown",
      "metadata": {
        "id": "HSwSmAy5qZNv"
      },
      "source": [
        " **AIM:**"
      ]
    },
    {
      "cell_type": "markdown",
      "metadata": {
        "id": "HxzozBefmslf"
      },
      "source": [
        " \n",
        " \n",
        "b) Write a test-case to check the function reverse string which returns the reversed string"
      ]
    },
    {
      "cell_type": "markdown",
      "metadata": {
        "id": "kfVKhR5eqfUW"
      },
      "source": [
        " **DESCRIPTION:**\n",
        " \n",
        "Python string library does’nt support the in-built “reverse()” as done by other python containers like list, hence knowing other methods to reverse string can prove to be useful. This article discusses several ways to achieve it.\n",
        " \n",
        "The reversed() returns the reversed iterator of the given string and then its elements are joined empty string separated using join(). And reversed order string is formed."
      ]
    },
    {
      "cell_type": "markdown",
      "metadata": {
        "id": "x-grhXw6qjZv"
      },
      "source": [
        " **PROGRAM:**"
      ]
    },
    {
      "cell_type": "code",
      "metadata": {
        "colab": {
          "base_uri": "https://localhost:8080/"
        },
        "id": "JMm6UOnRmuBu",
        "outputId": "724faa63-133c-4ece-cbc5-88467f2b2caa"
      },
      "source": [
        " \n",
        "def rev_str(st):\n",
        "    temp=\"\"\n",
        "    for i in range(len(st)-1,-1,-1):\n",
        "        temp+=st[i]\n",
        "    return temp\n",
        " \n",
        "st=\"Satyanarayana\"\n",
        "print(\"Given String is: \",st)\n",
        "print(\"Reverse String is: \",st[::-1])\n",
        "print(\"Reverse is: \",rev_str(st))"
      ],
      "execution_count": null,
      "outputs": [
        {
          "output_type": "stream",
          "text": [
            "Given String is:  Satyanarayana\n",
            "Reverse String is:  anayaranaytaS\n",
            "Reverse is:  anayaranaytaS\n"
          ],
          "name": "stdout"
        }
      ]
    },
    {
      "cell_type": "markdown",
      "metadata": {
        "id": "hfs_VmYOneED"
      },
      "source": [
        "# **Exercise - 16 - Advanced**\n",
        " **AIM:**\n",
        " \n",
        "a) Build any one classical data structure."
      ]
    },
    {
      "cell_type": "markdown",
      "metadata": {
        "id": "z1y5ywuXq1dD"
      },
      "source": [
        " **DESCRIPTION:**\n",
        " \n",
        "**What is a Data Structure?** \n",
        " \n",
        "Organizing, managing and storing data is important as it enables easier access and efficient modifications. Data Structures allows you to organize your data in such a way that enables you to store collections of data, relate them and perform operations on them accordingly. \n",
        " \n",
        "**Stack**\n",
        "Stacks are linear Data Structures which are based on the principle of Last-In-First-Out (LIFO) where data which is entered last will be the first to get accessed. It is built using the array structure and has operations namely, pushing (adding) elements, popping (deleting) elements and accessing elements only from one point in the stack called as the TOP. This TOP is the pointer to the current position of the stack. Stacks are prominently used in applications such as Recursive Programming, reversing words, undo mechanisms in word editors and so forth."
      ]
    },
    {
      "cell_type": "markdown",
      "metadata": {
        "id": "3GFpQ0dwq6g-"
      },
      "source": [
        " **PROGRAM:**"
      ]
    },
    {
      "cell_type": "code",
      "metadata": {
        "colab": {
          "base_uri": "https://localhost:8080/",
          "height": 567
        },
        "id": "hfo3Zrj9nkmK",
        "outputId": "c443c846-a581-401a-ada4-53475d172b74"
      },
      "source": [
        "import sys\n",
        "a=[]\n",
        " \n",
        "while True:\n",
        "  print (\"\\nl.PUSH 2.POP 3.DISPLAY 4.EXIT\")\n",
        "  ch=int(input(\"Enter Your Choice: \"))\n",
        "  if ch==1:\n",
        "   ele=int(input(\"Enter element: \"))\n",
        "   a.append(ele)\n",
        "   print(\"Inserted\")\n",
        "  elif ch==2:\n",
        "   if len(a)==0:\n",
        "     print (\"\\t STACK IS EMPTY\")\n",
        "   else:\n",
        "     print (\"Deleted element is: \",a[len(a)-1])\n",
        "     a.remove(a[len(a)-1])\n",
        "  elif ch==3:\n",
        "   if len(a)==0:\n",
        "     print (\"\\t STACK IS EMPTY\")\n",
        "   else:\n",
        "    print (\"The Elements in Stack is: \")\n",
        "    for i in reversed(a):\n",
        "       print(i)\n",
        "  elif ch==4:\n",
        "    sys.exit()\n",
        "  else:\n",
        "   print (\"\\tINVALID CHOICE\")"
      ],
      "execution_count": null,
      "outputs": [
        {
          "output_type": "stream",
          "text": [
            "\n",
            "l.PUSH 2.POP 3.DISPLAY 4.EXIT\n",
            "Enter Your Choice: 1\n",
            "Enter element: 4\n",
            "Inserted\n",
            "\n",
            "l.PUSH 2.POP 3.DISPLAY 4.EXIT\n",
            "Enter Your Choice: 1\n",
            "Enter element: 5\n",
            "Inserted\n",
            "\n",
            "l.PUSH 2.POP 3.DISPLAY 4.EXIT\n",
            "Enter Your Choice: 2\n",
            "Deleted element is:  5\n",
            "\n",
            "l.PUSH 2.POP 3.DISPLAY 4.EXIT\n",
            "Enter Your Choice: 3\n",
            "The Elements in Stack is: \n",
            "4\n",
            "\n",
            "l.PUSH 2.POP 3.DISPLAY 4.EXIT\n",
            "Enter Your Choice: 4\n"
          ],
          "name": "stdout"
        },
        {
          "output_type": "error",
          "ename": "SystemExit",
          "evalue": "ignored",
          "traceback": [
            "An exception has occurred, use %tb to see the full traceback.\n",
            "\u001b[0;31mSystemExit\u001b[0m\n"
          ]
        },
        {
          "output_type": "stream",
          "text": [
            "/usr/local/lib/python3.7/dist-packages/IPython/core/interactiveshell.py:2890: UserWarning: To exit: use 'exit', 'quit', or Ctrl-D.\n",
            "  warn(\"To exit: use 'exit', 'quit', or Ctrl-D.\", stacklevel=1)\n"
          ],
          "name": "stderr"
        }
      ]
    },
    {
      "cell_type": "markdown",
      "metadata": {
        "id": "fdJry7HArDci"
      },
      "source": [
        " **AIM:**"
      ]
    },
    {
      "cell_type": "markdown",
      "metadata": {
        "id": "fxgkp4wkn-Wt"
      },
      "source": [
        " b) Write a program to solve knapsack problem"
      ]
    },
    {
      "cell_type": "markdown",
      "metadata": {
        "id": "JHVyTRlZrVX9"
      },
      "source": [
        " **DESCRIPTION:**\n",
        " \n",
        "Python Program for 0-1 Knapsack Problem\n",
        " \n",
        "Problem statement − We are given weights and values of n items, we need to put these items in a bag of capacity W up to the maximum capacity w. We need to carry a maximum number of items and return its value.\n",
        " \n",
        " Brute-force approach.\n",
        " \n",
        "dynamic approach."
      ]
    },
    {
      "cell_type": "markdown",
      "metadata": {
        "id": "bU8Nd5fsrZY_"
      },
      "source": [
        " **PROGRAM:**"
      ]
    },
    {
      "cell_type": "code",
      "metadata": {
        "colab": {
          "base_uri": "https://localhost:8080/"
        },
        "id": "HZG_cYPKoFNV",
        "outputId": "c4483216-7148-41c7-8af4-7aad9e3f05da"
      },
      "source": [
        "def knapSack(W, wt, val, n):\n",
        "   K= [[0 for x in range(W+1)] for x in range(n+1)]\n",
        "   for i in range(n+1):\n",
        "     for w in range(W+1):\n",
        "       if i==0 or w==0:\n",
        "          K[i][w] = 0\n",
        "       elif wt[i-1]<=w:\n",
        "          K[i][w]= max(val[i-1]+K[i-1][w-wt[i-1]],K[i-1][w])\n",
        "       else:\n",
        "          K[i][w] = K[i-1][w]\n",
        "   return K[n][W]\n",
        "val = [5, 3, 4]\n",
        "wt = [3, 2, 1]\n",
        "W = 5\n",
        "n= len(val)\n",
        "print(\"Maximum value knapsack of capacity W: \", knapSack(W, wt,val,n))"
      ],
      "execution_count": null,
      "outputs": [
        {
          "output_type": "stream",
          "text": [
            "Maximum value knapsack of capacity W:  9\n"
          ],
          "name": "stdout"
        }
      ]
    },
    {
      "cell_type": "markdown",
      "metadata": {
        "id": "fd9FMLeMol42"
      },
      "source": [
        "# **Exercise - 17&18–Data Analysis**\n",
        " **AIM:**\n",
        " \n",
        "Data analysis or manipulation using the following packages\n",
        " \n",
        " \n",
        "a) Numpy b) Pandas\n",
        "a) Scipy b) matplotlib"
      ]
    },
    {
      "cell_type": "markdown",
      "metadata": {
        "id": "b7JBeoHRrr2v"
      },
      "source": [
        " **DESCRIPTION:**\n",
        " \n",
        "Learn how to analyze data using Python. ... It includes following parts: Data Analysis libraries: will learn to use Pandas, Numpy and Scipy libraries to work with a sample dataset. We will introduce you to pandas, an open-source library, and we will use it to load, manipulate, analyze, and visualize cool datasets.\n",
        " \n",
        "**SciPy** is a free and open-source Python library used for scientific computing and technical computing. It is a collection of mathematical algorithms and convenience functions built on the NumPy extension of Python\n",
        " \n",
        "**NumPy** is the fundamental package for scientific computing in Python. ... NumPy arrays facilitate advanced mathematical and other types of operations on large numbers of data.\n",
        " \n",
        "**Matplotlib** is a plotting library for the Python programming language and its numerical mathematics extension NumPy. It provides an object-oriented API for embedding plots into applications using general-purpose GUI toolkits like Tkinter, wxPython, Qt, or GTK\n",
        " \n",
        "**Pandas** is an open source Python package that is most widely used for data science/data analysis and machine learning tasks. It is built on top of another package named Numpy, which provides support for multi-dimensional arrays.\n",
        " \n",
        "**Scikit-learn** is probably the most useful library for machine learning in Python. The sklearn library contains a lot of efficient tools for machine learning and statistical modeling including classification, regression, clustering and dimensionality reduction.\n",
        " \n",
        "**Seaborn** is a library in Python predominantly used for making statistical graphics. Seaborn is a data visualization library built on top of matplotlib and closely integrated with pandas data structures in Python"
      ]
    },
    {
      "cell_type": "markdown",
      "metadata": {
        "id": "GCeu762Frwud"
      },
      "source": [
        " **PROGRAM:**"
      ]
    },
    {
      "cell_type": "code",
      "metadata": {
        "colab": {
          "base_uri": "https://localhost:8080/"
        },
        "id": "jwkgOFUXpW3C",
        "outputId": "b16cc2b9-a106-4541-b857-8a2b56c2867a"
      },
      "source": [
        "#Python version\n",
        "import sys\n",
        "print('Python: {}'.format(sys.version))\n",
        " \n",
        "#scipy\n",
        "import scipy\n",
        "print('scipy: {}'.format(scipy.__version__))\n",
        " \n",
        "# numpy\n",
        "import numpy\n",
        "print( 'numpy: {}'.format(numpy.__version__))\n",
        " \n",
        "# matplotlib\n",
        "import matplotlib\n",
        "print('matplotlib: {}'.format(matplotlib.__version__))\n",
        " \n",
        "# pandas\n",
        "import pandas\n",
        "print('pandas: {}'.format(pandas.__version__))\n",
        " \n",
        "#scikit-learn\n",
        "import sklearn\n",
        "print('sklearn: {}'.format(sklearn.__version__))\n",
        "import seaborn\n",
        "print('seaborn: {}'.format(seaborn.__version__))\n",
        "import urllib\n",
        "print('urlib: {}'.format(urllib.__name__))\n",
        "import csv\n",
        "print('csv: {}'.format(csv.__version__))"
      ],
      "execution_count": null,
      "outputs": [
        {
          "output_type": "stream",
          "name": "stdout",
          "text": [
            "Python: 3.7.11 (default, Jul  3 2021, 18:01:19) \n",
            "[GCC 7.5.0]\n",
            "scipy: 1.4.1\n",
            "numpy: 1.19.5\n",
            "matplotlib: 3.2.2\n",
            "pandas: 1.1.5\n",
            "sklearn: 0.22.2.post1\n",
            "seaborn: 0.11.1\n",
            "urlib: urllib\n",
            "csv: 1.0\n"
          ]
        }
      ]
    },
    {
      "cell_type": "markdown",
      "metadata": {
        "id": "jSZ2LvD_r7SY"
      },
      "source": [
        " # **NumPy**"
      ]
    },
    {
      "cell_type": "code",
      "metadata": {
        "colab": {
          "base_uri": "https://localhost:8080/"
        },
        "id": "5ToYBfkqsA65",
        "outputId": "2c9e7a91-1307-4818-aad4-bb4294bbce66"
      },
      "source": [
        "import numpy as np\n",
        "a=np.array([0,1,2])\n",
        "print(type(a))\n",
        "print(a.shape)\n",
        "print(a[0])\n",
        "print(a[1])\n",
        "print(a[2])\n",
        "a[0]=5\n",
        "print(a)"
      ],
      "execution_count": null,
      "outputs": [
        {
          "output_type": "stream",
          "name": "stdout",
          "text": [
            "<class 'numpy.ndarray'>\n",
            "(3,)\n",
            "0\n",
            "1\n",
            "2\n",
            "[5 1 2]\n"
          ]
        }
      ]
    },
    {
      "cell_type": "code",
      "metadata": {
        "colab": {
          "base_uri": "https://localhost:8080/"
        },
        "id": "M-NsEBoHsaMa",
        "outputId": "e927487f-3b4b-4c6d-bc1b-33eb91671f0d"
      },
      "source": [
        "import numpy as np\n",
        "b=np.array([[0,1,2],[3,4,5]])\n",
        "print(b.shape)\n",
        "print(b)\n",
        "print(b[0,0],b[0,1],b[1,0])"
      ],
      "execution_count": null,
      "outputs": [
        {
          "output_type": "stream",
          "name": "stdout",
          "text": [
            "(2, 3)\n",
            "[[0 1 2]\n",
            " [3 4 5]]\n",
            "0 1 3\n"
          ]
        }
      ]
    },
    {
      "cell_type": "code",
      "metadata": {
        "colab": {
          "base_uri": "https://localhost:8080/"
        },
        "id": "MuhosY27shx5",
        "outputId": "c34d2a5b-b4f5-46c7-96e0-b1e8abdba341"
      },
      "source": [
        "import numpy as np\n",
        "a=np.zeros((3,3))\n",
        "print(a)"
      ],
      "execution_count": null,
      "outputs": [
        {
          "output_type": "stream",
          "name": "stdout",
          "text": [
            "[[0. 0. 0.]\n",
            " [0. 0. 0.]\n",
            " [0. 0. 0.]]\n"
          ]
        }
      ]
    },
    {
      "cell_type": "code",
      "metadata": {
        "colab": {
          "base_uri": "https://localhost:8080/"
        },
        "id": "W2aSpknMsmiI",
        "outputId": "248137d3-181b-4d44-8689-510cf440eb12"
      },
      "source": [
        "import numpy as np\n",
        "b=np.ones((2,2))\n",
        "print(b)"
      ],
      "execution_count": null,
      "outputs": [
        {
          "output_type": "stream",
          "name": "stdout",
          "text": [
            "[[1. 1.]\n",
            " [1. 1.]]\n"
          ]
        }
      ]
    },
    {
      "cell_type": "code",
      "metadata": {
        "colab": {
          "base_uri": "https://localhost:8080/"
        },
        "id": "1VatjdSDstDY",
        "outputId": "f0bdd63a-6831-4f3a-e3fa-ae9a98f75b76"
      },
      "source": [
        "import numpy as np\n",
        "c=np.full((3,3),7)\n",
        "print(c)"
      ],
      "execution_count": null,
      "outputs": [
        {
          "output_type": "stream",
          "name": "stdout",
          "text": [
            "[[7 7 7]\n",
            " [7 7 7]\n",
            " [7 7 7]]\n"
          ]
        }
      ]
    },
    {
      "cell_type": "code",
      "metadata": {
        "colab": {
          "base_uri": "https://localhost:8080/"
        },
        "id": "8LZtFthHsyML",
        "outputId": "a0044fb3-d8ee-48c9-ec86-fdb7bb6ec921"
      },
      "source": [
        "import numpy as np\n",
        "d=np.random.random((3,3))\n",
        "print(d)"
      ],
      "execution_count": null,
      "outputs": [
        {
          "output_type": "stream",
          "name": "stdout",
          "text": [
            "[[0.69894843 0.09235725 0.698464  ]\n",
            " [0.53967128 0.88613755 0.51273422]\n",
            " [0.51318486 0.08891849 0.85841249]]\n"
          ]
        }
      ]
    },
    {
      "cell_type": "code",
      "metadata": {
        "colab": {
          "base_uri": "https://localhost:8080/"
        },
        "id": "gamlfAhOs3zx",
        "outputId": "b3474167-7506-4fa2-bfee-0cbf44542d94"
      },
      "source": [
        "import numpy as np\n",
        "e=np.eye(3)\n",
        "print(e)"
      ],
      "execution_count": null,
      "outputs": [
        {
          "output_type": "stream",
          "name": "stdout",
          "text": [
            "[[1. 0. 0.]\n",
            " [0. 1. 0.]\n",
            " [0. 0. 1.]]\n"
          ]
        }
      ]
    },
    {
      "cell_type": "code",
      "metadata": {
        "colab": {
          "base_uri": "https://localhost:8080/"
        },
        "id": "RddGDYKMs85D",
        "outputId": "5efffdcc-d145-40f1-f179-7f4a894b5f2d"
      },
      "source": [
        "import numpy as np\n",
        "f=np.array([2,3,1,0])\n",
        "print(f)"
      ],
      "execution_count": null,
      "outputs": [
        {
          "output_type": "stream",
          "name": "stdout",
          "text": [
            "[2 3 1 0]\n"
          ]
        }
      ]
    },
    {
      "cell_type": "code",
      "metadata": {
        "colab": {
          "base_uri": "https://localhost:8080/"
        },
        "id": "KQvshk93tCAm",
        "outputId": "1aa775f7-e9e1-4639-cba3-2cdb6ed95a19"
      },
      "source": [
        "import numpy as np\n",
        "g=np.arange(2,10)\n",
        "print(g)"
      ],
      "execution_count": null,
      "outputs": [
        {
          "output_type": "stream",
          "name": "stdout",
          "text": [
            "[2 3 4 5 6 7 8 9]\n"
          ]
        }
      ]
    },
    {
      "cell_type": "code",
      "metadata": {
        "colab": {
          "base_uri": "https://localhost:8080/"
        },
        "id": "Qjr3IKUqtLCa",
        "outputId": "0147b674-ecb5-474e-c87b-c96e44133842"
      },
      "source": [
        "import numpy as np\n",
        "h=np.array([[0,1,2.0],[0,0,0],(1+1j,3.,2.)])\n",
        "print(h)"
      ],
      "execution_count": null,
      "outputs": [
        {
          "output_type": "stream",
          "name": "stdout",
          "text": [
            "[[0.+0.j 1.+0.j 2.+0.j]\n",
            " [0.+0.j 0.+0.j 0.+0.j]\n",
            " [1.+1.j 3.+0.j 2.+0.j]]\n"
          ]
        }
      ]
    },
    {
      "cell_type": "code",
      "metadata": {
        "colab": {
          "base_uri": "https://localhost:8080/"
        },
        "id": "QFsErwnZwp5U",
        "outputId": "46447a9a-a7e0-4bc9-d5c7-fc775acf5f33"
      },
      "source": [
        "import numpy as np\n",
        "i=np.arange(1,8,dtype=np.float)\n",
        "print(i)"
      ],
      "execution_count": null,
      "outputs": [
        {
          "output_type": "stream",
          "name": "stdout",
          "text": [
            "[1. 2. 3. 4. 5. 6. 7.]\n"
          ]
        }
      ]
    },
    {
      "cell_type": "code",
      "metadata": {
        "colab": {
          "base_uri": "https://localhost:8080/"
        },
        "id": "RJe_gM7Ywvoi",
        "outputId": "8e0bfdc9-c490-4bb0-a06f-ef022cebd349"
      },
      "source": [
        "import numpy as np\n",
        "j=np.linspace(2.,4., 5)\n",
        "print(j)"
      ],
      "execution_count": null,
      "outputs": [
        {
          "output_type": "stream",
          "name": "stdout",
          "text": [
            "[2.  2.5 3.  3.5 4. ]\n"
          ]
        }
      ]
    },
    {
      "cell_type": "code",
      "metadata": {
        "colab": {
          "base_uri": "https://localhost:8080/"
        },
        "id": "efXPOuyQw0fj",
        "outputId": "f153f708-0c9b-447a-b977-8087fb33873f"
      },
      "source": [
        "import numpy as np\n",
        "k=np.indices((3,3))\n",
        "print(k)"
      ],
      "execution_count": null,
      "outputs": [
        {
          "output_type": "stream",
          "name": "stdout",
          "text": [
            "[[[0 0 0]\n",
            "  [1 1 1]\n",
            "  [2 2 2]]\n",
            "\n",
            " [[0 1 2]\n",
            "  [0 1 2]\n",
            "  [0 1 2]]]\n"
          ]
        }
      ]
    },
    {
      "cell_type": "code",
      "metadata": {
        "colab": {
          "base_uri": "https://localhost:8080/"
        },
        "id": "XMZazn0Jw4ye",
        "outputId": "84a22c84-c6e2-46d4-e4fe-318b11b2b4a6"
      },
      "source": [
        "import numpy as np\n",
        "x=np.array([0,1])\n",
        "y=np.array([2.0,3.0])\n",
        "z=np.array([5,6], dtype=np.int64)\n",
        "print(x.dtype,y.dtype,z.dtype)"
      ],
      "execution_count": null,
      "outputs": [
        {
          "output_type": "stream",
          "name": "stdout",
          "text": [
            "int64 float64 int64\n"
          ]
        }
      ]
    },
    {
      "cell_type": "code",
      "metadata": {
        "colab": {
          "base_uri": "https://localhost:8080/"
        },
        "id": "6n5SFo6Qw9qN",
        "outputId": "0ccf5091-1d42-4333-a223-59b7809d0eda"
      },
      "source": [
        "import numpy as np\n",
        "x=np.array([5,6,7,8,9])\n",
        "print(x[1:7:2])\n",
        "print(x[-2:5])\n",
        "print(x[-1:1:-1])"
      ],
      "execution_count": null,
      "outputs": [
        {
          "output_type": "stream",
          "name": "stdout",
          "text": [
            "[6 8]\n",
            "[8 9]\n",
            "[9 8 7]\n"
          ]
        }
      ]
    },
    {
      "cell_type": "code",
      "metadata": {
        "colab": {
          "base_uri": "https://localhost:8080/"
        },
        "id": "21DLYUVYxCqQ",
        "outputId": "3b9eb9fc-dc32-46b3-93ce-cd05612f75d7"
      },
      "source": [
        "import numpy as np\n",
        "a=np.array([[1,2],[3,4],[5,6]])\n",
        "print(a>2)\n",
        "print(a[a>2])"
      ],
      "execution_count": null,
      "outputs": [
        {
          "output_type": "stream",
          "name": "stdout",
          "text": [
            "[[False False]\n",
            " [ True  True]\n",
            " [ True  True]]\n",
            "[3 4 5 6]\n"
          ]
        }
      ]
    },
    {
      "cell_type": "code",
      "metadata": {
        "colab": {
          "base_uri": "https://localhost:8080/"
        },
        "id": "CPFi557DxM8p",
        "outputId": "368c8d6b-afba-4ff0-ca6a-a441061db0a0"
      },
      "source": [
        "import numpy as np\n",
        "x=np.array([[1,2],[3,4],[5,6]])\n",
        "y=np.array([[7,8],[9,10],[11,12]])\n",
        "print(x+y)\n",
        "print(np.add(x,y))\n",
        "print(x-y)\n",
        "print(np.subtract(x,y))"
      ],
      "execution_count": null,
      "outputs": [
        {
          "output_type": "stream",
          "name": "stdout",
          "text": [
            "[[ 8 10]\n",
            " [12 14]\n",
            " [16 18]]\n",
            "[[ 8 10]\n",
            " [12 14]\n",
            " [16 18]]\n",
            "[[-6 -6]\n",
            " [-6 -6]\n",
            " [-6 -6]]\n",
            "[[-6 -6]\n",
            " [-6 -6]\n",
            " [-6 -6]]\n"
          ]
        }
      ]
    },
    {
      "cell_type": "code",
      "metadata": {
        "colab": {
          "base_uri": "https://localhost:8080/"
        },
        "id": "eHQ6j2cFxOlC",
        "outputId": "3dc31a37-37fa-44e4-d91d-a843c5dc8005"
      },
      "source": [
        "import numpy as np\n",
        "x=np.array([[1,2],[3,4],[5,6]])\n",
        "y=np.array([[7,8],[9,10],[11,12]])\n",
        "print(np.multiply(x,y))\n",
        "print(x*y)"
      ],
      "execution_count": null,
      "outputs": [
        {
          "output_type": "stream",
          "name": "stdout",
          "text": [
            "[[ 7 16]\n",
            " [27 40]\n",
            " [55 72]]\n",
            "[[ 7 16]\n",
            " [27 40]\n",
            " [55 72]]\n"
          ]
        }
      ]
    },
    {
      "cell_type": "code",
      "metadata": {
        "colab": {
          "base_uri": "https://localhost:8080/"
        },
        "id": "9ZZk2UuVxTLS",
        "outputId": "38d36dac-94e5-4f9e-d7eb-76d7ef01c76c"
      },
      "source": [
        "import numpy as np\n",
        "x=np.array([[1,2],[3,4],[5,6]])\n",
        "y=np.array([[7,8],[9,10],[11,12]])\n",
        "print(np.divide(x,y))\n",
        "print(x/y)"
      ],
      "execution_count": null,
      "outputs": [
        {
          "output_type": "stream",
          "name": "stdout",
          "text": [
            "[[0.14285714 0.25      ]\n",
            " [0.33333333 0.4       ]\n",
            " [0.45454545 0.5       ]]\n",
            "[[0.14285714 0.25      ]\n",
            " [0.33333333 0.4       ]\n",
            " [0.45454545 0.5       ]]\n"
          ]
        }
      ]
    },
    {
      "cell_type": "code",
      "metadata": {
        "colab": {
          "base_uri": "https://localhost:8080/"
        },
        "id": "cDNSUjkxxYKX",
        "outputId": "e305dfb8-7c20-4e46-e71b-fbd9ad38338e"
      },
      "source": [
        "import numpy as np\n",
        "x=np.array([[1,2],[3,4],[5,6]])\n",
        "print(np.sqrt(x))"
      ],
      "execution_count": null,
      "outputs": [
        {
          "output_type": "stream",
          "name": "stdout",
          "text": [
            "[[1.         1.41421356]\n",
            " [1.73205081 2.        ]\n",
            " [2.23606798 2.44948974]]\n"
          ]
        }
      ]
    },
    {
      "cell_type": "code",
      "metadata": {
        "colab": {
          "base_uri": "https://localhost:8080/"
        },
        "id": "YRI93Sgnxcg3",
        "outputId": "0948e858-5fa4-4458-9e02-4307e7a26fe6"
      },
      "source": [
        "import numpy as np\n",
        "a=np.array([9,10])\n",
        "b=np.array([11,12])\n",
        "print(a.dot(b))\n",
        "print(np.dot(a,b))"
      ],
      "execution_count": null,
      "outputs": [
        {
          "output_type": "stream",
          "name": "stdout",
          "text": [
            "219\n",
            "219\n"
          ]
        }
      ]
    },
    {
      "cell_type": "code",
      "metadata": {
        "colab": {
          "base_uri": "https://localhost:8080/"
        },
        "id": "QXJlNnahxhls",
        "outputId": "d0511a84-e507-40c2-b41b-6418ea9eaf9f"
      },
      "source": [
        "import numpy as np\n",
        "a=np.array([9,10])\n",
        "x=np.array([[1,2],[3,4]])\n",
        "print(x.dot(a))\n",
        "print(np.dot(x,a))"
      ],
      "execution_count": null,
      "outputs": [
        {
          "output_type": "stream",
          "name": "stdout",
          "text": [
            "[29 67]\n",
            "[29 67]\n"
          ]
        }
      ]
    },
    {
      "cell_type": "code",
      "metadata": {
        "colab": {
          "base_uri": "https://localhost:8080/"
        },
        "id": "6LhK4tYfxn8Y",
        "outputId": "7ce05e58-72dc-4423-dabf-040d59834d96"
      },
      "source": [
        "import numpy as np\n",
        "x=np.array([[1,2],[3,4]])\n",
        "y=np.array([[5,6],[7,8]])\n",
        "print(x.dot(y))\n",
        "print(np.dot(x,y))"
      ],
      "execution_count": null,
      "outputs": [
        {
          "output_type": "stream",
          "name": "stdout",
          "text": [
            "[[19 22]\n",
            " [43 50]]\n",
            "[[19 22]\n",
            " [43 50]]\n"
          ]
        }
      ]
    },
    {
      "cell_type": "code",
      "metadata": {
        "colab": {
          "base_uri": "https://localhost:8080/"
        },
        "id": "7GgpHYGIxrw3",
        "outputId": "0a34c3c9-aba7-40b2-929a-6c71101a6fef"
      },
      "source": [
        "import numpy as np\n",
        "x=np.array([[1,2],[3,4]])\n",
        "print(np.sum(x))\n",
        "print(np.sum(x,axis=0))\n",
        "print(np.sum(x,axis=1))"
      ],
      "execution_count": null,
      "outputs": [
        {
          "output_type": "stream",
          "name": "stdout",
          "text": [
            "10\n",
            "[4 6]\n",
            "[3 7]\n"
          ]
        }
      ]
    },
    {
      "cell_type": "code",
      "metadata": {
        "colab": {
          "base_uri": "https://localhost:8080/"
        },
        "id": "PTiwCLlTxv-J",
        "outputId": "6fc7cbc6-2154-4008-ca51-5cbd8ea30611"
      },
      "source": [
        "import numpy as np\n",
        "x=np.array([[1,2],[3,4]])\n",
        "print(x)\n",
        "print(x.T)"
      ],
      "execution_count": null,
      "outputs": [
        {
          "output_type": "stream",
          "name": "stdout",
          "text": [
            "[[1 2]\n",
            " [3 4]]\n",
            "[[1 3]\n",
            " [2 4]]\n"
          ]
        }
      ]
    },
    {
      "cell_type": "code",
      "metadata": {
        "colab": {
          "base_uri": "https://localhost:8080/"
        },
        "id": "yOQLdbDOx1MW",
        "outputId": "1ca858fe-d8bf-46d9-ddea-7d83b4cae5de"
      },
      "source": [
        "import numpy as np\n",
        "v=np.array([1,2,3])\n",
        "print(v)\n",
        "print(v.T)"
      ],
      "execution_count": null,
      "outputs": [
        {
          "output_type": "stream",
          "name": "stdout",
          "text": [
            "[1 2 3]\n",
            "[1 2 3]\n"
          ]
        }
      ]
    },
    {
      "cell_type": "code",
      "metadata": {
        "colab": {
          "base_uri": "https://localhost:8080/"
        },
        "id": "IBgJAY0yx50P",
        "outputId": "34419611-025b-4dc1-a081-a1687696995e"
      },
      "source": [
        "import numpy as np\n",
        "a=np.array([[1,2,3],[4,5,6],[7,8,9]])\n",
        "v=np.array([1,0,1])\n",
        "b=a+v\n",
        "print(b)"
      ],
      "execution_count": null,
      "outputs": [
        {
          "output_type": "stream",
          "name": "stdout",
          "text": [
            "[[ 2  2  4]\n",
            " [ 5  5  7]\n",
            " [ 8  8 10]]\n"
          ]
        }
      ]
    },
    {
      "cell_type": "code",
      "metadata": {
        "colab": {
          "base_uri": "https://localhost:8080/"
        },
        "id": "afMEh5Gjx_iE",
        "outputId": "0f2d8829-53bc-4370-bbce-6520196b3a23"
      },
      "source": [
        "import numpy as np\n",
        "x=np.array([[1,2,1],[3,4,1]])\n",
        "print(\"X.T:\\n\",x.T)\n",
        "w=np.array([1,1])\n",
        "print(\"W:\\n\",w)\n",
        " \n",
        "print(\"Final :\\n\",(x.T+w).T)"
      ],
      "execution_count": null,
      "outputs": [
        {
          "output_type": "stream",
          "name": "stdout",
          "text": [
            "X.T:\n",
            " [[1 3]\n",
            " [2 4]\n",
            " [1 1]]\n",
            "W:\n",
            " [1 1]\n",
            "Final :\n",
            " [[2 3 2]\n",
            " [4 5 2]]\n"
          ]
        }
      ]
    },
    {
      "cell_type": "code",
      "metadata": {
        "colab": {
          "base_uri": "https://localhost:8080/"
        },
        "id": "tqs1kSOfyDek",
        "outputId": "e2307de6-184e-4588-8d02-8f10b63efc97"
      },
      "source": [
        "import numpy as np\n",
        "x=np.array([[1,2,1],[3,4,1]])\n",
        "print(x*2)"
      ],
      "execution_count": null,
      "outputs": [
        {
          "output_type": "stream",
          "name": "stdout",
          "text": [
            "[[2 4 2]\n",
            " [6 8 2]]\n"
          ]
        }
      ]
    },
    {
      "cell_type": "code",
      "metadata": {
        "colab": {
          "base_uri": "https://localhost:8080/"
        },
        "id": "LYdUhbONyHjX",
        "outputId": "49325213-40aa-46d3-e989-7e98a0a8afbb"
      },
      "source": [
        "import numpy as np\n",
        "np.random.rand(3,2)"
      ],
      "execution_count": null,
      "outputs": [
        {
          "output_type": "execute_result",
          "data": {
            "text/plain": [
              "array([[5.33730977e-01, 1.43172586e-01],\n",
              "       [6.19019542e-01, 1.72292670e-06],\n",
              "       [2.60215833e-01, 4.92504995e-01]])"
            ]
          },
          "metadata": {},
          "execution_count": 36
        }
      ]
    },
    {
      "cell_type": "code",
      "metadata": {
        "colab": {
          "base_uri": "https://localhost:8080/"
        },
        "id": "N8iwdtVAyLqx",
        "outputId": "652b620c-668f-4e35-82ac-5b063a2eb25f"
      },
      "source": [
        "import numpy as np\n",
        "np.random.rand(10)"
      ],
      "execution_count": null,
      "outputs": [
        {
          "output_type": "execute_result",
          "data": {
            "text/plain": [
              "array([0.99308818, 0.95265438, 0.23803736, 0.45586817, 0.65945524,\n",
              "       0.37250925, 0.43093554, 0.24530548, 0.27092518, 0.17387342])"
            ]
          },
          "metadata": {},
          "execution_count": 37
        }
      ]
    },
    {
      "cell_type": "code",
      "metadata": {
        "colab": {
          "base_uri": "https://localhost:8080/"
        },
        "id": "PQBPvUOGyREC",
        "outputId": "cb200653-90ae-4a4f-a962-f1ed1156a23f"
      },
      "source": [
        "import random\n",
        "print (random.randint(0,9))"
      ],
      "execution_count": null,
      "outputs": [
        {
          "output_type": "stream",
          "name": "stdout",
          "text": [
            "6\n"
          ]
        }
      ]
    },
    {
      "cell_type": "markdown",
      "metadata": {
        "id": "0y6pIp-czBJ1"
      },
      "source": [
        " # **Pandas**"
      ]
    },
    {
      "cell_type": "markdown",
      "metadata": {
        "id": "pR52SK2z0Vxy"
      },
      "source": [
        "# **1.Creating Series**"
      ]
    },
    {
      "cell_type": "code",
      "metadata": {
        "colab": {
          "base_uri": "https://localhost:8080/"
        },
        "id": "Lw6vIQkM0afa",
        "outputId": "7a9c97cc-9b34-4684-e57f-ba069333b1bd"
      },
      "source": [
        "import pandas as pd\n",
        "s=pd.Series([1,2,3,4,5],index=['A','B','C','D','E'])\n",
        "s"
      ],
      "execution_count": null,
      "outputs": [
        {
          "output_type": "execute_result",
          "data": {
            "text/plain": [
              "A    1\n",
              "B    2\n",
              "C    3\n",
              "D    4\n",
              "E    5\n",
              "dtype: int64"
            ]
          },
          "metadata": {},
          "execution_count": 39
        }
      ]
    },
    {
      "cell_type": "markdown",
      "metadata": {
        "id": "QDI8VVRV0f_D"
      },
      "source": [
        "# **2.Data Frames**"
      ]
    },
    {
      "cell_type": "code",
      "metadata": {
        "colab": {
          "base_uri": "https://localhost:8080/"
        },
        "id": "qCirfIjf0g3i",
        "outputId": "04380a4e-a8ae-44c4-b5f3-eb6b7b4ac28a"
      },
      "source": [
        "import pandas as pd\n",
        "data={'Gen':['F','M','M'],'EiD':['E01','E02','E03'],'Age':[25,45,38]}\n",
        " \n",
        "df=pd.DataFrame(data,columns=['EiD','Age','Gen'])\n",
        "print(df)"
      ],
      "execution_count": null,
      "outputs": [
        {
          "output_type": "stream",
          "name": "stdout",
          "text": [
            "   EiD  Age Gen\n",
            "0  E01   25   F\n",
            "1  E02   45   M\n",
            "2  E03   38   M\n"
          ]
        }
      ]
    },
    {
      "cell_type": "code",
      "metadata": {
        "colab": {
          "base_uri": "https://localhost:8080/"
        },
        "id": "DT8K5U430oNH",
        "outputId": "ca7cf354-3727-4cbc-853b-ae0aa2130458"
      },
      "source": [
        "import pandas as pd\n",
        "from numpy import loadtxt\n",
        "from urllib.request import urlopen\n",
        " \n",
        "url='https://raw.githubusercontent.com/jbrownlee/datasets/master/pima-indians-diabetes.data.csv'\n",
        " \n",
        "raw_data=pd.read_csv(urlopen(url))\n",
        "raw_data.shape"
      ],
      "execution_count": null,
      "outputs": [
        {
          "output_type": "execute_result",
          "data": {
            "text/plain": [
              "(767, 9)"
            ]
          },
          "metadata": {},
          "execution_count": 41
        }
      ]
    },
    {
      "cell_type": "code",
      "metadata": {
        "colab": {
          "base_uri": "https://localhost:8080/",
          "height": 226
        },
        "id": "3ApwAV0I0t3N",
        "outputId": "080cdfd5-67eb-4f74-9562-bae7ee02f8aa"
      },
      "source": [
        "raw_data.head()"
      ],
      "execution_count": null,
      "outputs": [
        {
          "output_type": "execute_result",
          "data": {
            "text/html": [
              "<div>\n",
              "<style scoped>\n",
              "    .dataframe tbody tr th:only-of-type {\n",
              "        vertical-align: middle;\n",
              "    }\n",
              "\n",
              "    .dataframe tbody tr th {\n",
              "        vertical-align: top;\n",
              "    }\n",
              "\n",
              "    .dataframe thead th {\n",
              "        text-align: right;\n",
              "    }\n",
              "</style>\n",
              "<table border=\"1\" class=\"dataframe\">\n",
              "  <thead>\n",
              "    <tr style=\"text-align: right;\">\n",
              "      <th></th>\n",
              "      <th>6</th>\n",
              "      <th>148</th>\n",
              "      <th>72</th>\n",
              "      <th>35</th>\n",
              "      <th>0</th>\n",
              "      <th>33.6</th>\n",
              "      <th>0.627</th>\n",
              "      <th>50</th>\n",
              "      <th>1</th>\n",
              "    </tr>\n",
              "  </thead>\n",
              "  <tbody>\n",
              "    <tr>\n",
              "      <th>0</th>\n",
              "      <td>1</td>\n",
              "      <td>85</td>\n",
              "      <td>66</td>\n",
              "      <td>29</td>\n",
              "      <td>0</td>\n",
              "      <td>26.6</td>\n",
              "      <td>0.351</td>\n",
              "      <td>31</td>\n",
              "      <td>0</td>\n",
              "    </tr>\n",
              "    <tr>\n",
              "      <th>1</th>\n",
              "      <td>8</td>\n",
              "      <td>183</td>\n",
              "      <td>64</td>\n",
              "      <td>0</td>\n",
              "      <td>0</td>\n",
              "      <td>23.3</td>\n",
              "      <td>0.672</td>\n",
              "      <td>32</td>\n",
              "      <td>1</td>\n",
              "    </tr>\n",
              "    <tr>\n",
              "      <th>2</th>\n",
              "      <td>1</td>\n",
              "      <td>89</td>\n",
              "      <td>66</td>\n",
              "      <td>23</td>\n",
              "      <td>94</td>\n",
              "      <td>28.1</td>\n",
              "      <td>0.167</td>\n",
              "      <td>21</td>\n",
              "      <td>0</td>\n",
              "    </tr>\n",
              "    <tr>\n",
              "      <th>3</th>\n",
              "      <td>0</td>\n",
              "      <td>137</td>\n",
              "      <td>40</td>\n",
              "      <td>35</td>\n",
              "      <td>168</td>\n",
              "      <td>43.1</td>\n",
              "      <td>2.288</td>\n",
              "      <td>33</td>\n",
              "      <td>1</td>\n",
              "    </tr>\n",
              "    <tr>\n",
              "      <th>4</th>\n",
              "      <td>5</td>\n",
              "      <td>116</td>\n",
              "      <td>74</td>\n",
              "      <td>0</td>\n",
              "      <td>0</td>\n",
              "      <td>25.6</td>\n",
              "      <td>0.201</td>\n",
              "      <td>30</td>\n",
              "      <td>0</td>\n",
              "    </tr>\n",
              "  </tbody>\n",
              "</table>\n",
              "</div>"
            ],
            "text/plain": [
              "   6  148  72  35    0  33.6  0.627  50  1\n",
              "0  1   85  66  29    0  26.6  0.351  31  0\n",
              "1  8  183  64   0    0  23.3  0.672  32  1\n",
              "2  1   89  66  23   94  28.1  0.167  21  0\n",
              "3  0  137  40  35  168  43.1  2.288  33  1\n",
              "4  5  116  74   0    0  25.6  0.201  30  0"
            ]
          },
          "metadata": {},
          "execution_count": 43
        }
      ]
    },
    {
      "cell_type": "code",
      "metadata": {
        "colab": {
          "base_uri": "https://localhost:8080/",
          "height": 226
        },
        "id": "eWpeV0re0u8s",
        "outputId": "21dc7fa4-69b2-43dd-bd98-d39b593c90a7"
      },
      "source": [
        "raw_data.tail()"
      ],
      "execution_count": null,
      "outputs": [
        {
          "output_type": "execute_result",
          "data": {
            "text/html": [
              "<div>\n",
              "<style scoped>\n",
              "    .dataframe tbody tr th:only-of-type {\n",
              "        vertical-align: middle;\n",
              "    }\n",
              "\n",
              "    .dataframe tbody tr th {\n",
              "        vertical-align: top;\n",
              "    }\n",
              "\n",
              "    .dataframe thead th {\n",
              "        text-align: right;\n",
              "    }\n",
              "</style>\n",
              "<table border=\"1\" class=\"dataframe\">\n",
              "  <thead>\n",
              "    <tr style=\"text-align: right;\">\n",
              "      <th></th>\n",
              "      <th>6</th>\n",
              "      <th>148</th>\n",
              "      <th>72</th>\n",
              "      <th>35</th>\n",
              "      <th>0</th>\n",
              "      <th>33.6</th>\n",
              "      <th>0.627</th>\n",
              "      <th>50</th>\n",
              "      <th>1</th>\n",
              "    </tr>\n",
              "  </thead>\n",
              "  <tbody>\n",
              "    <tr>\n",
              "      <th>762</th>\n",
              "      <td>10</td>\n",
              "      <td>101</td>\n",
              "      <td>76</td>\n",
              "      <td>48</td>\n",
              "      <td>180</td>\n",
              "      <td>32.9</td>\n",
              "      <td>0.171</td>\n",
              "      <td>63</td>\n",
              "      <td>0</td>\n",
              "    </tr>\n",
              "    <tr>\n",
              "      <th>763</th>\n",
              "      <td>2</td>\n",
              "      <td>122</td>\n",
              "      <td>70</td>\n",
              "      <td>27</td>\n",
              "      <td>0</td>\n",
              "      <td>36.8</td>\n",
              "      <td>0.340</td>\n",
              "      <td>27</td>\n",
              "      <td>0</td>\n",
              "    </tr>\n",
              "    <tr>\n",
              "      <th>764</th>\n",
              "      <td>5</td>\n",
              "      <td>121</td>\n",
              "      <td>72</td>\n",
              "      <td>23</td>\n",
              "      <td>112</td>\n",
              "      <td>26.2</td>\n",
              "      <td>0.245</td>\n",
              "      <td>30</td>\n",
              "      <td>0</td>\n",
              "    </tr>\n",
              "    <tr>\n",
              "      <th>765</th>\n",
              "      <td>1</td>\n",
              "      <td>126</td>\n",
              "      <td>60</td>\n",
              "      <td>0</td>\n",
              "      <td>0</td>\n",
              "      <td>30.1</td>\n",
              "      <td>0.349</td>\n",
              "      <td>47</td>\n",
              "      <td>1</td>\n",
              "    </tr>\n",
              "    <tr>\n",
              "      <th>766</th>\n",
              "      <td>1</td>\n",
              "      <td>93</td>\n",
              "      <td>70</td>\n",
              "      <td>31</td>\n",
              "      <td>0</td>\n",
              "      <td>30.4</td>\n",
              "      <td>0.315</td>\n",
              "      <td>23</td>\n",
              "      <td>0</td>\n",
              "    </tr>\n",
              "  </tbody>\n",
              "</table>\n",
              "</div>"
            ],
            "text/plain": [
              "      6  148  72  35    0  33.6  0.627  50  1\n",
              "762  10  101  76  48  180  32.9  0.171  63  0\n",
              "763   2  122  70  27    0  36.8  0.340  27  0\n",
              "764   5  121  72  23  112  26.2  0.245  30  0\n",
              "765   1  126  60   0    0  30.1  0.349  47  1\n",
              "766   1   93  70  31    0  30.4  0.315  23  0"
            ]
          },
          "metadata": {},
          "execution_count": 44
        }
      ]
    },
    {
      "cell_type": "code",
      "metadata": {
        "colab": {
          "base_uri": "https://localhost:8080/",
          "height": 852
        },
        "id": "vN_fRz1g027D",
        "outputId": "6002f42b-df87-4059-b638-5449efce71c2"
      },
      "source": [
        "raw_data.head(25)"
      ],
      "execution_count": null,
      "outputs": [
        {
          "output_type": "execute_result",
          "data": {
            "text/html": [
              "<div>\n",
              "<style scoped>\n",
              "    .dataframe tbody tr th:only-of-type {\n",
              "        vertical-align: middle;\n",
              "    }\n",
              "\n",
              "    .dataframe tbody tr th {\n",
              "        vertical-align: top;\n",
              "    }\n",
              "\n",
              "    .dataframe thead th {\n",
              "        text-align: right;\n",
              "    }\n",
              "</style>\n",
              "<table border=\"1\" class=\"dataframe\">\n",
              "  <thead>\n",
              "    <tr style=\"text-align: right;\">\n",
              "      <th></th>\n",
              "      <th>6</th>\n",
              "      <th>148</th>\n",
              "      <th>72</th>\n",
              "      <th>35</th>\n",
              "      <th>0</th>\n",
              "      <th>33.6</th>\n",
              "      <th>0.627</th>\n",
              "      <th>50</th>\n",
              "      <th>1</th>\n",
              "    </tr>\n",
              "  </thead>\n",
              "  <tbody>\n",
              "    <tr>\n",
              "      <th>0</th>\n",
              "      <td>1</td>\n",
              "      <td>85</td>\n",
              "      <td>66</td>\n",
              "      <td>29</td>\n",
              "      <td>0</td>\n",
              "      <td>26.6</td>\n",
              "      <td>0.351</td>\n",
              "      <td>31</td>\n",
              "      <td>0</td>\n",
              "    </tr>\n",
              "    <tr>\n",
              "      <th>1</th>\n",
              "      <td>8</td>\n",
              "      <td>183</td>\n",
              "      <td>64</td>\n",
              "      <td>0</td>\n",
              "      <td>0</td>\n",
              "      <td>23.3</td>\n",
              "      <td>0.672</td>\n",
              "      <td>32</td>\n",
              "      <td>1</td>\n",
              "    </tr>\n",
              "    <tr>\n",
              "      <th>2</th>\n",
              "      <td>1</td>\n",
              "      <td>89</td>\n",
              "      <td>66</td>\n",
              "      <td>23</td>\n",
              "      <td>94</td>\n",
              "      <td>28.1</td>\n",
              "      <td>0.167</td>\n",
              "      <td>21</td>\n",
              "      <td>0</td>\n",
              "    </tr>\n",
              "    <tr>\n",
              "      <th>3</th>\n",
              "      <td>0</td>\n",
              "      <td>137</td>\n",
              "      <td>40</td>\n",
              "      <td>35</td>\n",
              "      <td>168</td>\n",
              "      <td>43.1</td>\n",
              "      <td>2.288</td>\n",
              "      <td>33</td>\n",
              "      <td>1</td>\n",
              "    </tr>\n",
              "    <tr>\n",
              "      <th>4</th>\n",
              "      <td>5</td>\n",
              "      <td>116</td>\n",
              "      <td>74</td>\n",
              "      <td>0</td>\n",
              "      <td>0</td>\n",
              "      <td>25.6</td>\n",
              "      <td>0.201</td>\n",
              "      <td>30</td>\n",
              "      <td>0</td>\n",
              "    </tr>\n",
              "    <tr>\n",
              "      <th>5</th>\n",
              "      <td>3</td>\n",
              "      <td>78</td>\n",
              "      <td>50</td>\n",
              "      <td>32</td>\n",
              "      <td>88</td>\n",
              "      <td>31.0</td>\n",
              "      <td>0.248</td>\n",
              "      <td>26</td>\n",
              "      <td>1</td>\n",
              "    </tr>\n",
              "    <tr>\n",
              "      <th>6</th>\n",
              "      <td>10</td>\n",
              "      <td>115</td>\n",
              "      <td>0</td>\n",
              "      <td>0</td>\n",
              "      <td>0</td>\n",
              "      <td>35.3</td>\n",
              "      <td>0.134</td>\n",
              "      <td>29</td>\n",
              "      <td>0</td>\n",
              "    </tr>\n",
              "    <tr>\n",
              "      <th>7</th>\n",
              "      <td>2</td>\n",
              "      <td>197</td>\n",
              "      <td>70</td>\n",
              "      <td>45</td>\n",
              "      <td>543</td>\n",
              "      <td>30.5</td>\n",
              "      <td>0.158</td>\n",
              "      <td>53</td>\n",
              "      <td>1</td>\n",
              "    </tr>\n",
              "    <tr>\n",
              "      <th>8</th>\n",
              "      <td>8</td>\n",
              "      <td>125</td>\n",
              "      <td>96</td>\n",
              "      <td>0</td>\n",
              "      <td>0</td>\n",
              "      <td>0.0</td>\n",
              "      <td>0.232</td>\n",
              "      <td>54</td>\n",
              "      <td>1</td>\n",
              "    </tr>\n",
              "    <tr>\n",
              "      <th>9</th>\n",
              "      <td>4</td>\n",
              "      <td>110</td>\n",
              "      <td>92</td>\n",
              "      <td>0</td>\n",
              "      <td>0</td>\n",
              "      <td>37.6</td>\n",
              "      <td>0.191</td>\n",
              "      <td>30</td>\n",
              "      <td>0</td>\n",
              "    </tr>\n",
              "    <tr>\n",
              "      <th>10</th>\n",
              "      <td>10</td>\n",
              "      <td>168</td>\n",
              "      <td>74</td>\n",
              "      <td>0</td>\n",
              "      <td>0</td>\n",
              "      <td>38.0</td>\n",
              "      <td>0.537</td>\n",
              "      <td>34</td>\n",
              "      <td>1</td>\n",
              "    </tr>\n",
              "    <tr>\n",
              "      <th>11</th>\n",
              "      <td>10</td>\n",
              "      <td>139</td>\n",
              "      <td>80</td>\n",
              "      <td>0</td>\n",
              "      <td>0</td>\n",
              "      <td>27.1</td>\n",
              "      <td>1.441</td>\n",
              "      <td>57</td>\n",
              "      <td>0</td>\n",
              "    </tr>\n",
              "    <tr>\n",
              "      <th>12</th>\n",
              "      <td>1</td>\n",
              "      <td>189</td>\n",
              "      <td>60</td>\n",
              "      <td>23</td>\n",
              "      <td>846</td>\n",
              "      <td>30.1</td>\n",
              "      <td>0.398</td>\n",
              "      <td>59</td>\n",
              "      <td>1</td>\n",
              "    </tr>\n",
              "    <tr>\n",
              "      <th>13</th>\n",
              "      <td>5</td>\n",
              "      <td>166</td>\n",
              "      <td>72</td>\n",
              "      <td>19</td>\n",
              "      <td>175</td>\n",
              "      <td>25.8</td>\n",
              "      <td>0.587</td>\n",
              "      <td>51</td>\n",
              "      <td>1</td>\n",
              "    </tr>\n",
              "    <tr>\n",
              "      <th>14</th>\n",
              "      <td>7</td>\n",
              "      <td>100</td>\n",
              "      <td>0</td>\n",
              "      <td>0</td>\n",
              "      <td>0</td>\n",
              "      <td>30.0</td>\n",
              "      <td>0.484</td>\n",
              "      <td>32</td>\n",
              "      <td>1</td>\n",
              "    </tr>\n",
              "    <tr>\n",
              "      <th>15</th>\n",
              "      <td>0</td>\n",
              "      <td>118</td>\n",
              "      <td>84</td>\n",
              "      <td>47</td>\n",
              "      <td>230</td>\n",
              "      <td>45.8</td>\n",
              "      <td>0.551</td>\n",
              "      <td>31</td>\n",
              "      <td>1</td>\n",
              "    </tr>\n",
              "    <tr>\n",
              "      <th>16</th>\n",
              "      <td>7</td>\n",
              "      <td>107</td>\n",
              "      <td>74</td>\n",
              "      <td>0</td>\n",
              "      <td>0</td>\n",
              "      <td>29.6</td>\n",
              "      <td>0.254</td>\n",
              "      <td>31</td>\n",
              "      <td>1</td>\n",
              "    </tr>\n",
              "    <tr>\n",
              "      <th>17</th>\n",
              "      <td>1</td>\n",
              "      <td>103</td>\n",
              "      <td>30</td>\n",
              "      <td>38</td>\n",
              "      <td>83</td>\n",
              "      <td>43.3</td>\n",
              "      <td>0.183</td>\n",
              "      <td>33</td>\n",
              "      <td>0</td>\n",
              "    </tr>\n",
              "    <tr>\n",
              "      <th>18</th>\n",
              "      <td>1</td>\n",
              "      <td>115</td>\n",
              "      <td>70</td>\n",
              "      <td>30</td>\n",
              "      <td>96</td>\n",
              "      <td>34.6</td>\n",
              "      <td>0.529</td>\n",
              "      <td>32</td>\n",
              "      <td>1</td>\n",
              "    </tr>\n",
              "    <tr>\n",
              "      <th>19</th>\n",
              "      <td>3</td>\n",
              "      <td>126</td>\n",
              "      <td>88</td>\n",
              "      <td>41</td>\n",
              "      <td>235</td>\n",
              "      <td>39.3</td>\n",
              "      <td>0.704</td>\n",
              "      <td>27</td>\n",
              "      <td>0</td>\n",
              "    </tr>\n",
              "    <tr>\n",
              "      <th>20</th>\n",
              "      <td>8</td>\n",
              "      <td>99</td>\n",
              "      <td>84</td>\n",
              "      <td>0</td>\n",
              "      <td>0</td>\n",
              "      <td>35.4</td>\n",
              "      <td>0.388</td>\n",
              "      <td>50</td>\n",
              "      <td>0</td>\n",
              "    </tr>\n",
              "    <tr>\n",
              "      <th>21</th>\n",
              "      <td>7</td>\n",
              "      <td>196</td>\n",
              "      <td>90</td>\n",
              "      <td>0</td>\n",
              "      <td>0</td>\n",
              "      <td>39.8</td>\n",
              "      <td>0.451</td>\n",
              "      <td>41</td>\n",
              "      <td>1</td>\n",
              "    </tr>\n",
              "    <tr>\n",
              "      <th>22</th>\n",
              "      <td>9</td>\n",
              "      <td>119</td>\n",
              "      <td>80</td>\n",
              "      <td>35</td>\n",
              "      <td>0</td>\n",
              "      <td>29.0</td>\n",
              "      <td>0.263</td>\n",
              "      <td>29</td>\n",
              "      <td>1</td>\n",
              "    </tr>\n",
              "    <tr>\n",
              "      <th>23</th>\n",
              "      <td>11</td>\n",
              "      <td>143</td>\n",
              "      <td>94</td>\n",
              "      <td>33</td>\n",
              "      <td>146</td>\n",
              "      <td>36.6</td>\n",
              "      <td>0.254</td>\n",
              "      <td>51</td>\n",
              "      <td>1</td>\n",
              "    </tr>\n",
              "    <tr>\n",
              "      <th>24</th>\n",
              "      <td>10</td>\n",
              "      <td>125</td>\n",
              "      <td>70</td>\n",
              "      <td>26</td>\n",
              "      <td>115</td>\n",
              "      <td>31.1</td>\n",
              "      <td>0.205</td>\n",
              "      <td>41</td>\n",
              "      <td>1</td>\n",
              "    </tr>\n",
              "  </tbody>\n",
              "</table>\n",
              "</div>"
            ],
            "text/plain": [
              "     6  148  72  35    0  33.6  0.627  50  1\n",
              "0    1   85  66  29    0  26.6  0.351  31  0\n",
              "1    8  183  64   0    0  23.3  0.672  32  1\n",
              "2    1   89  66  23   94  28.1  0.167  21  0\n",
              "3    0  137  40  35  168  43.1  2.288  33  1\n",
              "4    5  116  74   0    0  25.6  0.201  30  0\n",
              "5    3   78  50  32   88  31.0  0.248  26  1\n",
              "6   10  115   0   0    0  35.3  0.134  29  0\n",
              "7    2  197  70  45  543  30.5  0.158  53  1\n",
              "8    8  125  96   0    0   0.0  0.232  54  1\n",
              "9    4  110  92   0    0  37.6  0.191  30  0\n",
              "10  10  168  74   0    0  38.0  0.537  34  1\n",
              "11  10  139  80   0    0  27.1  1.441  57  0\n",
              "12   1  189  60  23  846  30.1  0.398  59  1\n",
              "13   5  166  72  19  175  25.8  0.587  51  1\n",
              "14   7  100   0   0    0  30.0  0.484  32  1\n",
              "15   0  118  84  47  230  45.8  0.551  31  1\n",
              "16   7  107  74   0    0  29.6  0.254  31  1\n",
              "17   1  103  30  38   83  43.3  0.183  33  0\n",
              "18   1  115  70  30   96  34.6  0.529  32  1\n",
              "19   3  126  88  41  235  39.3  0.704  27  0\n",
              "20   8   99  84   0    0  35.4  0.388  50  0\n",
              "21   7  196  90   0    0  39.8  0.451  41  1\n",
              "22   9  119  80  35    0  29.0  0.263  29  1\n",
              "23  11  143  94  33  146  36.6  0.254  51  1\n",
              "24  10  125  70  26  115  31.1  0.205  41  1"
            ]
          },
          "metadata": {},
          "execution_count": 45
        }
      ]
    },
    {
      "cell_type": "code",
      "metadata": {
        "colab": {
          "base_uri": "https://localhost:8080/",
          "height": 320
        },
        "id": "_jNAvbWl08i6",
        "outputId": "62372fbc-d64d-4cbf-ba50-2a51ac79874f"
      },
      "source": [
        "raw_data.describe()"
      ],
      "execution_count": null,
      "outputs": [
        {
          "output_type": "execute_result",
          "data": {
            "text/html": [
              "<div>\n",
              "<style scoped>\n",
              "    .dataframe tbody tr th:only-of-type {\n",
              "        vertical-align: middle;\n",
              "    }\n",
              "\n",
              "    .dataframe tbody tr th {\n",
              "        vertical-align: top;\n",
              "    }\n",
              "\n",
              "    .dataframe thead th {\n",
              "        text-align: right;\n",
              "    }\n",
              "</style>\n",
              "<table border=\"1\" class=\"dataframe\">\n",
              "  <thead>\n",
              "    <tr style=\"text-align: right;\">\n",
              "      <th></th>\n",
              "      <th>6</th>\n",
              "      <th>148</th>\n",
              "      <th>72</th>\n",
              "      <th>35</th>\n",
              "      <th>0</th>\n",
              "      <th>33.6</th>\n",
              "      <th>0.627</th>\n",
              "      <th>50</th>\n",
              "      <th>1</th>\n",
              "    </tr>\n",
              "  </thead>\n",
              "  <tbody>\n",
              "    <tr>\n",
              "      <th>count</th>\n",
              "      <td>767.000000</td>\n",
              "      <td>767.000000</td>\n",
              "      <td>767.000000</td>\n",
              "      <td>767.000000</td>\n",
              "      <td>767.000000</td>\n",
              "      <td>767.000000</td>\n",
              "      <td>767.000000</td>\n",
              "      <td>767.000000</td>\n",
              "      <td>767.000000</td>\n",
              "    </tr>\n",
              "    <tr>\n",
              "      <th>mean</th>\n",
              "      <td>3.842243</td>\n",
              "      <td>120.859192</td>\n",
              "      <td>69.101695</td>\n",
              "      <td>20.517601</td>\n",
              "      <td>79.903520</td>\n",
              "      <td>31.990482</td>\n",
              "      <td>0.471674</td>\n",
              "      <td>33.219035</td>\n",
              "      <td>0.348110</td>\n",
              "    </tr>\n",
              "    <tr>\n",
              "      <th>std</th>\n",
              "      <td>3.370877</td>\n",
              "      <td>31.978468</td>\n",
              "      <td>19.368155</td>\n",
              "      <td>15.954059</td>\n",
              "      <td>115.283105</td>\n",
              "      <td>7.889091</td>\n",
              "      <td>0.331497</td>\n",
              "      <td>11.752296</td>\n",
              "      <td>0.476682</td>\n",
              "    </tr>\n",
              "    <tr>\n",
              "      <th>min</th>\n",
              "      <td>0.000000</td>\n",
              "      <td>0.000000</td>\n",
              "      <td>0.000000</td>\n",
              "      <td>0.000000</td>\n",
              "      <td>0.000000</td>\n",
              "      <td>0.000000</td>\n",
              "      <td>0.078000</td>\n",
              "      <td>21.000000</td>\n",
              "      <td>0.000000</td>\n",
              "    </tr>\n",
              "    <tr>\n",
              "      <th>25%</th>\n",
              "      <td>1.000000</td>\n",
              "      <td>99.000000</td>\n",
              "      <td>62.000000</td>\n",
              "      <td>0.000000</td>\n",
              "      <td>0.000000</td>\n",
              "      <td>27.300000</td>\n",
              "      <td>0.243500</td>\n",
              "      <td>24.000000</td>\n",
              "      <td>0.000000</td>\n",
              "    </tr>\n",
              "    <tr>\n",
              "      <th>50%</th>\n",
              "      <td>3.000000</td>\n",
              "      <td>117.000000</td>\n",
              "      <td>72.000000</td>\n",
              "      <td>23.000000</td>\n",
              "      <td>32.000000</td>\n",
              "      <td>32.000000</td>\n",
              "      <td>0.371000</td>\n",
              "      <td>29.000000</td>\n",
              "      <td>0.000000</td>\n",
              "    </tr>\n",
              "    <tr>\n",
              "      <th>75%</th>\n",
              "      <td>6.000000</td>\n",
              "      <td>140.000000</td>\n",
              "      <td>80.000000</td>\n",
              "      <td>32.000000</td>\n",
              "      <td>127.500000</td>\n",
              "      <td>36.600000</td>\n",
              "      <td>0.625000</td>\n",
              "      <td>41.000000</td>\n",
              "      <td>1.000000</td>\n",
              "    </tr>\n",
              "    <tr>\n",
              "      <th>max</th>\n",
              "      <td>17.000000</td>\n",
              "      <td>199.000000</td>\n",
              "      <td>122.000000</td>\n",
              "      <td>99.000000</td>\n",
              "      <td>846.000000</td>\n",
              "      <td>67.100000</td>\n",
              "      <td>2.420000</td>\n",
              "      <td>81.000000</td>\n",
              "      <td>1.000000</td>\n",
              "    </tr>\n",
              "  </tbody>\n",
              "</table>\n",
              "</div>"
            ],
            "text/plain": [
              "                6         148          72  ...       0.627          50           1\n",
              "count  767.000000  767.000000  767.000000  ...  767.000000  767.000000  767.000000\n",
              "mean     3.842243  120.859192   69.101695  ...    0.471674   33.219035    0.348110\n",
              "std      3.370877   31.978468   19.368155  ...    0.331497   11.752296    0.476682\n",
              "min      0.000000    0.000000    0.000000  ...    0.078000   21.000000    0.000000\n",
              "25%      1.000000   99.000000   62.000000  ...    0.243500   24.000000    0.000000\n",
              "50%      3.000000  117.000000   72.000000  ...    0.371000   29.000000    0.000000\n",
              "75%      6.000000  140.000000   80.000000  ...    0.625000   41.000000    1.000000\n",
              "max     17.000000  199.000000  122.000000  ...    2.420000   81.000000    1.000000\n",
              "\n",
              "[8 rows x 9 columns]"
            ]
          },
          "metadata": {},
          "execution_count": 42
        }
      ]
    },
    {
      "cell_type": "code",
      "metadata": {
        "colab": {
          "base_uri": "https://localhost:8080/",
          "height": 351
        },
        "id": "0ZbeBu5n1DKX",
        "outputId": "aafc0534-e2b2-4b3f-a207-a41c9ca5a716"
      },
      "source": [
        "raw_data.cov()"
      ],
      "execution_count": null,
      "outputs": [
        {
          "output_type": "execute_result",
          "data": {
            "text/html": [
              "<div>\n",
              "<style scoped>\n",
              "    .dataframe tbody tr th:only-of-type {\n",
              "        vertical-align: middle;\n",
              "    }\n",
              "\n",
              "    .dataframe tbody tr th {\n",
              "        vertical-align: top;\n",
              "    }\n",
              "\n",
              "    .dataframe thead th {\n",
              "        text-align: right;\n",
              "    }\n",
              "</style>\n",
              "<table border=\"1\" class=\"dataframe\">\n",
              "  <thead>\n",
              "    <tr style=\"text-align: right;\">\n",
              "      <th></th>\n",
              "      <th>6</th>\n",
              "      <th>148</th>\n",
              "      <th>72</th>\n",
              "      <th>35</th>\n",
              "      <th>0</th>\n",
              "      <th>33.6</th>\n",
              "      <th>0.627</th>\n",
              "      <th>50</th>\n",
              "      <th>1</th>\n",
              "    </tr>\n",
              "  </thead>\n",
              "  <tbody>\n",
              "    <tr>\n",
              "      <th>6</th>\n",
              "      <td>11.362809</td>\n",
              "      <td>13.888985</td>\n",
              "      <td>9.218414</td>\n",
              "      <td>-4.436515</td>\n",
              "      <td>-28.367721</td>\n",
              "      <td>0.465859</td>\n",
              "      <td>-0.037912</td>\n",
              "      <td>21.551571</td>\n",
              "      <td>0.355250</td>\n",
              "    </tr>\n",
              "    <tr>\n",
              "      <th>148</th>\n",
              "      <td>13.888985</td>\n",
              "      <td>1022.622445</td>\n",
              "      <td>94.451675</td>\n",
              "      <td>28.764884</td>\n",
              "      <td>1225.357154</td>\n",
              "      <td>55.742783</td>\n",
              "      <td>1.451278</td>\n",
              "      <td>98.618350</td>\n",
              "      <td>7.101300</td>\n",
              "    </tr>\n",
              "    <tr>\n",
              "      <th>72</th>\n",
              "      <td>9.218414</td>\n",
              "      <td>94.451675</td>\n",
              "      <td>375.125415</td>\n",
              "      <td>64.058260</td>\n",
              "      <td>198.939328</td>\n",
              "      <td>43.054755</td>\n",
              "      <td>0.264396</td>\n",
              "      <td>54.531221</td>\n",
              "      <td>0.599018</td>\n",
              "    </tr>\n",
              "    <tr>\n",
              "      <th>35</th>\n",
              "      <td>-4.436515</td>\n",
              "      <td>28.764884</td>\n",
              "      <td>64.058260</td>\n",
              "      <td>254.532001</td>\n",
              "      <td>805.536948</td>\n",
              "      <td>49.407935</td>\n",
              "      <td>0.970472</td>\n",
              "      <td>-21.725792</td>\n",
              "      <td>0.557181</td>\n",
              "    </tr>\n",
              "    <tr>\n",
              "      <th>0</th>\n",
              "      <td>-28.367721</td>\n",
              "      <td>1225.357154</td>\n",
              "      <td>198.939328</td>\n",
              "      <td>805.536948</td>\n",
              "      <td>13290.194335</td>\n",
              "      <td>180.177540</td>\n",
              "      <td>7.092087</td>\n",
              "      <td>-55.469702</td>\n",
              "      <td>7.252951</td>\n",
              "    </tr>\n",
              "    <tr>\n",
              "      <th>33.6</th>\n",
              "      <td>0.465859</td>\n",
              "      <td>55.742783</td>\n",
              "      <td>43.054755</td>\n",
              "      <td>49.407935</td>\n",
              "      <td>180.177540</td>\n",
              "      <td>62.237755</td>\n",
              "      <td>0.367558</td>\n",
              "      <td>3.329503</td>\n",
              "      <td>1.100707</td>\n",
              "    </tr>\n",
              "    <tr>\n",
              "      <th>0.627</th>\n",
              "      <td>-0.037912</td>\n",
              "      <td>1.451278</td>\n",
              "      <td>0.264396</td>\n",
              "      <td>0.970472</td>\n",
              "      <td>7.092087</td>\n",
              "      <td>0.367558</td>\n",
              "      <td>0.109890</td>\n",
              "      <td>0.127544</td>\n",
              "      <td>0.027376</td>\n",
              "    </tr>\n",
              "    <tr>\n",
              "      <th>50</th>\n",
              "      <td>21.551571</td>\n",
              "      <td>98.618350</td>\n",
              "      <td>54.531221</td>\n",
              "      <td>-21.725792</td>\n",
              "      <td>-55.469702</td>\n",
              "      <td>3.329503</td>\n",
              "      <td>0.127544</td>\n",
              "      <td>138.116452</td>\n",
              "      <td>1.324436</td>\n",
              "    </tr>\n",
              "    <tr>\n",
              "      <th>1</th>\n",
              "      <td>0.355250</td>\n",
              "      <td>7.101300</td>\n",
              "      <td>0.599018</td>\n",
              "      <td>0.557181</td>\n",
              "      <td>7.252951</td>\n",
              "      <td>1.100707</td>\n",
              "      <td>0.027376</td>\n",
              "      <td>1.324436</td>\n",
              "      <td>0.227226</td>\n",
              "    </tr>\n",
              "  </tbody>\n",
              "</table>\n",
              "</div>"
            ],
            "text/plain": [
              "               6          148          72  ...     0.627          50         1\n",
              "6      11.362809    13.888985    9.218414  ... -0.037912   21.551571  0.355250\n",
              "148    13.888985  1022.622445   94.451675  ...  1.451278   98.618350  7.101300\n",
              "72      9.218414    94.451675  375.125415  ...  0.264396   54.531221  0.599018\n",
              "35     -4.436515    28.764884   64.058260  ...  0.970472  -21.725792  0.557181\n",
              "0     -28.367721  1225.357154  198.939328  ...  7.092087  -55.469702  7.252951\n",
              "33.6    0.465859    55.742783   43.054755  ...  0.367558    3.329503  1.100707\n",
              "0.627  -0.037912     1.451278    0.264396  ...  0.109890    0.127544  0.027376\n",
              "50     21.551571    98.618350   54.531221  ...  0.127544  138.116452  1.324436\n",
              "1       0.355250     7.101300    0.599018  ...  0.027376    1.324436  0.227226\n",
              "\n",
              "[9 rows x 9 columns]"
            ]
          },
          "metadata": {},
          "execution_count": 46
        }
      ]
    },
    {
      "cell_type": "code",
      "metadata": {
        "colab": {
          "base_uri": "https://localhost:8080/",
          "height": 351
        },
        "id": "ayfCYL7X1Mdq",
        "outputId": "8e3fd5a6-bc06-4ae8-be11-41c690b51980"
      },
      "source": [
        "raw_data.corr()"
      ],
      "execution_count": null,
      "outputs": [
        {
          "output_type": "execute_result",
          "data": {
            "text/html": [
              "<div>\n",
              "<style scoped>\n",
              "    .dataframe tbody tr th:only-of-type {\n",
              "        vertical-align: middle;\n",
              "    }\n",
              "\n",
              "    .dataframe tbody tr th {\n",
              "        vertical-align: top;\n",
              "    }\n",
              "\n",
              "    .dataframe thead th {\n",
              "        text-align: right;\n",
              "    }\n",
              "</style>\n",
              "<table border=\"1\" class=\"dataframe\">\n",
              "  <thead>\n",
              "    <tr style=\"text-align: right;\">\n",
              "      <th></th>\n",
              "      <th>6</th>\n",
              "      <th>148</th>\n",
              "      <th>72</th>\n",
              "      <th>35</th>\n",
              "      <th>0</th>\n",
              "      <th>33.6</th>\n",
              "      <th>0.627</th>\n",
              "      <th>50</th>\n",
              "      <th>1</th>\n",
              "    </tr>\n",
              "  </thead>\n",
              "  <tbody>\n",
              "    <tr>\n",
              "      <th>6</th>\n",
              "      <td>1.000000</td>\n",
              "      <td>0.128846</td>\n",
              "      <td>0.141197</td>\n",
              "      <td>-0.082495</td>\n",
              "      <td>-0.072999</td>\n",
              "      <td>0.017518</td>\n",
              "      <td>-0.033927</td>\n",
              "      <td>0.544018</td>\n",
              "      <td>0.221087</td>\n",
              "    </tr>\n",
              "    <tr>\n",
              "      <th>148</th>\n",
              "      <td>0.128846</td>\n",
              "      <td>1.000000</td>\n",
              "      <td>0.152498</td>\n",
              "      <td>0.056381</td>\n",
              "      <td>0.332383</td>\n",
              "      <td>0.220955</td>\n",
              "      <td>0.136903</td>\n",
              "      <td>0.262408</td>\n",
              "      <td>0.465856</td>\n",
              "    </tr>\n",
              "    <tr>\n",
              "      <th>72</th>\n",
              "      <td>0.141197</td>\n",
              "      <td>0.152498</td>\n",
              "      <td>1.000000</td>\n",
              "      <td>0.207308</td>\n",
              "      <td>0.089098</td>\n",
              "      <td>0.281777</td>\n",
              "      <td>0.041180</td>\n",
              "      <td>0.239571</td>\n",
              "      <td>0.064882</td>\n",
              "    </tr>\n",
              "    <tr>\n",
              "      <th>35</th>\n",
              "      <td>-0.082495</td>\n",
              "      <td>0.056381</td>\n",
              "      <td>0.207308</td>\n",
              "      <td>1.000000</td>\n",
              "      <td>0.437974</td>\n",
              "      <td>0.392553</td>\n",
              "      <td>0.183498</td>\n",
              "      <td>-0.115873</td>\n",
              "      <td>0.073265</td>\n",
              "    </tr>\n",
              "    <tr>\n",
              "      <th>0</th>\n",
              "      <td>-0.072999</td>\n",
              "      <td>0.332383</td>\n",
              "      <td>0.089098</td>\n",
              "      <td>0.437974</td>\n",
              "      <td>1.000000</td>\n",
              "      <td>0.198111</td>\n",
              "      <td>0.185579</td>\n",
              "      <td>-0.040942</td>\n",
              "      <td>0.131984</td>\n",
              "    </tr>\n",
              "    <tr>\n",
              "      <th>33.6</th>\n",
              "      <td>0.017518</td>\n",
              "      <td>0.220955</td>\n",
              "      <td>0.281777</td>\n",
              "      <td>0.392553</td>\n",
              "      <td>0.198111</td>\n",
              "      <td>1.000000</td>\n",
              "      <td>0.140546</td>\n",
              "      <td>0.035911</td>\n",
              "      <td>0.292695</td>\n",
              "    </tr>\n",
              "    <tr>\n",
              "      <th>0.627</th>\n",
              "      <td>-0.033927</td>\n",
              "      <td>0.136903</td>\n",
              "      <td>0.041180</td>\n",
              "      <td>0.183498</td>\n",
              "      <td>0.185579</td>\n",
              "      <td>0.140546</td>\n",
              "      <td>1.000000</td>\n",
              "      <td>0.032738</td>\n",
              "      <td>0.173245</td>\n",
              "    </tr>\n",
              "    <tr>\n",
              "      <th>50</th>\n",
              "      <td>0.544018</td>\n",
              "      <td>0.262408</td>\n",
              "      <td>0.239571</td>\n",
              "      <td>-0.115873</td>\n",
              "      <td>-0.040942</td>\n",
              "      <td>0.035911</td>\n",
              "      <td>0.032738</td>\n",
              "      <td>1.000000</td>\n",
              "      <td>0.236417</td>\n",
              "    </tr>\n",
              "    <tr>\n",
              "      <th>1</th>\n",
              "      <td>0.221087</td>\n",
              "      <td>0.465856</td>\n",
              "      <td>0.064882</td>\n",
              "      <td>0.073265</td>\n",
              "      <td>0.131984</td>\n",
              "      <td>0.292695</td>\n",
              "      <td>0.173245</td>\n",
              "      <td>0.236417</td>\n",
              "      <td>1.000000</td>\n",
              "    </tr>\n",
              "  </tbody>\n",
              "</table>\n",
              "</div>"
            ],
            "text/plain": [
              "              6       148        72  ...     0.627        50         1\n",
              "6      1.000000  0.128846  0.141197  ... -0.033927  0.544018  0.221087\n",
              "148    0.128846  1.000000  0.152498  ...  0.136903  0.262408  0.465856\n",
              "72     0.141197  0.152498  1.000000  ...  0.041180  0.239571  0.064882\n",
              "35    -0.082495  0.056381  0.207308  ...  0.183498 -0.115873  0.073265\n",
              "0     -0.072999  0.332383  0.089098  ...  0.185579 -0.040942  0.131984\n",
              "33.6   0.017518  0.220955  0.281777  ...  0.140546  0.035911  0.292695\n",
              "0.627 -0.033927  0.136903  0.041180  ...  1.000000  0.032738  0.173245\n",
              "50     0.544018  0.262408  0.239571  ...  0.032738  1.000000  0.236417\n",
              "1      0.221087  0.465856  0.064882  ...  0.173245  0.236417  1.000000\n",
              "\n",
              "[9 rows x 9 columns]"
            ]
          },
          "metadata": {},
          "execution_count": 47
        }
      ]
    },
    {
      "cell_type": "code",
      "metadata": {
        "colab": {
          "base_uri": "https://localhost:8080/"
        },
        "id": "chqedgHG1OFO",
        "outputId": "83f48a1c-d40a-44ea-b74e-e3db5c16f22f"
      },
      "source": [
        "from sklearn.datasets import load_iris\n",
        "import numpy as np\n",
        "iris=load_iris()\n",
        "iris"
      ],
      "execution_count": null,
      "outputs": [
        {
          "output_type": "execute_result",
          "data": {
            "text/plain": [
              "{'DESCR': '.. _iris_dataset:\\n\\nIris plants dataset\\n--------------------\\n\\n**Data Set Characteristics:**\\n\\n    :Number of Instances: 150 (50 in each of three classes)\\n    :Number of Attributes: 4 numeric, predictive attributes and the class\\n    :Attribute Information:\\n        - sepal length in cm\\n        - sepal width in cm\\n        - petal length in cm\\n        - petal width in cm\\n        - class:\\n                - Iris-Setosa\\n                - Iris-Versicolour\\n                - Iris-Virginica\\n                \\n    :Summary Statistics:\\n\\n    ============== ==== ==== ======= ===== ====================\\n                    Min  Max   Mean    SD   Class Correlation\\n    ============== ==== ==== ======= ===== ====================\\n    sepal length:   4.3  7.9   5.84   0.83    0.7826\\n    sepal width:    2.0  4.4   3.05   0.43   -0.4194\\n    petal length:   1.0  6.9   3.76   1.76    0.9490  (high!)\\n    petal width:    0.1  2.5   1.20   0.76    0.9565  (high!)\\n    ============== ==== ==== ======= ===== ====================\\n\\n    :Missing Attribute Values: None\\n    :Class Distribution: 33.3% for each of 3 classes.\\n    :Creator: R.A. Fisher\\n    :Donor: Michael Marshall (MARSHALL%PLU@io.arc.nasa.gov)\\n    :Date: July, 1988\\n\\nThe famous Iris database, first used by Sir R.A. Fisher. The dataset is taken\\nfrom Fisher\\'s paper. Note that it\\'s the same as in R, but not as in the UCI\\nMachine Learning Repository, which has two wrong data points.\\n\\nThis is perhaps the best known database to be found in the\\npattern recognition literature.  Fisher\\'s paper is a classic in the field and\\nis referenced frequently to this day.  (See Duda & Hart, for example.)  The\\ndata set contains 3 classes of 50 instances each, where each class refers to a\\ntype of iris plant.  One class is linearly separable from the other 2; the\\nlatter are NOT linearly separable from each other.\\n\\n.. topic:: References\\n\\n   - Fisher, R.A. \"The use of multiple measurements in taxonomic problems\"\\n     Annual Eugenics, 7, Part II, 179-188 (1936); also in \"Contributions to\\n     Mathematical Statistics\" (John Wiley, NY, 1950).\\n   - Duda, R.O., & Hart, P.E. (1973) Pattern Classification and Scene Analysis.\\n     (Q327.D83) John Wiley & Sons.  ISBN 0-471-22361-1.  See page 218.\\n   - Dasarathy, B.V. (1980) \"Nosing Around the Neighborhood: A New System\\n     Structure and Classification Rule for Recognition in Partially Exposed\\n     Environments\".  IEEE Transactions on Pattern Analysis and Machine\\n     Intelligence, Vol. PAMI-2, No. 1, 67-71.\\n   - Gates, G.W. (1972) \"The Reduced Nearest Neighbor Rule\".  IEEE Transactions\\n     on Information Theory, May 1972, 431-433.\\n   - See also: 1988 MLC Proceedings, 54-64.  Cheeseman et al\"s AUTOCLASS II\\n     conceptual clustering system finds 3 classes in the data.\\n   - Many, many more ...',\n",
              " 'data': array([[5.1, 3.5, 1.4, 0.2],\n",
              "        [4.9, 3. , 1.4, 0.2],\n",
              "        [4.7, 3.2, 1.3, 0.2],\n",
              "        [4.6, 3.1, 1.5, 0.2],\n",
              "        [5. , 3.6, 1.4, 0.2],\n",
              "        [5.4, 3.9, 1.7, 0.4],\n",
              "        [4.6, 3.4, 1.4, 0.3],\n",
              "        [5. , 3.4, 1.5, 0.2],\n",
              "        [4.4, 2.9, 1.4, 0.2],\n",
              "        [4.9, 3.1, 1.5, 0.1],\n",
              "        [5.4, 3.7, 1.5, 0.2],\n",
              "        [4.8, 3.4, 1.6, 0.2],\n",
              "        [4.8, 3. , 1.4, 0.1],\n",
              "        [4.3, 3. , 1.1, 0.1],\n",
              "        [5.8, 4. , 1.2, 0.2],\n",
              "        [5.7, 4.4, 1.5, 0.4],\n",
              "        [5.4, 3.9, 1.3, 0.4],\n",
              "        [5.1, 3.5, 1.4, 0.3],\n",
              "        [5.7, 3.8, 1.7, 0.3],\n",
              "        [5.1, 3.8, 1.5, 0.3],\n",
              "        [5.4, 3.4, 1.7, 0.2],\n",
              "        [5.1, 3.7, 1.5, 0.4],\n",
              "        [4.6, 3.6, 1. , 0.2],\n",
              "        [5.1, 3.3, 1.7, 0.5],\n",
              "        [4.8, 3.4, 1.9, 0.2],\n",
              "        [5. , 3. , 1.6, 0.2],\n",
              "        [5. , 3.4, 1.6, 0.4],\n",
              "        [5.2, 3.5, 1.5, 0.2],\n",
              "        [5.2, 3.4, 1.4, 0.2],\n",
              "        [4.7, 3.2, 1.6, 0.2],\n",
              "        [4.8, 3.1, 1.6, 0.2],\n",
              "        [5.4, 3.4, 1.5, 0.4],\n",
              "        [5.2, 4.1, 1.5, 0.1],\n",
              "        [5.5, 4.2, 1.4, 0.2],\n",
              "        [4.9, 3.1, 1.5, 0.2],\n",
              "        [5. , 3.2, 1.2, 0.2],\n",
              "        [5.5, 3.5, 1.3, 0.2],\n",
              "        [4.9, 3.6, 1.4, 0.1],\n",
              "        [4.4, 3. , 1.3, 0.2],\n",
              "        [5.1, 3.4, 1.5, 0.2],\n",
              "        [5. , 3.5, 1.3, 0.3],\n",
              "        [4.5, 2.3, 1.3, 0.3],\n",
              "        [4.4, 3.2, 1.3, 0.2],\n",
              "        [5. , 3.5, 1.6, 0.6],\n",
              "        [5.1, 3.8, 1.9, 0.4],\n",
              "        [4.8, 3. , 1.4, 0.3],\n",
              "        [5.1, 3.8, 1.6, 0.2],\n",
              "        [4.6, 3.2, 1.4, 0.2],\n",
              "        [5.3, 3.7, 1.5, 0.2],\n",
              "        [5. , 3.3, 1.4, 0.2],\n",
              "        [7. , 3.2, 4.7, 1.4],\n",
              "        [6.4, 3.2, 4.5, 1.5],\n",
              "        [6.9, 3.1, 4.9, 1.5],\n",
              "        [5.5, 2.3, 4. , 1.3],\n",
              "        [6.5, 2.8, 4.6, 1.5],\n",
              "        [5.7, 2.8, 4.5, 1.3],\n",
              "        [6.3, 3.3, 4.7, 1.6],\n",
              "        [4.9, 2.4, 3.3, 1. ],\n",
              "        [6.6, 2.9, 4.6, 1.3],\n",
              "        [5.2, 2.7, 3.9, 1.4],\n",
              "        [5. , 2. , 3.5, 1. ],\n",
              "        [5.9, 3. , 4.2, 1.5],\n",
              "        [6. , 2.2, 4. , 1. ],\n",
              "        [6.1, 2.9, 4.7, 1.4],\n",
              "        [5.6, 2.9, 3.6, 1.3],\n",
              "        [6.7, 3.1, 4.4, 1.4],\n",
              "        [5.6, 3. , 4.5, 1.5],\n",
              "        [5.8, 2.7, 4.1, 1. ],\n",
              "        [6.2, 2.2, 4.5, 1.5],\n",
              "        [5.6, 2.5, 3.9, 1.1],\n",
              "        [5.9, 3.2, 4.8, 1.8],\n",
              "        [6.1, 2.8, 4. , 1.3],\n",
              "        [6.3, 2.5, 4.9, 1.5],\n",
              "        [6.1, 2.8, 4.7, 1.2],\n",
              "        [6.4, 2.9, 4.3, 1.3],\n",
              "        [6.6, 3. , 4.4, 1.4],\n",
              "        [6.8, 2.8, 4.8, 1.4],\n",
              "        [6.7, 3. , 5. , 1.7],\n",
              "        [6. , 2.9, 4.5, 1.5],\n",
              "        [5.7, 2.6, 3.5, 1. ],\n",
              "        [5.5, 2.4, 3.8, 1.1],\n",
              "        [5.5, 2.4, 3.7, 1. ],\n",
              "        [5.8, 2.7, 3.9, 1.2],\n",
              "        [6. , 2.7, 5.1, 1.6],\n",
              "        [5.4, 3. , 4.5, 1.5],\n",
              "        [6. , 3.4, 4.5, 1.6],\n",
              "        [6.7, 3.1, 4.7, 1.5],\n",
              "        [6.3, 2.3, 4.4, 1.3],\n",
              "        [5.6, 3. , 4.1, 1.3],\n",
              "        [5.5, 2.5, 4. , 1.3],\n",
              "        [5.5, 2.6, 4.4, 1.2],\n",
              "        [6.1, 3. , 4.6, 1.4],\n",
              "        [5.8, 2.6, 4. , 1.2],\n",
              "        [5. , 2.3, 3.3, 1. ],\n",
              "        [5.6, 2.7, 4.2, 1.3],\n",
              "        [5.7, 3. , 4.2, 1.2],\n",
              "        [5.7, 2.9, 4.2, 1.3],\n",
              "        [6.2, 2.9, 4.3, 1.3],\n",
              "        [5.1, 2.5, 3. , 1.1],\n",
              "        [5.7, 2.8, 4.1, 1.3],\n",
              "        [6.3, 3.3, 6. , 2.5],\n",
              "        [5.8, 2.7, 5.1, 1.9],\n",
              "        [7.1, 3. , 5.9, 2.1],\n",
              "        [6.3, 2.9, 5.6, 1.8],\n",
              "        [6.5, 3. , 5.8, 2.2],\n",
              "        [7.6, 3. , 6.6, 2.1],\n",
              "        [4.9, 2.5, 4.5, 1.7],\n",
              "        [7.3, 2.9, 6.3, 1.8],\n",
              "        [6.7, 2.5, 5.8, 1.8],\n",
              "        [7.2, 3.6, 6.1, 2.5],\n",
              "        [6.5, 3.2, 5.1, 2. ],\n",
              "        [6.4, 2.7, 5.3, 1.9],\n",
              "        [6.8, 3. , 5.5, 2.1],\n",
              "        [5.7, 2.5, 5. , 2. ],\n",
              "        [5.8, 2.8, 5.1, 2.4],\n",
              "        [6.4, 3.2, 5.3, 2.3],\n",
              "        [6.5, 3. , 5.5, 1.8],\n",
              "        [7.7, 3.8, 6.7, 2.2],\n",
              "        [7.7, 2.6, 6.9, 2.3],\n",
              "        [6. , 2.2, 5. , 1.5],\n",
              "        [6.9, 3.2, 5.7, 2.3],\n",
              "        [5.6, 2.8, 4.9, 2. ],\n",
              "        [7.7, 2.8, 6.7, 2. ],\n",
              "        [6.3, 2.7, 4.9, 1.8],\n",
              "        [6.7, 3.3, 5.7, 2.1],\n",
              "        [7.2, 3.2, 6. , 1.8],\n",
              "        [6.2, 2.8, 4.8, 1.8],\n",
              "        [6.1, 3. , 4.9, 1.8],\n",
              "        [6.4, 2.8, 5.6, 2.1],\n",
              "        [7.2, 3. , 5.8, 1.6],\n",
              "        [7.4, 2.8, 6.1, 1.9],\n",
              "        [7.9, 3.8, 6.4, 2. ],\n",
              "        [6.4, 2.8, 5.6, 2.2],\n",
              "        [6.3, 2.8, 5.1, 1.5],\n",
              "        [6.1, 2.6, 5.6, 1.4],\n",
              "        [7.7, 3. , 6.1, 2.3],\n",
              "        [6.3, 3.4, 5.6, 2.4],\n",
              "        [6.4, 3.1, 5.5, 1.8],\n",
              "        [6. , 3. , 4.8, 1.8],\n",
              "        [6.9, 3.1, 5.4, 2.1],\n",
              "        [6.7, 3.1, 5.6, 2.4],\n",
              "        [6.9, 3.1, 5.1, 2.3],\n",
              "        [5.8, 2.7, 5.1, 1.9],\n",
              "        [6.8, 3.2, 5.9, 2.3],\n",
              "        [6.7, 3.3, 5.7, 2.5],\n",
              "        [6.7, 3. , 5.2, 2.3],\n",
              "        [6.3, 2.5, 5. , 1.9],\n",
              "        [6.5, 3. , 5.2, 2. ],\n",
              "        [6.2, 3.4, 5.4, 2.3],\n",
              "        [5.9, 3. , 5.1, 1.8]]),\n",
              " 'feature_names': ['sepal length (cm)',\n",
              "  'sepal width (cm)',\n",
              "  'petal length (cm)',\n",
              "  'petal width (cm)'],\n",
              " 'filename': '/usr/local/lib/python3.7/dist-packages/sklearn/datasets/data/iris.csv',\n",
              " 'target': array([0, 0, 0, 0, 0, 0, 0, 0, 0, 0, 0, 0, 0, 0, 0, 0, 0, 0, 0, 0, 0, 0,\n",
              "        0, 0, 0, 0, 0, 0, 0, 0, 0, 0, 0, 0, 0, 0, 0, 0, 0, 0, 0, 0, 0, 0,\n",
              "        0, 0, 0, 0, 0, 0, 1, 1, 1, 1, 1, 1, 1, 1, 1, 1, 1, 1, 1, 1, 1, 1,\n",
              "        1, 1, 1, 1, 1, 1, 1, 1, 1, 1, 1, 1, 1, 1, 1, 1, 1, 1, 1, 1, 1, 1,\n",
              "        1, 1, 1, 1, 1, 1, 1, 1, 1, 1, 1, 1, 2, 2, 2, 2, 2, 2, 2, 2, 2, 2,\n",
              "        2, 2, 2, 2, 2, 2, 2, 2, 2, 2, 2, 2, 2, 2, 2, 2, 2, 2, 2, 2, 2, 2,\n",
              "        2, 2, 2, 2, 2, 2, 2, 2, 2, 2, 2, 2, 2, 2, 2, 2, 2, 2]),\n",
              " 'target_names': array(['setosa', 'versicolor', 'virginica'], dtype='<U10')}"
            ]
          },
          "metadata": {},
          "execution_count": 48
        }
      ]
    },
    {
      "cell_type": "code",
      "metadata": {
        "colab": {
          "base_uri": "https://localhost:8080/",
          "height": 423
        },
        "id": "ec0tmki-1Xoo",
        "outputId": "8e9c8115-996e-46e7-d909-8d723ff97f8f"
      },
      "source": [
        "X=pd.DataFrame(iris.data)\n",
        "X"
      ],
      "execution_count": null,
      "outputs": [
        {
          "output_type": "execute_result",
          "data": {
            "text/html": [
              "<div>\n",
              "<style scoped>\n",
              "    .dataframe tbody tr th:only-of-type {\n",
              "        vertical-align: middle;\n",
              "    }\n",
              "\n",
              "    .dataframe tbody tr th {\n",
              "        vertical-align: top;\n",
              "    }\n",
              "\n",
              "    .dataframe thead th {\n",
              "        text-align: right;\n",
              "    }\n",
              "</style>\n",
              "<table border=\"1\" class=\"dataframe\">\n",
              "  <thead>\n",
              "    <tr style=\"text-align: right;\">\n",
              "      <th></th>\n",
              "      <th>0</th>\n",
              "      <th>1</th>\n",
              "      <th>2</th>\n",
              "      <th>3</th>\n",
              "    </tr>\n",
              "  </thead>\n",
              "  <tbody>\n",
              "    <tr>\n",
              "      <th>0</th>\n",
              "      <td>5.1</td>\n",
              "      <td>3.5</td>\n",
              "      <td>1.4</td>\n",
              "      <td>0.2</td>\n",
              "    </tr>\n",
              "    <tr>\n",
              "      <th>1</th>\n",
              "      <td>4.9</td>\n",
              "      <td>3.0</td>\n",
              "      <td>1.4</td>\n",
              "      <td>0.2</td>\n",
              "    </tr>\n",
              "    <tr>\n",
              "      <th>2</th>\n",
              "      <td>4.7</td>\n",
              "      <td>3.2</td>\n",
              "      <td>1.3</td>\n",
              "      <td>0.2</td>\n",
              "    </tr>\n",
              "    <tr>\n",
              "      <th>3</th>\n",
              "      <td>4.6</td>\n",
              "      <td>3.1</td>\n",
              "      <td>1.5</td>\n",
              "      <td>0.2</td>\n",
              "    </tr>\n",
              "    <tr>\n",
              "      <th>4</th>\n",
              "      <td>5.0</td>\n",
              "      <td>3.6</td>\n",
              "      <td>1.4</td>\n",
              "      <td>0.2</td>\n",
              "    </tr>\n",
              "    <tr>\n",
              "      <th>...</th>\n",
              "      <td>...</td>\n",
              "      <td>...</td>\n",
              "      <td>...</td>\n",
              "      <td>...</td>\n",
              "    </tr>\n",
              "    <tr>\n",
              "      <th>145</th>\n",
              "      <td>6.7</td>\n",
              "      <td>3.0</td>\n",
              "      <td>5.2</td>\n",
              "      <td>2.3</td>\n",
              "    </tr>\n",
              "    <tr>\n",
              "      <th>146</th>\n",
              "      <td>6.3</td>\n",
              "      <td>2.5</td>\n",
              "      <td>5.0</td>\n",
              "      <td>1.9</td>\n",
              "    </tr>\n",
              "    <tr>\n",
              "      <th>147</th>\n",
              "      <td>6.5</td>\n",
              "      <td>3.0</td>\n",
              "      <td>5.2</td>\n",
              "      <td>2.0</td>\n",
              "    </tr>\n",
              "    <tr>\n",
              "      <th>148</th>\n",
              "      <td>6.2</td>\n",
              "      <td>3.4</td>\n",
              "      <td>5.4</td>\n",
              "      <td>2.3</td>\n",
              "    </tr>\n",
              "    <tr>\n",
              "      <th>149</th>\n",
              "      <td>5.9</td>\n",
              "      <td>3.0</td>\n",
              "      <td>5.1</td>\n",
              "      <td>1.8</td>\n",
              "    </tr>\n",
              "  </tbody>\n",
              "</table>\n",
              "<p>150 rows × 4 columns</p>\n",
              "</div>"
            ],
            "text/plain": [
              "       0    1    2    3\n",
              "0    5.1  3.5  1.4  0.2\n",
              "1    4.9  3.0  1.4  0.2\n",
              "2    4.7  3.2  1.3  0.2\n",
              "3    4.6  3.1  1.5  0.2\n",
              "4    5.0  3.6  1.4  0.2\n",
              "..   ...  ...  ...  ...\n",
              "145  6.7  3.0  5.2  2.3\n",
              "146  6.3  2.5  5.0  1.9\n",
              "147  6.5  3.0  5.2  2.0\n",
              "148  6.2  3.4  5.4  2.3\n",
              "149  5.9  3.0  5.1  1.8\n",
              "\n",
              "[150 rows x 4 columns]"
            ]
          },
          "metadata": {},
          "execution_count": 49
        }
      ]
    },
    {
      "cell_type": "code",
      "metadata": {
        "colab": {
          "base_uri": "https://localhost:8080/",
          "height": 226
        },
        "id": "6V07e7vI1cjM",
        "outputId": "ef7548fb-976a-4c4b-8206-4485d3e20060"
      },
      "source": [
        "X.shape\n",
        "(150,4)\n",
        "X.columns=['Sepal_length','Sepal_width','petal_length','petal_width']\n",
        "X.head()"
      ],
      "execution_count": null,
      "outputs": [
        {
          "output_type": "execute_result",
          "data": {
            "text/html": [
              "<div>\n",
              "<style scoped>\n",
              "    .dataframe tbody tr th:only-of-type {\n",
              "        vertical-align: middle;\n",
              "    }\n",
              "\n",
              "    .dataframe tbody tr th {\n",
              "        vertical-align: top;\n",
              "    }\n",
              "\n",
              "    .dataframe thead th {\n",
              "        text-align: right;\n",
              "    }\n",
              "</style>\n",
              "<table border=\"1\" class=\"dataframe\">\n",
              "  <thead>\n",
              "    <tr style=\"text-align: right;\">\n",
              "      <th></th>\n",
              "      <th>Sepal_length</th>\n",
              "      <th>Sepal_width</th>\n",
              "      <th>petal_length</th>\n",
              "      <th>petal_width</th>\n",
              "    </tr>\n",
              "  </thead>\n",
              "  <tbody>\n",
              "    <tr>\n",
              "      <th>0</th>\n",
              "      <td>5.1</td>\n",
              "      <td>3.5</td>\n",
              "      <td>1.4</td>\n",
              "      <td>0.2</td>\n",
              "    </tr>\n",
              "    <tr>\n",
              "      <th>1</th>\n",
              "      <td>4.9</td>\n",
              "      <td>3.0</td>\n",
              "      <td>1.4</td>\n",
              "      <td>0.2</td>\n",
              "    </tr>\n",
              "    <tr>\n",
              "      <th>2</th>\n",
              "      <td>4.7</td>\n",
              "      <td>3.2</td>\n",
              "      <td>1.3</td>\n",
              "      <td>0.2</td>\n",
              "    </tr>\n",
              "    <tr>\n",
              "      <th>3</th>\n",
              "      <td>4.6</td>\n",
              "      <td>3.1</td>\n",
              "      <td>1.5</td>\n",
              "      <td>0.2</td>\n",
              "    </tr>\n",
              "    <tr>\n",
              "      <th>4</th>\n",
              "      <td>5.0</td>\n",
              "      <td>3.6</td>\n",
              "      <td>1.4</td>\n",
              "      <td>0.2</td>\n",
              "    </tr>\n",
              "  </tbody>\n",
              "</table>\n",
              "</div>"
            ],
            "text/plain": [
              "   Sepal_length  Sepal_width  petal_length  petal_width\n",
              "0           5.1          3.5           1.4          0.2\n",
              "1           4.9          3.0           1.4          0.2\n",
              "2           4.7          3.2           1.3          0.2\n",
              "3           4.6          3.1           1.5          0.2\n",
              "4           5.0          3.6           1.4          0.2"
            ]
          },
          "metadata": {},
          "execution_count": 50
        }
      ]
    },
    {
      "cell_type": "code",
      "metadata": {
        "colab": {
          "base_uri": "https://localhost:8080/",
          "height": 226
        },
        "id": "iPZT9r0D1eKv",
        "outputId": "2404a2eb-f5f2-4a42-d22b-901b14ea4fb4"
      },
      "source": [
        "X.tail()"
      ],
      "execution_count": null,
      "outputs": [
        {
          "output_type": "execute_result",
          "data": {
            "text/html": [
              "<div>\n",
              "<style scoped>\n",
              "    .dataframe tbody tr th:only-of-type {\n",
              "        vertical-align: middle;\n",
              "    }\n",
              "\n",
              "    .dataframe tbody tr th {\n",
              "        vertical-align: top;\n",
              "    }\n",
              "\n",
              "    .dataframe thead th {\n",
              "        text-align: right;\n",
              "    }\n",
              "</style>\n",
              "<table border=\"1\" class=\"dataframe\">\n",
              "  <thead>\n",
              "    <tr style=\"text-align: right;\">\n",
              "      <th></th>\n",
              "      <th>Sepal_length</th>\n",
              "      <th>Sepal_width</th>\n",
              "      <th>petal_length</th>\n",
              "      <th>petal_width</th>\n",
              "    </tr>\n",
              "  </thead>\n",
              "  <tbody>\n",
              "    <tr>\n",
              "      <th>145</th>\n",
              "      <td>6.7</td>\n",
              "      <td>3.0</td>\n",
              "      <td>5.2</td>\n",
              "      <td>2.3</td>\n",
              "    </tr>\n",
              "    <tr>\n",
              "      <th>146</th>\n",
              "      <td>6.3</td>\n",
              "      <td>2.5</td>\n",
              "      <td>5.0</td>\n",
              "      <td>1.9</td>\n",
              "    </tr>\n",
              "    <tr>\n",
              "      <th>147</th>\n",
              "      <td>6.5</td>\n",
              "      <td>3.0</td>\n",
              "      <td>5.2</td>\n",
              "      <td>2.0</td>\n",
              "    </tr>\n",
              "    <tr>\n",
              "      <th>148</th>\n",
              "      <td>6.2</td>\n",
              "      <td>3.4</td>\n",
              "      <td>5.4</td>\n",
              "      <td>2.3</td>\n",
              "    </tr>\n",
              "    <tr>\n",
              "      <th>149</th>\n",
              "      <td>5.9</td>\n",
              "      <td>3.0</td>\n",
              "      <td>5.1</td>\n",
              "      <td>1.8</td>\n",
              "    </tr>\n",
              "  </tbody>\n",
              "</table>\n",
              "</div>"
            ],
            "text/plain": [
              "     Sepal_length  Sepal_width  petal_length  petal_width\n",
              "145           6.7          3.0           5.2          2.3\n",
              "146           6.3          2.5           5.0          1.9\n",
              "147           6.5          3.0           5.2          2.0\n",
              "148           6.2          3.4           5.4          2.3\n",
              "149           5.9          3.0           5.1          1.8"
            ]
          },
          "metadata": {},
          "execution_count": 51
        }
      ]
    },
    {
      "cell_type": "code",
      "metadata": {
        "colab": {
          "base_uri": "https://localhost:8080/",
          "height": 320
        },
        "id": "0NAoVvCr1il9",
        "outputId": "690660c5-e85c-454a-88bb-c1e6df32b7ba"
      },
      "source": [
        "X.describe()"
      ],
      "execution_count": null,
      "outputs": [
        {
          "output_type": "execute_result",
          "data": {
            "text/html": [
              "<div>\n",
              "<style scoped>\n",
              "    .dataframe tbody tr th:only-of-type {\n",
              "        vertical-align: middle;\n",
              "    }\n",
              "\n",
              "    .dataframe tbody tr th {\n",
              "        vertical-align: top;\n",
              "    }\n",
              "\n",
              "    .dataframe thead th {\n",
              "        text-align: right;\n",
              "    }\n",
              "</style>\n",
              "<table border=\"1\" class=\"dataframe\">\n",
              "  <thead>\n",
              "    <tr style=\"text-align: right;\">\n",
              "      <th></th>\n",
              "      <th>Sepal_length</th>\n",
              "      <th>Sepal_width</th>\n",
              "      <th>petal_length</th>\n",
              "      <th>petal_width</th>\n",
              "    </tr>\n",
              "  </thead>\n",
              "  <tbody>\n",
              "    <tr>\n",
              "      <th>count</th>\n",
              "      <td>150.000000</td>\n",
              "      <td>150.000000</td>\n",
              "      <td>150.000000</td>\n",
              "      <td>150.000000</td>\n",
              "    </tr>\n",
              "    <tr>\n",
              "      <th>mean</th>\n",
              "      <td>5.843333</td>\n",
              "      <td>3.057333</td>\n",
              "      <td>3.758000</td>\n",
              "      <td>1.199333</td>\n",
              "    </tr>\n",
              "    <tr>\n",
              "      <th>std</th>\n",
              "      <td>0.828066</td>\n",
              "      <td>0.435866</td>\n",
              "      <td>1.765298</td>\n",
              "      <td>0.762238</td>\n",
              "    </tr>\n",
              "    <tr>\n",
              "      <th>min</th>\n",
              "      <td>4.300000</td>\n",
              "      <td>2.000000</td>\n",
              "      <td>1.000000</td>\n",
              "      <td>0.100000</td>\n",
              "    </tr>\n",
              "    <tr>\n",
              "      <th>25%</th>\n",
              "      <td>5.100000</td>\n",
              "      <td>2.800000</td>\n",
              "      <td>1.600000</td>\n",
              "      <td>0.300000</td>\n",
              "    </tr>\n",
              "    <tr>\n",
              "      <th>50%</th>\n",
              "      <td>5.800000</td>\n",
              "      <td>3.000000</td>\n",
              "      <td>4.350000</td>\n",
              "      <td>1.300000</td>\n",
              "    </tr>\n",
              "    <tr>\n",
              "      <th>75%</th>\n",
              "      <td>6.400000</td>\n",
              "      <td>3.300000</td>\n",
              "      <td>5.100000</td>\n",
              "      <td>1.800000</td>\n",
              "    </tr>\n",
              "    <tr>\n",
              "      <th>max</th>\n",
              "      <td>7.900000</td>\n",
              "      <td>4.400000</td>\n",
              "      <td>6.900000</td>\n",
              "      <td>2.500000</td>\n",
              "    </tr>\n",
              "  </tbody>\n",
              "</table>\n",
              "</div>"
            ],
            "text/plain": [
              "       Sepal_length  Sepal_width  petal_length  petal_width\n",
              "count    150.000000   150.000000    150.000000   150.000000\n",
              "mean       5.843333     3.057333      3.758000     1.199333\n",
              "std        0.828066     0.435866      1.765298     0.762238\n",
              "min        4.300000     2.000000      1.000000     0.100000\n",
              "25%        5.100000     2.800000      1.600000     0.300000\n",
              "50%        5.800000     3.000000      4.350000     1.300000\n",
              "75%        6.400000     3.300000      5.100000     1.800000\n",
              "max        7.900000     4.400000      6.900000     2.500000"
            ]
          },
          "metadata": {},
          "execution_count": 52
        }
      ]
    },
    {
      "cell_type": "code",
      "metadata": {
        "colab": {
          "base_uri": "https://localhost:8080/",
          "height": 194
        },
        "id": "rmMYO0N61mvE",
        "outputId": "40056b38-8067-4f60-94f2-b426c7facdf0"
      },
      "source": [
        "X.cov()"
      ],
      "execution_count": null,
      "outputs": [
        {
          "output_type": "execute_result",
          "data": {
            "text/html": [
              "<div>\n",
              "<style scoped>\n",
              "    .dataframe tbody tr th:only-of-type {\n",
              "        vertical-align: middle;\n",
              "    }\n",
              "\n",
              "    .dataframe tbody tr th {\n",
              "        vertical-align: top;\n",
              "    }\n",
              "\n",
              "    .dataframe thead th {\n",
              "        text-align: right;\n",
              "    }\n",
              "</style>\n",
              "<table border=\"1\" class=\"dataframe\">\n",
              "  <thead>\n",
              "    <tr style=\"text-align: right;\">\n",
              "      <th></th>\n",
              "      <th>Sepal_length</th>\n",
              "      <th>Sepal_width</th>\n",
              "      <th>petal_length</th>\n",
              "      <th>petal_width</th>\n",
              "    </tr>\n",
              "  </thead>\n",
              "  <tbody>\n",
              "    <tr>\n",
              "      <th>Sepal_length</th>\n",
              "      <td>0.685694</td>\n",
              "      <td>-0.042434</td>\n",
              "      <td>1.274315</td>\n",
              "      <td>0.516271</td>\n",
              "    </tr>\n",
              "    <tr>\n",
              "      <th>Sepal_width</th>\n",
              "      <td>-0.042434</td>\n",
              "      <td>0.189979</td>\n",
              "      <td>-0.329656</td>\n",
              "      <td>-0.121639</td>\n",
              "    </tr>\n",
              "    <tr>\n",
              "      <th>petal_length</th>\n",
              "      <td>1.274315</td>\n",
              "      <td>-0.329656</td>\n",
              "      <td>3.116278</td>\n",
              "      <td>1.295609</td>\n",
              "    </tr>\n",
              "    <tr>\n",
              "      <th>petal_width</th>\n",
              "      <td>0.516271</td>\n",
              "      <td>-0.121639</td>\n",
              "      <td>1.295609</td>\n",
              "      <td>0.581006</td>\n",
              "    </tr>\n",
              "  </tbody>\n",
              "</table>\n",
              "</div>"
            ],
            "text/plain": [
              "              Sepal_length  Sepal_width  petal_length  petal_width\n",
              "Sepal_length      0.685694    -0.042434      1.274315     0.516271\n",
              "Sepal_width      -0.042434     0.189979     -0.329656    -0.121639\n",
              "petal_length      1.274315    -0.329656      3.116278     1.295609\n",
              "petal_width       0.516271    -0.121639      1.295609     0.581006"
            ]
          },
          "metadata": {},
          "execution_count": 53
        }
      ]
    },
    {
      "cell_type": "code",
      "metadata": {
        "colab": {
          "base_uri": "https://localhost:8080/",
          "height": 194
        },
        "id": "a6XxumLm1rRf",
        "outputId": "41809767-af0d-4377-9c6d-d5d855dda15e"
      },
      "source": [
        "X.corr()"
      ],
      "execution_count": null,
      "outputs": [
        {
          "output_type": "execute_result",
          "data": {
            "text/html": [
              "<div>\n",
              "<style scoped>\n",
              "    .dataframe tbody tr th:only-of-type {\n",
              "        vertical-align: middle;\n",
              "    }\n",
              "\n",
              "    .dataframe tbody tr th {\n",
              "        vertical-align: top;\n",
              "    }\n",
              "\n",
              "    .dataframe thead th {\n",
              "        text-align: right;\n",
              "    }\n",
              "</style>\n",
              "<table border=\"1\" class=\"dataframe\">\n",
              "  <thead>\n",
              "    <tr style=\"text-align: right;\">\n",
              "      <th></th>\n",
              "      <th>Sepal_length</th>\n",
              "      <th>Sepal_width</th>\n",
              "      <th>petal_length</th>\n",
              "      <th>petal_width</th>\n",
              "    </tr>\n",
              "  </thead>\n",
              "  <tbody>\n",
              "    <tr>\n",
              "      <th>Sepal_length</th>\n",
              "      <td>1.000000</td>\n",
              "      <td>-0.117570</td>\n",
              "      <td>0.871754</td>\n",
              "      <td>0.817941</td>\n",
              "    </tr>\n",
              "    <tr>\n",
              "      <th>Sepal_width</th>\n",
              "      <td>-0.117570</td>\n",
              "      <td>1.000000</td>\n",
              "      <td>-0.428440</td>\n",
              "      <td>-0.366126</td>\n",
              "    </tr>\n",
              "    <tr>\n",
              "      <th>petal_length</th>\n",
              "      <td>0.871754</td>\n",
              "      <td>-0.428440</td>\n",
              "      <td>1.000000</td>\n",
              "      <td>0.962865</td>\n",
              "    </tr>\n",
              "    <tr>\n",
              "      <th>petal_width</th>\n",
              "      <td>0.817941</td>\n",
              "      <td>-0.366126</td>\n",
              "      <td>0.962865</td>\n",
              "      <td>1.000000</td>\n",
              "    </tr>\n",
              "  </tbody>\n",
              "</table>\n",
              "</div>"
            ],
            "text/plain": [
              "              Sepal_length  Sepal_width  petal_length  petal_width\n",
              "Sepal_length      1.000000    -0.117570      0.871754     0.817941\n",
              "Sepal_width      -0.117570     1.000000     -0.428440    -0.366126\n",
              "petal_length      0.871754    -0.428440      1.000000     0.962865\n",
              "petal_width       0.817941    -0.366126      0.962865     1.000000"
            ]
          },
          "metadata": {},
          "execution_count": 54
        }
      ]
    },
    {
      "cell_type": "code",
      "metadata": {
        "colab": {
          "base_uri": "https://localhost:8080/"
        },
        "id": "S1nfnB4N1zGG",
        "outputId": "a3e45a23-5e08-40c3-9f85-deea5d86e789"
      },
      "source": [
        "import numpy as np\n",
        "df=pd.DataFrame({'Name':['Pooji','Nani','Chinni','Chikki'],'state':['IND','USA','UK','USSR'],'Grade':['A','A','B','C'],'Age':np.random.uniform(24,35,size=4),'salary':np.random.uniform(3000,5000,size=4),})\n",
        "print(df)"
      ],
      "execution_count": null,
      "outputs": [
        {
          "output_type": "stream",
          "name": "stdout",
          "text": [
            "     Name state Grade        Age       salary\n",
            "0   Pooji   IND     A  27.603819  4645.940632\n",
            "1    Nani   USA     A  26.234208  4000.073731\n",
            "2  Chinni    UK     B  30.267988  3559.669108\n",
            "3  Chikki  USSR     C  33.970459  4325.229522\n"
          ]
        }
      ]
    },
    {
      "cell_type": "code",
      "metadata": {
        "colab": {
          "base_uri": "https://localhost:8080/",
          "height": 226
        },
        "id": "Npkr2BqN10ja",
        "outputId": "30b7c544-2dfd-47b4-c376-f1cacdaf4225"
      },
      "source": [
        "import numpy as np\n",
        "import pandas as pd\n",
        "df=pd.DataFrame({'Name':['Pooji','Nani','Chinni','Chikki'],'state':['IND','USA','UK','USSR'],'Grade':['A','A','B','C'],'Age':np.random.uniform(24,35,size=4),'salary':np.random.uniform(3000,5000,size=4),})\n",
        "df.groupby(['Name','state']).max()"
      ],
      "execution_count": null,
      "outputs": [
        {
          "output_type": "execute_result",
          "data": {
            "text/html": [
              "<div>\n",
              "<style scoped>\n",
              "    .dataframe tbody tr th:only-of-type {\n",
              "        vertical-align: middle;\n",
              "    }\n",
              "\n",
              "    .dataframe tbody tr th {\n",
              "        vertical-align: top;\n",
              "    }\n",
              "\n",
              "    .dataframe thead th {\n",
              "        text-align: right;\n",
              "    }\n",
              "</style>\n",
              "<table border=\"1\" class=\"dataframe\">\n",
              "  <thead>\n",
              "    <tr style=\"text-align: right;\">\n",
              "      <th></th>\n",
              "      <th></th>\n",
              "      <th>Grade</th>\n",
              "      <th>Age</th>\n",
              "      <th>salary</th>\n",
              "    </tr>\n",
              "    <tr>\n",
              "      <th>Name</th>\n",
              "      <th>state</th>\n",
              "      <th></th>\n",
              "      <th></th>\n",
              "      <th></th>\n",
              "    </tr>\n",
              "  </thead>\n",
              "  <tbody>\n",
              "    <tr>\n",
              "      <th>Chikki</th>\n",
              "      <th>USSR</th>\n",
              "      <td>C</td>\n",
              "      <td>27.301845</td>\n",
              "      <td>4694.620793</td>\n",
              "    </tr>\n",
              "    <tr>\n",
              "      <th>Chinni</th>\n",
              "      <th>UK</th>\n",
              "      <td>B</td>\n",
              "      <td>27.814914</td>\n",
              "      <td>3651.375505</td>\n",
              "    </tr>\n",
              "    <tr>\n",
              "      <th>Nani</th>\n",
              "      <th>USA</th>\n",
              "      <td>A</td>\n",
              "      <td>25.854940</td>\n",
              "      <td>4140.547447</td>\n",
              "    </tr>\n",
              "    <tr>\n",
              "      <th>Pooji</th>\n",
              "      <th>IND</th>\n",
              "      <td>A</td>\n",
              "      <td>32.665060</td>\n",
              "      <td>4804.568174</td>\n",
              "    </tr>\n",
              "  </tbody>\n",
              "</table>\n",
              "</div>"
            ],
            "text/plain": [
              "             Grade        Age       salary\n",
              "Name   state                              \n",
              "Chikki USSR      C  27.301845  4694.620793\n",
              "Chinni UK        B  27.814914  3651.375505\n",
              "Nani   USA       A  25.854940  4140.547447\n",
              "Pooji  IND       A  32.665060  4804.568174"
            ]
          },
          "metadata": {},
          "execution_count": 56
        }
      ]
    },
    {
      "cell_type": "markdown",
      "metadata": {
        "id": "uQZQqH7G1-aA"
      },
      "source": [
        "# **Scipy**"
      ]
    },
    {
      "cell_type": "code",
      "metadata": {
        "colab": {
          "base_uri": "https://localhost:8080/"
        },
        "id": "_HB2MKMz2AfY",
        "outputId": "a8d0f913-0e4a-4384-cd88-4e9a1b943d70"
      },
      "source": [
        "import numpy as np\n",
        "np.linspace(1.,4.,6)"
      ],
      "execution_count": null,
      "outputs": [
        {
          "output_type": "execute_result",
          "data": {
            "text/plain": [
              "array([1. , 1.6, 2.2, 2.8, 3.4, 4. ])"
            ]
          },
          "metadata": {},
          "execution_count": 57
        }
      ]
    },
    {
      "cell_type": "code",
      "metadata": {
        "colab": {
          "base_uri": "https://localhost:8080/"
        },
        "id": "sU_puzyt2GHk",
        "outputId": "b4c09e02-b826-426b-e598-91a8a58e3f22"
      },
      "source": [
        "from scipy.cluster.vq import kmeans,vq,whiten\n",
        "from numpy import vstack,array\n",
        "from numpy.random import rand\n",
        " \n",
        "data=vstack((rand(100,3)+array([.5,.5,.5]),rand(100,3)))\n",
        "data"
      ],
      "execution_count": null,
      "outputs": [
        {
          "output_type": "execute_result",
          "data": {
            "text/plain": [
              "array([[1.22170263e+00, 1.18158811e+00, 8.57718338e-01],\n",
              "       [8.37370372e-01, 1.06564493e+00, 1.04737292e+00],\n",
              "       [7.32127895e-01, 7.38134807e-01, 1.27908777e+00],\n",
              "       [1.17967481e+00, 1.25812776e+00, 8.46608710e-01],\n",
              "       [8.84568696e-01, 1.10315294e+00, 1.25856458e+00],\n",
              "       [7.04695882e-01, 1.47297473e+00, 8.79462855e-01],\n",
              "       [1.07279641e+00, 8.65823618e-01, 6.17689580e-01],\n",
              "       [1.07897131e+00, 1.41520762e+00, 7.91304603e-01],\n",
              "       [1.02256132e+00, 1.00194819e+00, 5.40446448e-01],\n",
              "       [1.48367585e+00, 6.91680619e-01, 9.55775673e-01],\n",
              "       [5.44580841e-01, 8.32102187e-01, 1.09198060e+00],\n",
              "       [1.32183700e+00, 5.31868606e-01, 1.28294415e+00],\n",
              "       [8.27533741e-01, 1.41076507e+00, 7.25259255e-01],\n",
              "       [1.02039939e+00, 5.87965838e-01, 5.49504957e-01],\n",
              "       [8.98071281e-01, 5.20658669e-01, 1.16403043e+00],\n",
              "       [1.16271599e+00, 1.47870999e+00, 7.71348270e-01],\n",
              "       [8.48711339e-01, 7.55004960e-01, 7.21728148e-01],\n",
              "       [6.99319887e-01, 1.16918208e+00, 1.44431784e+00],\n",
              "       [6.99928127e-01, 5.53645013e-01, 9.19688251e-01],\n",
              "       [8.73192406e-01, 9.88416398e-01, 6.25768727e-01],\n",
              "       [1.49803465e+00, 8.55168341e-01, 1.22329842e+00],\n",
              "       [1.48155619e+00, 9.48903734e-01, 1.43943768e+00],\n",
              "       [1.41012927e+00, 1.14702943e+00, 1.34958351e+00],\n",
              "       [5.10563855e-01, 6.08567119e-01, 9.23975060e-01],\n",
              "       [1.00561107e+00, 6.26808035e-01, 8.38168665e-01],\n",
              "       [7.34182400e-01, 6.34773689e-01, 1.28118602e+00],\n",
              "       [1.29482684e+00, 8.09366006e-01, 1.04465463e+00],\n",
              "       [8.11514649e-01, 8.53230688e-01, 1.15440453e+00],\n",
              "       [7.92581179e-01, 8.32441028e-01, 1.05611381e+00],\n",
              "       [6.60270194e-01, 1.20827375e+00, 1.48122028e+00],\n",
              "       [1.11522143e+00, 1.30014926e+00, 1.42781407e+00],\n",
              "       [7.96054653e-01, 1.21684304e+00, 8.28740480e-01],\n",
              "       [1.23308794e+00, 1.09095866e+00, 6.58916780e-01],\n",
              "       [6.48728634e-01, 1.32566835e+00, 8.65056479e-01],\n",
              "       [6.55384715e-01, 1.14980869e+00, 1.42961800e+00],\n",
              "       [5.19997836e-01, 1.23429521e+00, 7.15036927e-01],\n",
              "       [9.04562104e-01, 5.56213332e-01, 9.15548294e-01],\n",
              "       [5.10618657e-01, 1.26408994e+00, 1.22443026e+00],\n",
              "       [7.09121438e-01, 1.26958700e+00, 1.22163523e+00],\n",
              "       [1.24409797e+00, 1.17813164e+00, 1.31101202e+00],\n",
              "       [1.20414464e+00, 6.99601594e-01, 8.11179054e-01],\n",
              "       [1.30746828e+00, 1.23903802e+00, 9.92530742e-01],\n",
              "       [6.53903006e-01, 1.12877609e+00, 8.69855983e-01],\n",
              "       [1.32770220e+00, 5.64486521e-01, 8.86520844e-01],\n",
              "       [1.07597824e+00, 8.29380131e-01, 6.80480520e-01],\n",
              "       [1.45794348e+00, 1.15511923e+00, 1.18128452e+00],\n",
              "       [6.52093177e-01, 1.33218475e+00, 1.45177446e+00],\n",
              "       [8.56520998e-01, 1.36173880e+00, 5.25438132e-01],\n",
              "       [1.07514473e+00, 1.44139196e+00, 5.44896952e-01],\n",
              "       [1.24312130e+00, 7.68639692e-01, 8.10450384e-01],\n",
              "       [7.46764180e-01, 6.59096498e-01, 5.24795943e-01],\n",
              "       [1.21640886e+00, 1.45876919e+00, 1.19978868e+00],\n",
              "       [1.32027024e+00, 9.23772917e-01, 1.38027515e+00],\n",
              "       [1.10778047e+00, 1.15834542e+00, 1.01988722e+00],\n",
              "       [1.08023544e+00, 1.07578843e+00, 6.07117783e-01],\n",
              "       [1.41237956e+00, 1.24604352e+00, 1.40512778e+00],\n",
              "       [6.48245941e-01, 9.91505292e-01, 1.13255841e+00],\n",
              "       [1.32147299e+00, 7.04078256e-01, 8.39674158e-01],\n",
              "       [6.86781654e-01, 5.94662418e-01, 6.14299058e-01],\n",
              "       [1.38312209e+00, 7.58811252e-01, 8.51202524e-01],\n",
              "       [1.07859140e+00, 1.44335012e+00, 5.91294850e-01],\n",
              "       [7.39560542e-01, 6.06902341e-01, 1.33284245e+00],\n",
              "       [1.13514138e+00, 8.80170323e-01, 1.31001208e+00],\n",
              "       [5.67857793e-01, 1.41176091e+00, 1.34337431e+00],\n",
              "       [6.63500896e-01, 8.48420483e-01, 1.44601096e+00],\n",
              "       [1.22842315e+00, 1.10518361e+00, 5.02881961e-01],\n",
              "       [7.21899553e-01, 7.11120261e-01, 8.42158841e-01],\n",
              "       [7.47725551e-01, 1.05790783e+00, 1.17351724e+00],\n",
              "       [8.87334946e-01, 7.65975819e-01, 1.24684638e+00],\n",
              "       [8.77448515e-01, 1.41513574e+00, 1.31371042e+00],\n",
              "       [1.04298533e+00, 7.30120921e-01, 6.49340679e-01],\n",
              "       [5.71234133e-01, 9.28590723e-01, 8.69350960e-01],\n",
              "       [1.26655717e+00, 1.45521215e+00, 8.18879520e-01],\n",
              "       [6.06167851e-01, 1.04479686e+00, 6.05235884e-01],\n",
              "       [5.76955216e-01, 1.30003598e+00, 1.47950354e+00],\n",
              "       [1.16663814e+00, 7.56085048e-01, 1.01203191e+00],\n",
              "       [6.19757920e-01, 1.23537382e+00, 7.04700607e-01],\n",
              "       [7.68024411e-01, 1.43014882e+00, 8.07041934e-01],\n",
              "       [1.42779789e+00, 1.33716946e+00, 7.07545678e-01],\n",
              "       [9.02710868e-01, 1.45415547e+00, 5.64796495e-01],\n",
              "       [7.76492127e-01, 7.81926100e-01, 5.14815646e-01],\n",
              "       [1.29615010e+00, 1.32141127e+00, 7.86400298e-01],\n",
              "       [1.44432525e+00, 1.44419121e+00, 7.17172417e-01],\n",
              "       [5.85484480e-01, 8.05936273e-01, 1.40009657e+00],\n",
              "       [8.77086140e-01, 1.15309326e+00, 1.25090591e+00],\n",
              "       [7.94644666e-01, 1.06584645e+00, 8.13782553e-01],\n",
              "       [1.03390529e+00, 5.63388902e-01, 5.11810542e-01],\n",
              "       [1.37851472e+00, 1.00369891e+00, 9.42168591e-01],\n",
              "       [1.03401316e+00, 8.63920589e-01, 1.39634942e+00],\n",
              "       [6.24109385e-01, 1.24316710e+00, 7.37449652e-01],\n",
              "       [1.34520148e+00, 1.34619112e+00, 1.28809419e+00],\n",
              "       [1.09948645e+00, 1.38824951e+00, 9.26094709e-01],\n",
              "       [1.33807298e+00, 1.39736045e+00, 8.88044971e-01],\n",
              "       [1.42775458e+00, 1.05319831e+00, 9.17097417e-01],\n",
              "       [9.29930623e-01, 1.42119448e+00, 1.09325012e+00],\n",
              "       [6.52717082e-01, 1.07667554e+00, 1.39069506e+00],\n",
              "       [6.59333851e-01, 1.36679662e+00, 1.42709892e+00],\n",
              "       [8.84014397e-01, 9.83992403e-01, 9.80188104e-01],\n",
              "       [1.08533002e+00, 1.17517016e+00, 8.56052080e-01],\n",
              "       [6.42415772e-01, 9.36561588e-01, 1.46580069e+00],\n",
              "       [8.34416278e-01, 6.64230073e-01, 1.56036415e-01],\n",
              "       [3.09565859e-01, 8.54454691e-01, 6.56150230e-01],\n",
              "       [3.58636062e-01, 1.74179679e-01, 5.20646447e-01],\n",
              "       [6.06053873e-01, 5.44504653e-01, 5.13371079e-01],\n",
              "       [5.26309776e-01, 1.74831260e-01, 1.21017627e-01],\n",
              "       [7.69474434e-01, 5.18079908e-01, 4.42070944e-02],\n",
              "       [1.01252553e-01, 2.93059231e-01, 8.36134321e-01],\n",
              "       [4.51262746e-01, 3.85087049e-01, 1.61344539e-01],\n",
              "       [2.58855951e-01, 4.08894937e-02, 7.10471433e-01],\n",
              "       [1.83880587e-01, 9.25240652e-01, 8.55533623e-01],\n",
              "       [9.77641501e-01, 1.00960779e-01, 2.14022279e-01],\n",
              "       [4.75704856e-01, 1.85577992e-01, 7.64154849e-01],\n",
              "       [6.80437595e-01, 4.39000221e-01, 8.58165854e-01],\n",
              "       [1.18724531e-01, 6.73913274e-01, 4.72158738e-01],\n",
              "       [9.15527960e-01, 5.24724029e-01, 7.97238516e-01],\n",
              "       [7.31981085e-01, 7.78555822e-01, 9.65339316e-01],\n",
              "       [7.62121213e-01, 1.85649056e-01, 2.76386642e-02],\n",
              "       [4.32595360e-01, 2.44312386e-01, 2.09345785e-01],\n",
              "       [5.59406310e-01, 3.54608369e-01, 5.60139074e-01],\n",
              "       [7.09979878e-01, 5.28725350e-01, 4.34610092e-01],\n",
              "       [3.79652300e-01, 4.86955863e-01, 9.22838926e-01],\n",
              "       [9.90987271e-01, 5.40541099e-01, 1.25766787e-01],\n",
              "       [2.04674423e-01, 5.36035573e-01, 5.24052052e-01],\n",
              "       [6.56081673e-01, 5.95646765e-01, 2.59935951e-01],\n",
              "       [4.08138995e-01, 1.83931974e-01, 6.91495976e-01],\n",
              "       [9.64149532e-01, 5.58217908e-01, 2.43280375e-01],\n",
              "       [6.16703055e-01, 7.73809217e-01, 5.85960883e-01],\n",
              "       [3.38873046e-02, 1.35425787e-01, 7.17850765e-01],\n",
              "       [9.12429651e-02, 6.81080262e-01, 8.34208166e-01],\n",
              "       [7.90065326e-02, 9.07392546e-01, 1.03119041e-01],\n",
              "       [4.78133924e-01, 5.21223914e-01, 1.82955498e-01],\n",
              "       [9.33145152e-02, 7.63609214e-01, 3.75887928e-03],\n",
              "       [2.41445585e-01, 9.14142595e-01, 1.90290584e-01],\n",
              "       [7.07992263e-01, 7.30261676e-01, 2.91582197e-01],\n",
              "       [1.23836621e-01, 8.81642356e-01, 5.40473464e-01],\n",
              "       [9.59475597e-01, 9.52548564e-02, 9.58647966e-01],\n",
              "       [4.04652837e-01, 1.82358589e-01, 6.14817970e-01],\n",
              "       [8.49014407e-01, 9.29198543e-01, 2.90832081e-02],\n",
              "       [8.49652463e-01, 8.77688288e-01, 5.39543112e-01],\n",
              "       [5.30481070e-01, 7.99087721e-01, 7.81655931e-01],\n",
              "       [8.37092062e-01, 5.45168708e-01, 3.94823784e-01],\n",
              "       [7.37313402e-01, 7.14721609e-01, 6.95409842e-02],\n",
              "       [7.61743346e-01, 4.89040771e-01, 6.10378027e-01],\n",
              "       [2.24340923e-01, 8.93669395e-01, 4.26388115e-01],\n",
              "       [4.50262797e-01, 4.36001955e-01, 9.98502632e-01],\n",
              "       [2.54314719e-01, 7.66793931e-02, 6.11319666e-01],\n",
              "       [6.78130257e-01, 4.28423697e-01, 4.29088071e-01],\n",
              "       [6.18388954e-01, 2.83024519e-01, 7.10157937e-01],\n",
              "       [1.97775589e-01, 9.79281363e-01, 3.58321647e-01],\n",
              "       [8.30118095e-01, 8.15222904e-01, 5.82013921e-01],\n",
              "       [8.68340992e-01, 6.71647551e-01, 5.32962306e-01],\n",
              "       [1.55909871e-01, 1.17667613e-01, 6.42313285e-01],\n",
              "       [7.45824194e-01, 7.58952331e-01, 8.93761673e-01],\n",
              "       [9.94221427e-01, 4.44101049e-01, 2.96286195e-02],\n",
              "       [6.00530663e-01, 9.74838862e-01, 9.87399573e-01],\n",
              "       [8.22927191e-01, 9.37194244e-01, 4.43671103e-01],\n",
              "       [6.39358904e-01, 4.04056939e-02, 4.49662341e-01],\n",
              "       [9.49143742e-01, 2.83129229e-01, 8.33169978e-01],\n",
              "       [9.20507720e-01, 3.50373412e-02, 7.08936539e-01],\n",
              "       [7.69872437e-01, 3.45429432e-01, 7.76239982e-01],\n",
              "       [9.22430729e-01, 9.46256724e-01, 5.51961774e-01],\n",
              "       [4.59020243e-01, 9.74605488e-01, 3.75289008e-01],\n",
              "       [3.85289844e-01, 1.14420991e-01, 1.98311366e-01],\n",
              "       [2.07024647e-02, 6.43867139e-01, 1.83099399e-01],\n",
              "       [6.20554813e-01, 1.03965866e-01, 5.08599912e-01],\n",
              "       [6.47828724e-02, 7.33820200e-02, 7.17604858e-01],\n",
              "       [9.03130713e-01, 8.46182900e-01, 4.18367302e-03],\n",
              "       [1.56498326e-01, 6.55630303e-01, 4.38663526e-01],\n",
              "       [5.94325674e-01, 6.27187809e-01, 8.53633320e-01],\n",
              "       [3.84277492e-01, 2.88223477e-01, 9.02317954e-01],\n",
              "       [8.18736510e-01, 2.98272582e-01, 4.62327032e-01],\n",
              "       [2.84752707e-01, 1.66797262e-01, 1.69162933e-01],\n",
              "       [1.72313927e-01, 7.94706239e-02, 9.77480446e-02],\n",
              "       [5.33294734e-01, 9.66407620e-01, 7.86963769e-01],\n",
              "       [3.68012790e-01, 8.73976413e-01, 3.56089503e-01],\n",
              "       [4.79856047e-01, 8.11866173e-01, 6.22942488e-02],\n",
              "       [4.86793961e-01, 4.47569164e-01, 8.28551850e-01],\n",
              "       [8.51566544e-01, 4.38713220e-01, 5.80991958e-01],\n",
              "       [5.89986685e-01, 5.22281997e-02, 2.41373924e-01],\n",
              "       [5.08148535e-01, 5.48921567e-01, 8.13487567e-01],\n",
              "       [3.26020942e-01, 4.92557588e-01, 1.68935374e-01],\n",
              "       [1.11580438e-01, 7.38451757e-01, 8.36160268e-01],\n",
              "       [4.84231878e-01, 3.41620134e-02, 4.87590560e-01],\n",
              "       [7.06364625e-04, 5.44858821e-01, 1.38164931e-01],\n",
              "       [3.71822953e-01, 3.94230881e-01, 1.41232692e-01],\n",
              "       [9.80556493e-01, 1.60364525e-01, 7.52845571e-01],\n",
              "       [1.39441069e-01, 4.35641016e-01, 8.30493521e-01],\n",
              "       [6.45956858e-01, 4.44510675e-01, 4.19609678e-01],\n",
              "       [1.29353679e-01, 4.20610915e-01, 6.17882885e-01],\n",
              "       [4.59855302e-01, 1.31251662e-01, 8.86087911e-01],\n",
              "       [2.25059008e-01, 1.11672567e-01, 2.24317662e-03],\n",
              "       [8.15958855e-01, 2.02230056e-01, 8.33373493e-02],\n",
              "       [2.54822377e-01, 8.32361698e-01, 8.56530223e-01],\n",
              "       [1.92731187e-01, 5.26416182e-01, 1.97946925e-02],\n",
              "       [6.64950858e-01, 6.91393583e-01, 6.58379609e-01],\n",
              "       [2.32469955e-02, 1.28061722e-01, 2.26220701e-01],\n",
              "       [9.67533264e-01, 8.70546774e-01, 8.36104453e-01],\n",
              "       [4.53524461e-01, 6.61390184e-01, 8.42402606e-01],\n",
              "       [3.78097954e-01, 3.04196527e-01, 8.79116316e-01],\n",
              "       [1.65266161e-01, 9.32651921e-01, 7.15769611e-01]])"
            ]
          },
          "metadata": {},
          "execution_count": 58
        }
      ]
    },
    {
      "cell_type": "code",
      "metadata": {
        "colab": {
          "base_uri": "https://localhost:8080/"
        },
        "id": "SHtl_QdY2Ko1",
        "outputId": "dfcf2f2f-8228-4da3-9500-30e88a00261e"
      },
      "source": [
        "data=whiten(data)\n",
        "data"
      ],
      "execution_count": null,
      "outputs": [
        {
          "output_type": "execute_result",
          "data": {
            "text/plain": [
              "array([[3.31469847e+00, 2.98494448e+00, 2.23860296e+00],\n",
              "       [2.27193610e+00, 2.69204718e+00, 2.73359215e+00],\n",
              "       [1.98639437e+00, 1.86468651e+00, 3.33835658e+00],\n",
              "       [3.20066946e+00, 3.17830001e+00, 2.20960737e+00],\n",
              "       [2.39999362e+00, 2.78680045e+00, 3.28479208e+00],\n",
              "       [1.91196640e+00, 3.72104944e+00, 2.29535508e+00],\n",
              "       [2.91068918e+00, 2.18725578e+00, 1.61213962e+00],\n",
              "       [2.92744280e+00, 3.57511736e+00, 2.06526635e+00],\n",
              "       [2.77439237e+00, 2.53113560e+00, 1.41053882e+00],\n",
              "       [4.02547883e+00, 1.74733329e+00, 2.49452781e+00],\n",
              "       [1.47754555e+00, 2.10206822e+00, 2.85001602e+00],\n",
              "       [3.58638101e+00, 1.34361394e+00, 3.34842155e+00],\n",
              "       [2.24524755e+00, 3.56389451e+00, 1.89289122e+00],\n",
              "       [2.76852666e+00, 1.48532755e+00, 1.43418109e+00],\n",
              "       [2.43662856e+00, 1.31529524e+00, 3.03806255e+00],\n",
              "       [3.15465716e+00, 3.73553793e+00, 2.01318130e+00],\n",
              "       [2.30270618e+00, 1.90730413e+00, 1.88367520e+00],\n",
              "       [1.89738036e+00, 2.95360418e+00, 3.76959900e+00],\n",
              "       [1.89903062e+00, 1.39862580e+00, 2.40034140e+00],\n",
              "       [2.36912770e+00, 2.49695138e+00, 1.63322580e+00],\n",
              "       [4.06443684e+00, 2.16033827e+00, 3.19274910e+00],\n",
              "       [4.01972782e+00, 2.39713393e+00, 3.75686201e+00],\n",
              "       [3.82593378e+00, 2.89764185e+00, 3.52234703e+00],\n",
              "       [1.38525137e+00, 1.53737080e+00, 2.41152976e+00],\n",
              "       [2.72840330e+00, 1.58345126e+00, 2.18757927e+00],\n",
              "       [1.99196861e+00, 1.60357420e+00, 3.34383291e+00],\n",
              "       [3.51309759e+00, 2.04463177e+00, 2.72649755e+00],\n",
              "       [2.20178488e+00, 2.15544334e+00, 3.01293943e+00],\n",
              "       [2.15041498e+00, 2.10292421e+00, 2.75640545e+00],\n",
              "       [1.79143153e+00, 3.05235811e+00, 3.86591257e+00],\n",
              "       [3.02579588e+00, 3.28445532e+00, 3.72652496e+00],\n",
              "       [2.15983914e+00, 3.07400597e+00, 2.16297216e+00],\n",
              "       [3.34558887e+00, 2.75599509e+00, 1.71974060e+00],\n",
              "       [1.76011721e+00, 3.34892199e+00, 2.25775515e+00],\n",
              "       [1.77817635e+00, 2.90466285e+00, 3.73123313e+00],\n",
              "       [1.41084745e+00, 3.11809388e+00, 1.86621144e+00],\n",
              "       [2.45423932e+00, 1.40511393e+00, 2.38953632e+00],\n",
              "       [1.38540005e+00, 3.19336175e+00, 3.19570316e+00],\n",
              "       [1.92397372e+00, 3.20724850e+00, 3.18840825e+00],\n",
              "       [3.37546106e+00, 2.97621268e+00, 3.42167731e+00],\n",
              "       [3.26706050e+00, 1.76734337e+00, 2.11713770e+00],\n",
              "       [3.54739609e+00, 3.13007523e+00, 2.59045674e+00],\n",
              "       [1.77415621e+00, 2.85153000e+00, 2.27028162e+00],\n",
              "       [3.60229434e+00, 1.42601377e+00, 2.31377609e+00],\n",
              "       [2.91932206e+00, 2.09519173e+00, 1.77602091e+00],\n",
              "       [3.95566232e+00, 2.91807842e+00, 3.08309488e+00],\n",
              "       [1.76924581e+00, 3.36538381e+00, 3.78906042e+00],\n",
              "       [2.32389518e+00, 3.44004368e+00, 1.37136785e+00],\n",
              "       [2.91706060e+00, 3.64126461e+00, 1.42215442e+00],\n",
              "       [3.37281117e+00, 1.94174838e+00, 2.11523591e+00],\n",
              "       [2.02610524e+00, 1.66501883e+00, 1.36969177e+00],\n",
              "       [3.30033553e+00, 3.68516320e+00, 3.13138983e+00],\n",
              "       [3.58213011e+00, 2.33364811e+00, 3.60245071e+00],\n",
              "       [3.00560722e+00, 2.92622846e+00, 2.66185580e+00],\n",
              "       [2.93087260e+00, 2.71767184e+00, 1.58454775e+00],\n",
              "       [3.83203921e+00, 3.14777264e+00, 3.66731486e+00],\n",
              "       [1.75880757e+00, 2.50475459e+00, 2.95592212e+00],\n",
              "       [3.58539337e+00, 1.77865237e+00, 2.19150853e+00],\n",
              "       [1.86336188e+00, 1.50224455e+00, 1.60329053e+00],\n",
              "       [3.75265844e+00, 1.91691964e+00, 2.22159700e+00],\n",
              "       [2.92641203e+00, 3.64621134e+00, 1.54325067e+00],\n",
              "       [2.00656047e+00, 1.53316521e+00, 3.47865367e+00],\n",
              "       [3.07984227e+00, 2.22349863e+00, 3.41906752e+00],\n",
              "       [1.54070010e+00, 3.56641022e+00, 3.50614131e+00],\n",
              "       [1.80019700e+00, 2.14329173e+00, 3.77401797e+00],\n",
              "       [3.33293246e+00, 2.79193035e+00, 1.31249735e+00],\n",
              "       [1.95864304e+00, 1.79644199e+00, 2.19799343e+00],\n",
              "       [2.02871361e+00, 2.67250161e+00, 3.06282267e+00],\n",
              "       [2.40749895e+00, 1.93501887e+00, 3.25420813e+00],\n",
              "       [2.38067529e+00, 3.57493576e+00, 3.42872002e+00],\n",
              "       [2.82980639e+00, 1.84444172e+00, 1.69474745e+00],\n",
              "       [1.54986072e+00, 2.34581892e+00, 2.26896353e+00],\n",
              "       [3.43639689e+00, 3.67617736e+00, 2.13723554e+00],\n",
              "       [1.64464216e+00, 2.63938049e+00, 1.57963609e+00],\n",
              "       [1.56538304e+00, 3.28416914e+00, 3.86143196e+00],\n",
              "       [3.16529865e+00, 1.91003266e+00, 2.64135385e+00],\n",
              "       [1.68151446e+00, 3.12081868e+00, 1.83923415e+00],\n",
              "       [2.08378806e+00, 3.61286202e+00, 2.10634002e+00],\n",
              "       [3.87387191e+00, 3.37797627e+00, 1.84665965e+00],\n",
              "       [2.44921659e+00, 3.67350797e+00, 1.47409126e+00],\n",
              "       [2.10676249e+00, 1.97531269e+00, 1.34364368e+00],\n",
              "       [3.51668784e+00, 3.33816771e+00, 2.05246636e+00],\n",
              "       [3.91871360e+00, 3.64833611e+00, 1.87178497e+00],\n",
              "       [1.58852447e+00, 2.03596753e+00, 3.65418364e+00],\n",
              "       [2.37969210e+00, 2.91296038e+00, 3.26480332e+00],\n",
              "       [2.15601359e+00, 2.69255627e+00, 2.12393271e+00],\n",
              "       [2.80517061e+00, 1.42324095e+00, 1.33580051e+00],\n",
              "       [3.74015784e+00, 2.53555829e+00, 2.45901399e+00],\n",
              "       [2.80546326e+00, 2.18244832e+00, 3.64440378e+00],\n",
              "       [1.69332076e+00, 3.14050619e+00, 1.92470756e+00],\n",
              "       [3.64977304e+00, 3.40076691e+00, 3.36186291e+00],\n",
              "       [2.98310406e+00, 3.50701540e+00, 2.41706194e+00],\n",
              "       [3.63043213e+00, 3.53003159e+00, 2.31775399e+00],\n",
              "       [3.87375441e+00, 2.66060435e+00, 2.39357945e+00],\n",
              "       [2.52306867e+00, 3.59024144e+00, 2.85332941e+00],\n",
              "       [1.77093858e+00, 2.71991285e+00, 3.62964617e+00],\n",
              "       [1.78889106e+00, 3.45282082e+00, 3.72465846e+00],\n",
              "       [2.39848971e+00, 2.48577542e+00, 2.55824306e+00],\n",
              "       [2.94469512e+00, 2.96873136e+00, 2.23425410e+00],\n",
              "       [1.74298928e+00, 2.36595503e+00, 3.82566819e+00],\n",
              "       [2.26392111e+00, 1.67798733e+00, 4.07247421e-01],\n",
              "       [8.39907732e-01, 2.15853544e+00, 1.71252004e+00],\n",
              "       [9.73043999e-01, 4.40015149e-01, 1.35886179e+00],\n",
              "       [1.64433292e+00, 1.37553530e+00, 1.33987343e+00],\n",
              "       [1.42797288e+00, 4.41661183e-01, 3.15850093e-01],\n",
              "       [2.08772223e+00, 1.30878074e+00, 1.15378357e-01],\n",
              "       [2.74716347e-01, 7.40330343e-01, 2.18226973e+00],\n",
              "       [1.22435682e+00, 9.72812309e-01, 4.21101365e-01],\n",
              "       [7.02322651e-01, 1.03295613e-01, 1.85429573e+00],\n",
              "       [4.98901033e-01, 2.33735592e+00, 2.23290096e+00],\n",
              "       [2.65251684e+00, 2.55048537e-01, 5.58587692e-01],\n",
              "       [1.29067265e+00, 4.68809728e-01, 1.99440682e+00],\n",
              "       [1.84614931e+00, 1.10900852e+00, 2.23977095e+00],\n",
              "       [3.22120960e-01, 1.70244917e+00, 1.23231124e+00],\n",
              "       [2.48399166e+00, 1.32556521e+00, 2.08075358e+00],\n",
              "       [1.98599605e+00, 1.96679865e+00, 2.51948845e+00],\n",
              "       [2.06777162e+00, 4.68989251e-01, 7.21355633e-02],\n",
              "       [1.17370885e+00, 6.17185378e-01, 5.46382272e-01],\n",
              "       [1.51776971e+00, 8.95816640e-01, 1.46193562e+00],\n",
              "       [1.92630282e+00, 1.33567340e+00, 1.13431111e+00],\n",
              "       [1.03006482e+00, 1.23015474e+00, 2.40856451e+00],\n",
              "       [2.68872631e+00, 1.36552251e+00, 3.28245168e-01],\n",
              "       [5.55318440e-01, 1.35414059e+00, 1.36775025e+00],\n",
              "       [1.78006732e+00, 1.50473122e+00, 6.78420132e-01],\n",
              "       [1.10735434e+00, 4.64651535e-01, 1.80477071e+00],\n",
              "       [2.61591071e+00, 1.41017792e+00, 6.34949894e-01],\n",
              "       [1.67322607e+00, 1.95480771e+00, 1.52932927e+00],\n",
              "       [9.19423388e-02, 3.42114525e-01, 1.87355542e+00],\n",
              "       [2.47558539e-01, 1.72055452e+00, 2.17724256e+00],\n",
              "       [2.14358902e-01, 2.29226779e+00, 2.69135659e-01],\n",
              "       [1.29726314e+00, 1.31672317e+00, 4.77504911e-01],\n",
              "       [2.53179026e-01, 1.92904032e+00, 9.81049127e-03],\n",
              "       [6.55085203e-01, 2.30931986e+00, 4.96649127e-01],\n",
              "       [1.92091007e+00, 1.84479730e+00, 7.61015287e-01],\n",
              "       [3.35990976e-01, 2.22721730e+00, 1.41060933e+00],\n",
              "       [2.60322949e+00, 2.40634155e-01, 2.50202436e+00],\n",
              "       [1.09789577e+00, 4.60676827e-01, 1.60464486e+00],\n",
              "       [2.30352845e+00, 2.34735440e+00, 7.59057522e-02],\n",
              "       [2.30525961e+00, 2.21722848e+00, 1.40818116e+00],\n",
              "       [1.43929035e+00, 2.01866662e+00, 2.04008379e+00],\n",
              "       [2.27118099e+00, 1.37721284e+00, 1.03047079e+00],\n",
              "       [2.00046358e+00, 1.80553976e+00, 1.81498571e-01],\n",
              "       [2.06674640e+00, 1.23542166e+00, 1.59305683e+00],\n",
              "       [6.08677184e-01, 2.25760017e+00, 1.11285215e+00],\n",
              "       [1.22164377e+00, 1.10143426e+00, 2.60604308e+00],\n",
              "       [6.90001474e-01, 1.93708559e-01, 1.59551446e+00],\n",
              "       [1.83988909e+00, 1.08228996e+00, 1.11989890e+00],\n",
              "       [1.67780021e+00, 7.14980513e-01, 1.85347752e+00],\n",
              "       [5.36600665e-01, 2.47387433e+00, 9.35201993e-01],\n",
              "       [2.25225937e+00, 2.05942754e+00, 1.51902790e+00],\n",
              "       [2.35596495e+00, 1.69672547e+00, 1.39100558e+00],\n",
              "       [4.23011461e-01, 2.97253576e-01, 1.67640629e+00],\n",
              "       [2.02355489e+00, 1.91727603e+00, 2.33267430e+00],\n",
              "       [2.69750116e+00, 1.12189431e+00, 7.73292494e-02],\n",
              "       [1.62934746e+00, 2.46265162e+00, 2.57706464e+00],\n",
              "       [2.23274915e+00, 2.36755326e+00, 1.15795990e+00],\n",
              "       [1.73469545e+00, 1.02073431e-01, 1.17359674e+00],\n",
              "       [2.57519731e+00, 7.15245034e-01, 2.17453294e+00],\n",
              "       [2.49750264e+00, 8.85118231e-02, 1.85028973e+00],\n",
              "       [2.08880209e+00, 8.72628680e-01, 2.02594843e+00],\n",
              "       [2.50272011e+00, 2.39044702e+00, 1.44059326e+00],\n",
              "       [1.24540430e+00, 2.46206206e+00, 9.79485976e-01],\n",
              "       [1.04536049e+00, 2.89051914e-01, 5.17582977e-01],\n",
              "       [5.61695021e-02, 1.62654621e+00, 4.77880486e-01],\n",
              "       [1.68367657e+00, 2.62640031e-01, 1.32742092e+00],\n",
              "       [1.75767559e-01, 1.85378689e-01, 1.87291362e+00],\n",
              "       [2.45035570e+00, 2.13763912e+00, 1.09191822e-02],\n",
              "       [4.24608045e-01, 1.65626248e+00, 1.14489037e+00],\n",
              "       [1.61251221e+00, 1.58441065e+00, 2.22794126e+00],\n",
              "       [1.04261380e+00, 7.28114194e-01, 2.35500578e+00],\n",
              "       [2.22137908e+00, 7.53500384e-01, 1.20665096e+00],\n",
              "       [7.72585196e-01, 4.21365586e-01, 4.41506991e-01],\n",
              "       [4.67518608e-01, 2.00759806e-01, 2.55117621e-01],\n",
              "       [1.44692432e+00, 2.44135250e+00, 2.05393699e+00],\n",
              "       [9.98484744e-01, 2.20785148e+00, 9.29376206e-01],\n",
              "       [1.30193557e+00, 2.05094772e+00, 1.62584946e-01],\n",
              "       [1.32075938e+00, 1.13065550e+00, 2.16247985e+00],\n",
              "       [2.31045286e+00, 1.10828349e+00, 1.51636063e+00],\n",
              "       [1.60073976e+00, 1.31939611e-01, 6.29974148e-01],\n",
              "       [1.37869817e+00, 1.38669337e+00, 2.12316281e+00],\n",
              "       [8.84553326e-01, 1.24430589e+00, 4.40913073e-01],\n",
              "       [3.02737752e-01, 1.86548719e+00, 2.18233745e+00],\n",
              "       [1.31380799e+00, 8.63005579e-02, 1.27258754e+00],\n",
              "       [1.91649399e-03, 1.37643000e+00, 3.60603720e-01],\n",
              "       [1.00882240e+00, 9.95911586e-01, 3.68610427e-01],\n",
              "       [2.66042574e+00, 4.05115115e-01, 1.96489016e+00],\n",
              "       [3.78328645e-01, 1.10052245e+00, 2.16754751e+00],\n",
              "       [1.75259688e+00, 1.12292911e+00, 1.09516076e+00],\n",
              "       [3.50959744e-01, 1.06255320e+00, 1.61264414e+00],\n",
              "       [1.24766996e+00, 3.31569790e-01, 2.31264616e+00],\n",
              "       [6.10625478e-01, 2.82108807e-01, 5.85458139e-03],\n",
              "       [2.21384281e+00, 5.10876407e-01, 2.17506410e-01],\n",
              "       [6.91378839e-01, 2.10272381e+00, 2.23550203e+00],\n",
              "       [5.22914298e-01, 1.32983995e+00, 5.16631804e-02],\n",
              "       [1.80413101e+00, 1.74660818e+00, 1.71833861e+00],\n",
              "       [6.30732707e-02, 3.23511321e-01, 5.90424978e-01],\n",
              "       [2.62509138e+00, 2.19918748e+00, 2.18219177e+00],\n",
              "       [1.23049325e+00, 1.67081317e+00, 2.19862964e+00],\n",
              "       [1.02584760e+00, 7.68465537e-01, 2.29445063e+00],\n",
              "       [4.48396754e-01, 2.35607838e+00, 1.86812371e+00]])"
            ]
          },
          "metadata": {},
          "execution_count": 59
        }
      ]
    },
    {
      "cell_type": "code",
      "metadata": {
        "colab": {
          "base_uri": "https://localhost:8080/"
        },
        "id": "ridqjn6V2Upo",
        "outputId": "38bb3d2e-819d-44c4-a171-5cd2fd05b6bc"
      },
      "source": [
        "centroids,_=kmeans(data,3)\n",
        "centroids"
      ],
      "execution_count": null,
      "outputs": [
        {
          "output_type": "execute_result",
          "data": {
            "text/plain": [
              "array([[3.27020932, 2.73788985, 2.34944619],\n",
              "       [1.88663358, 2.57076235, 2.8448722 ],\n",
              "       [1.40363094, 1.195722  , 1.24209008]])"
            ]
          },
          "metadata": {},
          "execution_count": 60
        }
      ]
    },
    {
      "cell_type": "code",
      "metadata": {
        "colab": {
          "base_uri": "https://localhost:8080/"
        },
        "id": "PFZXhwuW2WqX",
        "outputId": "38a4b77d-0009-48f5-beb7-e5e2e0e84c32"
      },
      "source": [
        "clx,_=vq(data,centroids)\n",
        "clx"
      ],
      "execution_count": null,
      "outputs": [
        {
          "output_type": "execute_result",
          "data": {
            "text/plain": [
              "array([0, 1, 1, 0, 1, 1, 0, 0, 0, 0, 1, 0, 0, 2, 1, 0, 1, 1, 1, 0, 0, 0,\n",
              "       0, 2, 0, 1, 0, 1, 1, 1, 0, 1, 0, 1, 1, 1, 1, 1, 1, 0, 0, 0, 1, 0,\n",
              "       0, 0, 1, 0, 0, 0, 2, 0, 0, 0, 0, 0, 1, 0, 2, 0, 0, 1, 0, 1, 1, 0,\n",
              "       1, 1, 1, 1, 0, 1, 0, 1, 1, 0, 1, 1, 0, 0, 2, 0, 0, 1, 1, 1, 2, 0,\n",
              "       1, 1, 0, 0, 0, 0, 1, 1, 1, 1, 0, 1, 2, 2, 2, 2, 2, 2, 2, 2, 2, 1,\n",
              "       2, 2, 2, 2, 2, 1, 2, 2, 2, 2, 2, 2, 2, 2, 2, 2, 2, 2, 2, 2, 2, 2,\n",
              "       2, 2, 2, 2, 2, 2, 2, 1, 2, 2, 2, 2, 2, 2, 2, 2, 2, 2, 2, 2, 1, 2,\n",
              "       1, 2, 2, 2, 2, 2, 0, 2, 2, 2, 2, 2, 2, 2, 2, 2, 2, 2, 2, 1, 2, 2,\n",
              "       2, 2, 2, 2, 2, 2, 2, 2, 2, 2, 2, 2, 2, 2, 2, 2, 1, 2, 2, 2, 0, 2,\n",
              "       2, 2], dtype=int32)"
            ]
          },
          "metadata": {},
          "execution_count": 61
        }
      ]
    },
    {
      "cell_type": "code",
      "metadata": {
        "colab": {
          "base_uri": "https://localhost:8080/"
        },
        "id": "uLt0yHFE2bgG",
        "outputId": "99dc9744-76f4-48b0-9188-9d2e1a7341df"
      },
      "source": [
        "from scipy.fftpack import fft\n",
        " \n",
        "x=np.array([1.0,2.0,1.0,-1.0,1.5])\n",
        " \n",
        "y=fft(x)\n",
        "print(\"FFT :\\n\",y)"
      ],
      "execution_count": null,
      "outputs": [
        {
          "output_type": "stream",
          "name": "stdout",
          "text": [
            "FFT :\n",
            " [ 4.5       -0.j          2.08155948-1.65109876j -1.83155948+1.60822041j\n",
            " -1.83155948-1.60822041j  2.08155948+1.65109876j]\n"
          ]
        }
      ]
    },
    {
      "cell_type": "code",
      "metadata": {
        "colab": {
          "base_uri": "https://localhost:8080/"
        },
        "id": "OxWLaHUu2fzB",
        "outputId": "5120bd10-ed7f-4c26-d7cc-20b0b83c68b9"
      },
      "source": [
        "from scipy.fftpack import ifft\n",
        "yinv=ifft(y)\n",
        "print(\"FFT Inverse:\\n\",yinv)"
      ],
      "execution_count": null,
      "outputs": [
        {
          "output_type": "stream",
          "name": "stdout",
          "text": [
            "FFT Inverse:\n",
            " [ 1. +0.j  2. +0.j  1. +0.j -1. +0.j  1.5+0.j]\n"
          ]
        }
      ]
    },
    {
      "cell_type": "code",
      "metadata": {
        "colab": {
          "base_uri": "https://localhost:8080/"
        },
        "id": "GeaPf48v2lWE",
        "outputId": "9e357e5c-d00e-40c1-9df9-88283d39105a"
      },
      "source": [
        "from scipy.fftpack import dct\n",
        "print(\"DCT:\\n\",dct(np.array([4.,3.,5.,10.,5.,3.])))"
      ],
      "execution_count": null,
      "outputs": [
        {
          "output_type": "stream",
          "name": "stdout",
          "text": [
            "DCT:\n",
            " [ 60.          -3.48476592 -13.85640646  11.3137085    6.\n",
            "  -6.31319305]\n"
          ]
        }
      ]
    },
    {
      "cell_type": "code",
      "metadata": {
        "colab": {
          "base_uri": "https://localhost:8080/"
        },
        "id": "CasGQJf02quO",
        "outputId": "e4a8673a-4507-4d1e-e121-91418c9b9bdf"
      },
      "source": [
        "from scipy.fftpack import idct\n",
        "print(\"IDCT:\\n\",idct(np.array([4.,3.,5.,10.,5.,3.])))"
      ],
      "execution_count": null,
      "outputs": [
        {
          "output_type": "stream",
          "name": "stdout",
          "text": [
            "IDCT:\n",
            " [ 39.15085889 -20.14213562  -6.45392043   7.13341236   8.14213562\n",
            "  -3.83035081]\n"
          ]
        }
      ]
    },
    {
      "cell_type": "markdown",
      "metadata": {
        "id": "t5C6AAkq2ufN"
      },
      "source": [
        " # **SciPy-Integrated**"
      ]
    },
    {
      "cell_type": "markdown",
      "metadata": {
        "id": "BAgvcEWd2zLi"
      },
      "source": [
        " The general form of quad is scipy.integrate.quad(f,a,b), Where 'f' is the name of the function to be integrated. Whereas, 'a' and 'b' are the lower and upper limits, respectively. Let us see an example of the Gaussian function, integrated over a range of 0 and 1"
      ]
    },
    {
      "cell_type": "markdown",
      "metadata": {
        "id": "opYaGDfW22fk"
      },
      "source": [
        "   # **∫f(x)dx**"
      ]
    },
    {
      "cell_type": "code",
      "metadata": {
        "colab": {
          "base_uri": "https://localhost:8080/"
        },
        "id": "e8ygUfU_26Oy",
        "outputId": "cf2d4b7d-3f3b-40dc-83dc-927760e4f2bf"
      },
      "source": [
        "import scipy.integrate\n",
        "from numpy import exp\n",
        "f=lambda x:exp(-x**2)\n",
        "i=scipy.integrate.quad(f,0,1)\n",
        "print(i)"
      ],
      "execution_count": null,
      "outputs": [
        {
          "output_type": "stream",
          "name": "stdout",
          "text": [
            "(0.7468241328124271, 8.291413475940725e-15)\n"
          ]
        }
      ]
    },
    {
      "cell_type": "markdown",
      "metadata": {
        "id": "HR67iCWo3DE5"
      },
      "source": [
        "# **Linear Algebra**"
      ]
    },
    {
      "cell_type": "markdown",
      "metadata": {
        "id": "RBW0d2QF3Dxc"
      },
      "source": [
        " **x+3y+5z=10**\n",
        " \n",
        "**2x+5y+z=8**\n",
        " \n",
        "**2x+3y+8z=3 ***"
      ]
    },
    {
      "cell_type": "code",
      "metadata": {
        "colab": {
          "base_uri": "https://localhost:8080/"
        },
        "id": "31FHzYMX3Irz",
        "outputId": "d735c8e5-5d74-4dd6-a6cb-942c03ad8a8e"
      },
      "source": [
        "from scipy import linalg\n",
        "import numpy as np\n",
        " \n",
        "a=np.array([[1,3,5],[2,5,1],[2,3,8]])\n",
        "b=np.array([10,8,3])\n",
        " \n",
        "X=linalg.solve(a,b)\n",
        " \n",
        "print(X)"
      ],
      "execution_count": null,
      "outputs": [
        {
          "output_type": "stream",
          "name": "stdout",
          "text": [
            "[-9.28  5.16  0.76]\n"
          ]
        }
      ]
    },
    {
      "cell_type": "markdown",
      "metadata": {
        "id": "-_Rj2D9y3Qvs"
      },
      "source": [
        "# **Finding an Determinant**"
      ]
    },
    {
      "cell_type": "code",
      "metadata": {
        "colab": {
          "base_uri": "https://localhost:8080/"
        },
        "id": "AcV209n13UoB",
        "outputId": "6c3e2fa9-0395-4771-e7be-51fbd67fd190"
      },
      "source": [
        "from scipy import linalg\n",
        "import numpy as np\n",
        " \n",
        "A=np.array([[1,2],[3,4]])\n",
        " \n",
        "x=linalg.det(A)\n",
        " \n",
        "print(x)"
      ],
      "execution_count": null,
      "outputs": [
        {
          "output_type": "stream",
          "name": "stdout",
          "text": [
            "-2.0\n"
          ]
        }
      ]
    },
    {
      "cell_type": "markdown",
      "metadata": {
        "id": "pssX4bMx3ZzH"
      },
      "source": [
        "# **Eigen values and Eigen Vectors**"
      ]
    },
    {
      "cell_type": "code",
      "metadata": {
        "colab": {
          "base_uri": "https://localhost:8080/"
        },
        "id": "j-FPEAil3aeN",
        "outputId": "366bea0a-2d74-41f6-8b89-e80a37742c63"
      },
      "source": [
        "from scipy import linalg\n",
        "import numpy as np\n",
        " \n",
        "A=np.array([[1,2],[3,4]])\n",
        " \n",
        "l,v=linalg.eig(A)\n",
        " \n",
        "print(\"Eigen Values :\\n\",l)\n",
        " \n",
        "print(\"Eigen Vectors:\\n\",v)"
      ],
      "execution_count": null,
      "outputs": [
        {
          "output_type": "stream",
          "name": "stdout",
          "text": [
            "Eigen Values :\n",
            " [-0.37228132+0.j  5.37228132+0.j]\n",
            "Eigen Vectors:\n",
            " [[-0.82456484 -0.41597356]\n",
            " [ 0.56576746 -0.90937671]]\n"
          ]
        }
      ]
    },
    {
      "cell_type": "markdown",
      "metadata": {
        "id": "X9K7qU-X3h2J"
      },
      "source": [
        "# **Matplot Library**"
      ]
    },
    {
      "cell_type": "code",
      "metadata": {
        "colab": {
          "base_uri": "https://localhost:8080/",
          "height": 199
        },
        "id": "CVwALknY3ig6",
        "outputId": "2d9ee1fb-a867-4aef-9037-dd9c81c51e83"
      },
      "source": [
        "import matplotlib.pyplot as plt\n",
        "import numpy as np\n",
        " \n",
        "x=np.arange(5)\n",
        "y=(35,45,23,27,60)\n",
        " \n",
        "plt.bar(x,y)\n",
        "plt.show()"
      ],
      "execution_count": null,
      "outputs": [
        {
          "output_type": "display_data",
          "data": {
            "image/png": "[encoded data removed]",
            "text/plain": [
              "<Figure size 432x288 with 1 Axes>"
            ]
          },
          "metadata": {
            "needs_background": "light"
          }
        }
      ]
    },
    {
      "cell_type": "code",
      "metadata": {
        "colab": {
          "base_uri": "https://localhost:8080/",
          "height": 199
        },
        "id": "JDnnkbxy3pAf",
        "outputId": "fdf2b003-0631-4d76-e711-5c37572ca07e"
      },
      "source": [
        "plt.scatter(x,y)\n",
        "plt.show()"
      ],
      "execution_count": null,
      "outputs": [
        {
          "output_type": "display_data",
          "data": {
            "image/png": "[encoded data removed]",
            "text/plain": [
              "<Figure size 432x288 with 1 Axes>"
            ]
          },
          "metadata": {
            "needs_background": "light"
          }
        }
      ]
    },
    {
      "cell_type": "code",
      "metadata": {
        "colab": {
          "base_uri": "https://localhost:8080/",
          "height": 226
        },
        "id": "FjRLdH4Z3q7S",
        "outputId": "32e550c2-ca36-4788-d293-1c0c1e4a78f9"
      },
      "source": [
        "import pandas as pd\n",
        "from sklearn.datasets import load_iris\n",
        "iris=load_iris()\n",
        "df=pd.DataFrame(iris.data)\n",
        " \n",
        "df.columns=['sepal_Length','sepal_Width','petal_Length','petal_Width']\n",
        "df.head()"
      ],
      "execution_count": null,
      "outputs": [
        {
          "output_type": "execute_result",
          "data": {
            "text/html": [
              "<div>\n",
              "<style scoped>\n",
              "    .dataframe tbody tr th:only-of-type {\n",
              "        vertical-align: middle;\n",
              "    }\n",
              "\n",
              "    .dataframe tbody tr th {\n",
              "        vertical-align: top;\n",
              "    }\n",
              "\n",
              "    .dataframe thead th {\n",
              "        text-align: right;\n",
              "    }\n",
              "</style>\n",
              "<table border=\"1\" class=\"dataframe\">\n",
              "  <thead>\n",
              "    <tr style=\"text-align: right;\">\n",
              "      <th></th>\n",
              "      <th>sepal_Length</th>\n",
              "      <th>sepal_Width</th>\n",
              "      <th>petal_Length</th>\n",
              "      <th>petal_Width</th>\n",
              "    </tr>\n",
              "  </thead>\n",
              "  <tbody>\n",
              "    <tr>\n",
              "      <th>0</th>\n",
              "      <td>5.1</td>\n",
              "      <td>3.5</td>\n",
              "      <td>1.4</td>\n",
              "      <td>0.2</td>\n",
              "    </tr>\n",
              "    <tr>\n",
              "      <th>1</th>\n",
              "      <td>4.9</td>\n",
              "      <td>3.0</td>\n",
              "      <td>1.4</td>\n",
              "      <td>0.2</td>\n",
              "    </tr>\n",
              "    <tr>\n",
              "      <th>2</th>\n",
              "      <td>4.7</td>\n",
              "      <td>3.2</td>\n",
              "      <td>1.3</td>\n",
              "      <td>0.2</td>\n",
              "    </tr>\n",
              "    <tr>\n",
              "      <th>3</th>\n",
              "      <td>4.6</td>\n",
              "      <td>3.1</td>\n",
              "      <td>1.5</td>\n",
              "      <td>0.2</td>\n",
              "    </tr>\n",
              "    <tr>\n",
              "      <th>4</th>\n",
              "      <td>5.0</td>\n",
              "      <td>3.6</td>\n",
              "      <td>1.4</td>\n",
              "      <td>0.2</td>\n",
              "    </tr>\n",
              "  </tbody>\n",
              "</table>\n",
              "</div>"
            ],
            "text/plain": [
              "   sepal_Length  sepal_Width  petal_Length  petal_Width\n",
              "0           5.1          3.5           1.4          0.2\n",
              "1           4.9          3.0           1.4          0.2\n",
              "2           4.7          3.2           1.3          0.2\n",
              "3           4.6          3.1           1.5          0.2\n",
              "4           5.0          3.6           1.4          0.2"
            ]
          },
          "metadata": {},
          "execution_count": 72
        }
      ]
    },
    {
      "cell_type": "code",
      "metadata": {
        "colab": {
          "base_uri": "https://localhost:8080/",
          "height": 211
        },
        "id": "W1WVe4gR3vRM",
        "outputId": "56d1fc07-e656-4015-f68b-ade2bbcb3777"
      },
      "source": [
        "df.hist()\n",
        "plt.show()"
      ],
      "execution_count": null,
      "outputs": [
        {
          "output_type": "display_data",
          "data": {
            "image/png": "[encoded data removed]",
            "text/plain": [
              "<Figure size 432x288 with 4 Axes>"
            ]
          },
          "metadata": {
            "needs_background": "light"
          }
        }
      ]
    },
    {
      "cell_type": "code",
      "metadata": {
        "colab": {
          "base_uri": "https://localhost:8080/",
          "height": 202
        },
        "id": "oIupXS6r30Ux",
        "outputId": "eaa885c2-baf1-4cc1-c9b8-9337e1f95bdc"
      },
      "source": [
        "df.plot()\n",
        "plt.show()"
      ],
      "execution_count": null,
      "outputs": [
        {
          "output_type": "display_data",
          "data": {
            "image/png": "[encoded data removed]",
            "text/plain": [
              "<Figure size 432x288 with 1 Axes>"
            ]
          },
          "metadata": {
            "needs_background": "light"
          }
        }
      ]
    },
    {
      "cell_type": "code",
      "metadata": {
        "colab": {
          "base_uri": "https://localhost:8080/",
          "height": 203
        },
        "id": "H5FihDvK34m_",
        "outputId": "e10ecf18-c0b5-4042-e248-5610e5471f2f"
      },
      "source": [
        "df.boxplot()\n",
        "plt.show()"
      ],
      "execution_count": null,
      "outputs": [
        {
          "output_type": "display_data",
          "data": {
            "image/png": "[encoded data removed]",
            "text/plain": [
              "<Figure size 432x288 with 1 Axes>"
            ]
          },
          "metadata": {
            "needs_background": "light"
          }
        }
      ]
    },
    {
      "cell_type": "code",
      "metadata": {
        "colab": {
          "base_uri": "https://localhost:8080/",
          "height": 201
        },
        "id": "yS58DZob39VR",
        "outputId": "bd4ca961-9630-4cd5-81cd-97d19839c6c0"
      },
      "source": [
        "import numpy as np\n",
        "x=np.linspace(0,20,1000)\n",
        "y=np.sin(x)\n",
        " \n",
        "plt.plot(x,y,label='sample Label')\n",
        "plt.title('sample plot title')\n",
        "plt.xlabel('x axis label')\n",
        "plt.ylabel('y axis label')\n",
        "plt.grid(True)\n",
        " \n",
        "plt.figtext(0.5,0.01,'Fig1:Sinusodial', ha='right',va='bottom')\n",
        " \n",
        "plt.legend(loc='best',framealpha=0.5,prop={'size':'small'})\n",
        " \n",
        "plt.tight_layout(pad=1)\n",
        " \n",
        "plt.show()"
      ],
      "execution_count": null,
      "outputs": [
        {
          "output_type": "display_data",
          "data": {
            "image/png": "[encoded data removed]",
            "text/plain": [
              "<Figure size 432x288 with 1 Axes>"
            ]
          },
          "metadata": {
            "needs_background": "light"
          }
        }
      ]
    }
  ]
}